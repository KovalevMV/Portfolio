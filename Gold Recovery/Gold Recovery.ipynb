{
  "cells": [
    {
      "cell_type": "markdown",
      "metadata": {
        "toc": true,
        "id": "pY6E8YQiAzkF"
      },
      "source": [
        "<h1>Содержание<span class=\"tocSkip\"></span></h1>\n",
        "<div class=\"toc\"><ul class=\"toc-item\"><li><span><a href=\"#Описание-данных\" data-toc-modified-id=\"Описание-данных-1\"><span class=\"toc-item-num\">1&nbsp;&nbsp;</span>Описание данных</a></span><ul class=\"toc-item\"><li><span><a href=\"#Параметры-этапов\" data-toc-modified-id=\"Параметры-этапов-1.1\"><span class=\"toc-item-num\">1.1&nbsp;&nbsp;</span>Параметры этапов</a></span></li><li><span><a href=\"#Наименование-признаков\" data-toc-modified-id=\"Наименование-признаков-1.2\"><span class=\"toc-item-num\">1.2&nbsp;&nbsp;</span>Наименование признаков</a></span></li><li><span><a href=\"#Возможные-значения-для-блока-[этап]:\" data-toc-modified-id=\"Возможные-значения-для-блока-[этап]:-1.3\"><span class=\"toc-item-num\">1.3&nbsp;&nbsp;</span>Возможные значения для блока [этап]:</a></span></li><li><span><a href=\"#Расчёт-эффективности\" data-toc-modified-id=\"Расчёт-эффективности-1.4\"><span class=\"toc-item-num\">1.4&nbsp;&nbsp;</span>Расчёт эффективности</a></span></li></ul></li><li><span><a href=\"#Загрузка-данных:\" data-toc-modified-id=\"Загрузка-данных:-2\"><span class=\"toc-item-num\">2&nbsp;&nbsp;</span>Загрузка данных:</a></span><ul class=\"toc-item\"><li><span><a href=\"#Посмотрим-информацию-о-датасетах\" data-toc-modified-id=\"Посмотрим-информацию-о-датасетах-2.1\"><span class=\"toc-item-num\">2.1&nbsp;&nbsp;</span>Посмотрим информацию о датасетах</a></span></li><li><span><a href=\"#Определим-кол-во-пропусков-в-каждой-выборке.\" data-toc-modified-id=\"Определим-кол-во-пропусков-в-каждой-выборке.-2.2\"><span class=\"toc-item-num\">2.2&nbsp;&nbsp;</span>Определим кол-во пропусков в каждой выборке.</a></span></li><li><span><a href=\"#Вручную-расчитаем-нашу-эффективность-по-формуле:\" data-toc-modified-id=\"Вручную-расчитаем-нашу-эффективность-по-формуле:-2.3\"><span class=\"toc-item-num\">2.3&nbsp;&nbsp;</span>Вручную расчитаем нашу эффективность по формуле:</a></span></li><li><span><a href=\"#Вывод:\" data-toc-modified-id=\"Вывод:-2.4\"><span class=\"toc-item-num\">2.4&nbsp;&nbsp;</span>Вывод:</a></span></li></ul></li><li><span><a href=\"#Исследуйте-суммарную-концентрацию-всех-веществ-на-разных-стадиях:-в-сырье,-в-черновом-и-финальном-концентратах\" data-toc-modified-id=\"Исследуйте-суммарную-концентрацию-всех-веществ-на-разных-стадиях:-в-сырье,-в-черновом-и-финальном-концентратах-3\"><span class=\"toc-item-num\">3&nbsp;&nbsp;</span>Исследуйте суммарную концентрацию всех веществ на разных стадиях: в сырье, в черновом и финальном концентратах</a></span><ul class=\"toc-item\"><li><span><a href=\"#Подготовка-выборки-для-обучения-модели\" data-toc-modified-id=\"Подготовка-выборки-для-обучения-модели-3.1\"><span class=\"toc-item-num\">3.1&nbsp;&nbsp;</span>Подготовка выборки для обучения модели</a></span></li></ul></li><li><span><a href=\"#Формулы-метрик-качества\" data-toc-modified-id=\"Формулы-метрик-качества-4\"><span class=\"toc-item-num\">4&nbsp;&nbsp;</span>Формулы метрик качества</a></span><ul class=\"toc-item\"><li><span><a href=\"#Вывод:\" data-toc-modified-id=\"Вывод:-4.1\"><span class=\"toc-item-num\">4.1&nbsp;&nbsp;</span>Вывод:</a></span></li></ul></li></ul></div>"
      ]
    },
    {
      "cell_type": "markdown",
      "metadata": {
        "id": "1i1LJwG7W9xZ"
      },
      "source": [
        "<div style=\"background: #B0E0E6; padding: 5px; border: 1px solid SteelBlue; border-radius: 5px;\">\n",
        "    <font color='4682B4'><u><b>!!!!!!!!!!!!!!!!!!!!!!!!!!!!!!!!!!!!!!!!!!!!!!!!!!!!!!!!!!!!!\n",
        "</b></u></font>\n",
        "   \n",
        "</div>"
      ]
    },
    {
      "cell_type": "markdown",
      "metadata": {
        "id": "axIuyMDvLOuU"
      },
      "source": [
        "# Восстановление золота из руды"
      ]
    },
    {
      "cell_type": "markdown",
      "metadata": {
        "id": "n7-gRdHRLOuV"
      },
      "source": [
        "Подготовьте прототип модели машинного обучения для «Цифры». Компания разрабатывает решения для эффективной работы промышленных предприятий.\n",
        "\n",
        "Модель должна предсказать коэффициент восстановления золота из золотосодержащей руды. Используйте данные с параметрами добычи и очистки.\n",
        "\n",
        "Модель поможет оптимизировать производство, чтобы не запускать предприятие с убыточными характеристиками.\n",
        "\n",
        "Вам нужно:\n",
        "\n",
        "1. Подготовить данные;\n",
        "2. Провести исследовательский анализ данных;\n",
        "3. Построить и обучить модель.\n",
        "\n",
        "Чтобы выполнить проект, обращайтесь к библиотекам *pandas*, *matplotlib* и *sklearn.* Вам поможет их документация."
      ]
    },
    {
      "cell_type": "markdown",
      "metadata": {
        "id": "CBYtAQXqT_Ie"
      },
      "source": [
        "### Описание данных\n",
        "Технологический процесс\n",
        "- Rougher feed — исходное сырье\n",
        "- Rougher additions (или reagent additions) — флотационные реагенты: Xanthate, Sulphate, Depressant\n",
        "  - Xanthate **— ксантогенат (промотер, или активатор флотации);\n",
        "  - Sulphate — сульфат (на данном производстве сульфид натрия);\n",
        "  - Depressant — депрессант (силикат натрия).\n",
        "- Rougher process (англ. «грубый процесс») — флотация\n",
        "- Rougher tails — отвальные хвосты\n",
        "- Float banks — флотационная установка\n",
        "- Cleaner process — очистка\n",
        "- Rougher Au — черновой концентрат золота\n",
        "- Final Au — финальный концентрат золота\n",
        "#### Параметры этапов\n",
        "- air amount — объём воздуха\n",
        "- fluid levels — уровень жидкости\n",
        "- feed size — размер гранул сырья\n",
        "- feed rate — скорость подачи\n",
        "\n",
        "#### Наименование признаков\n",
        "Наименование признаков должно быть такое:\n",
        "`[этап].[тип_параметра].[название_параметра]`\n",
        "Пример: `rougher.input.feed_ag`\n"
      ]
    },
    {
      "cell_type": "markdown",
      "metadata": {
        "id": "DvQEWnwbUGAG"
      },
      "source": [
        "#### Возможные значения для блока [этап]:\n",
        "- rougher — флотация\n",
        "- primary_cleaner — первичная очистка\n",
        "- secondary_cleaner — вторичная очистка\n",
        "- final — финальные характеристики\n",
        "Возможные значения для блока `[тип_параметра]`:\n",
        "- input — параметры сырья\n",
        "- output — параметры продукта\n",
        "- state — параметры, характеризующие текущее состояние этапа\n",
        "- calculation — расчётные характеристики\n",
        "\n",
        "#### Расчёт эффективности\n",
        "Вам нужно смоделировать процесс восстановления золота из золотосодержащей руды.\n",
        "\n",
        "Эффективность обогащения рассчитывается по формуле\n",
        "\n",
        "$$\n",
        "\\\\Recovery = \\frac{C*(F-T)}{F*(C-T)}*100\\%\n",
        "$$"
      ]
    },
    {
      "cell_type": "markdown",
      "metadata": {
        "id": "ewaFi6eJUjjs"
      },
      "source": [
        "где:\n",
        "- C — доля золота в концентрате после флотации/очистки;\n",
        "- F — доля золота в сырье/концентрате до флотации/очистки;\n",
        "- T — доля золота в отвальных хвостах после флотации/очистки.\n",
        "\n",
        "Для прогноза коэффициента нужно найти долю золота в концентратах и хвостах. Причём важен не только финальный продукт, но и черновой концентрат."
      ]
    },
    {
      "cell_type": "markdown",
      "metadata": {
        "id": "Mngos-pIU_sy"
      },
      "source": [
        "<b><font size=5>НАШ ПЛАН </font></b><a name=\"to_content.\"></a>\n",
        "\n",
        "- [<b>Подготовка данных:</b>](#0.)\n",
        "\n",
        "    - [Проверить эффективность обогащения и вычислить её на обучающей выборке для признака rougher.output.recovery. Найти MAE между расчётами и значением признака.](#0.1.)\n",
        "\n",
        "    - [EDA. Проанализировать признаки, недоступные в тестовой выборке.](#0.2.)\n",
        "\n",
        "    - [Провести предобработку данных.](#0.3.)\n",
        "\n",
        "\n",
        "- [<b>Анализ данных:</b>](#1.)\n",
        "\n",
        "    - [Проанализировать как меняется концентрация металлов (Ag, Au, Pb) на различных этапах очистки.](#1.1.)\n",
        "\n",
        "    - [Сравнить распределения размеров гранул сырья на обучающей и тестовой выборках.](#1.2.)\n",
        "\n",
        "    - [Исследовать суммарную концентрацию всех веществ на разных стадиях: в сырье, в черновом и финальном концентратах. Описать выводы и удалить аномалии.](#1.3.)\n",
        "\n",
        "\n",
        "- [<b>Модель:</b>](#2.)\n",
        "\n",
        "    - [Написать функцию для вычисления итоговой sMAPE.](#2.1.)\n",
        "    \n",
        "    - [Обучить разные модели и оценить их качество. Выбрать лучшую модель и проверить её на тестовой выборке.](#2.2.)\n",
        "\n",
        "\n",
        "- [<b>ОБЩИЙ ВЫВОД</b>](#3.)"
      ]
    },
    {
      "cell_type": "markdown",
      "metadata": {
        "id": "DTZM3mrnLOuW"
      },
      "source": [
        "<b><font size=5>Подготовка данных</font></b><a name=\"0.\"></a>\n",
        "\n",
        "[<font size=\"2\">(к содержанию)</font>](#to_content.)"
      ]
    },
    {
      "cell_type": "code",
      "execution_count": 1,
      "metadata": {
        "id": "LCQz72BEXTW8"
      },
      "outputs": [],
      "source": [
        "import pandas as pd # импорт библиотеки pandas\n",
        "import numpy as np # импорт библиотеки nump\n",
        "\n",
        "import matplotlib.pyplot as plt # импорт библиотеки matplotlib\n",
        "import seaborn as sns # импорт библиотеки seaborn\n",
        "sns.set_style('darkgrid')\n",
        "\n",
        "from scipy import stats as st # импорт библиотеки scipy\n",
        "from sklearn.metrics import (make_scorer, recall_score)\n",
        "\n",
        "from sklearn.linear_model import Lasso #  метод, который мы можем использовать для подбора\n",
        "                                       # модели регрессии, когда в данных присутствует мультиколлинеарность .\n",
        "\n",
        "from sklearn.tree import DecisionTreeRegressor # импорт дерева решений\n",
        "from sklearn.ensemble import RandomForestRegressor # импорт классификатора случайного леса\n",
        "from sklearn.dummy import DummyRegressor #  это регрессор,который делает прогнозы,используя простые правила b\n",
        "                                         # для сравнения с другими регрессорами.\n",
        "from sklearn.impute import KNNImputer #восстановления для заполнения пропущенных значений\n",
        "                                      # с использованием подхода к-ближайших соседей.\n",
        "from sklearn.pipeline import make_pipeline # Pipeline для построения конвейеров\n",
        "from sklearn.preprocessing import StandardScaler # стандартизация\n",
        "from sklearn.model_selection import (RandomizedSearchCV)  # утилиты для Df\n",
        "                                  # (рандум, распилить,подобрать параметры)\n",
        "\n",
        "import re\n",
        "%matplotlib inline"
      ]
    },
    {
      "cell_type": "markdown",
      "metadata": {
        "id": "QVmKYGYOZNXh"
      },
      "source": [
        "### Загрузка данных:"
      ]
    },
    {
      "cell_type": "code",
      "execution_count": 2,
      "metadata": {
        "id": "5t5mPjpRLOuX"
      },
      "outputs": [],
      "source": [
        "try:\n",
        "    train_df, test_df, full_df  = (pd.read_csv('/datasets/gold_recovery_train_new.csv'),\n",
        "                          pd.read_csv('/datasets/gold_recovery_test_new.csv'),\n",
        "                          pd.read_csv('/datasets/gold_recovery_full_new.csv'))\n",
        "except:\n",
        "    train_df, test_df, full_df  = (pd.read_csv('gold_recovery_train_new.csv'),\n",
        "                          pd.read_csv('gold_recovery_test_new.csv'),\n",
        "                          pd.read_csv('gold_recovery_full_new.csv'))\n",
        "\n",
        "# Создадим список ключей\n",
        "\n",
        "df_list = {'train': train_df,\n",
        "           'test': test_df,\n",
        "           'full_df': full_df,}\n"
      ]
    },
    {
      "cell_type": "markdown",
      "metadata": {
        "id": "QYheCC2veyUa"
      },
      "source": [
        "#### Посмотрим информацию о датасетах"
      ]
    },
    {
      "cell_type": "code",
      "execution_count": 3,
      "metadata": {
        "colab": {
          "base_uri": "https://localhost:8080/"
        },
        "id": "WIQZCrSyLWI5",
        "outputId": "6624a765-8455-4a2c-a495-af6f95257150"
      },
      "outputs": [
        {
          "output_type": "stream",
          "name": "stdout",
          "text": [
            "<class 'pandas.core.frame.DataFrame'>\n",
            "RangeIndex: 14149 entries, 0 to 14148\n",
            "Data columns (total 87 columns):\n",
            " #   Column                                              Non-Null Count  Dtype  \n",
            "---  ------                                              --------------  -----  \n",
            " 0   date                                                14149 non-null  object \n",
            " 1   final.output.concentrate_ag                         14148 non-null  float64\n",
            " 2   final.output.concentrate_pb                         14148 non-null  float64\n",
            " 3   final.output.concentrate_sol                        13938 non-null  float64\n",
            " 4   final.output.concentrate_au                         14149 non-null  float64\n",
            " 5   final.output.recovery                               14149 non-null  float64\n",
            " 6   final.output.tail_ag                                14149 non-null  float64\n",
            " 7   final.output.tail_pb                                14049 non-null  float64\n",
            " 8   final.output.tail_sol                               14144 non-null  float64\n",
            " 9   final.output.tail_au                                14149 non-null  float64\n",
            " 10  primary_cleaner.input.sulfate                       14129 non-null  float64\n",
            " 11  primary_cleaner.input.depressant                    14117 non-null  float64\n",
            " 12  primary_cleaner.input.feed_size                     14149 non-null  float64\n",
            " 13  primary_cleaner.input.xanthate                      14049 non-null  float64\n",
            " 14  primary_cleaner.output.concentrate_ag               14149 non-null  float64\n",
            " 15  primary_cleaner.output.concentrate_pb               14063 non-null  float64\n",
            " 16  primary_cleaner.output.concentrate_sol              13863 non-null  float64\n",
            " 17  primary_cleaner.output.concentrate_au               14149 non-null  float64\n",
            " 18  primary_cleaner.output.tail_ag                      14148 non-null  float64\n",
            " 19  primary_cleaner.output.tail_pb                      14134 non-null  float64\n",
            " 20  primary_cleaner.output.tail_sol                     14103 non-null  float64\n",
            " 21  primary_cleaner.output.tail_au                      14149 non-null  float64\n",
            " 22  primary_cleaner.state.floatbank8_a_air              14145 non-null  float64\n",
            " 23  primary_cleaner.state.floatbank8_a_level            14148 non-null  float64\n",
            " 24  primary_cleaner.state.floatbank8_b_air              14145 non-null  float64\n",
            " 25  primary_cleaner.state.floatbank8_b_level            14148 non-null  float64\n",
            " 26  primary_cleaner.state.floatbank8_c_air              14147 non-null  float64\n",
            " 27  primary_cleaner.state.floatbank8_c_level            14148 non-null  float64\n",
            " 28  primary_cleaner.state.floatbank8_d_air              14146 non-null  float64\n",
            " 29  primary_cleaner.state.floatbank8_d_level            14148 non-null  float64\n",
            " 30  rougher.calculation.sulfate_to_au_concentrate       14148 non-null  float64\n",
            " 31  rougher.calculation.floatbank10_sulfate_to_au_feed  14148 non-null  float64\n",
            " 32  rougher.calculation.floatbank11_sulfate_to_au_feed  14148 non-null  float64\n",
            " 33  rougher.calculation.au_pb_ratio                     14149 non-null  float64\n",
            " 34  rougher.input.feed_ag                               14149 non-null  float64\n",
            " 35  rougher.input.feed_pb                               14049 non-null  float64\n",
            " 36  rougher.input.feed_rate                             14141 non-null  float64\n",
            " 37  rougher.input.feed_size                             14005 non-null  float64\n",
            " 38  rougher.input.feed_sol                              14071 non-null  float64\n",
            " 39  rougher.input.feed_au                               14149 non-null  float64\n",
            " 40  rougher.input.floatbank10_sulfate                   14120 non-null  float64\n",
            " 41  rougher.input.floatbank10_xanthate                  14141 non-null  float64\n",
            " 42  rougher.input.floatbank11_sulfate                   14113 non-null  float64\n",
            " 43  rougher.input.floatbank11_xanthate                  13721 non-null  float64\n",
            " 44  rougher.output.concentrate_ag                       14149 non-null  float64\n",
            " 45  rougher.output.concentrate_pb                       14149 non-null  float64\n",
            " 46  rougher.output.concentrate_sol                      14127 non-null  float64\n",
            " 47  rougher.output.concentrate_au                       14149 non-null  float64\n",
            " 48  rougher.output.recovery                             14149 non-null  float64\n",
            " 49  rougher.output.tail_ag                              14148 non-null  float64\n",
            " 50  rougher.output.tail_pb                              14149 non-null  float64\n",
            " 51  rougher.output.tail_sol                             14149 non-null  float64\n",
            " 52  rougher.output.tail_au                              14149 non-null  float64\n",
            " 53  rougher.state.floatbank10_a_air                     14148 non-null  float64\n",
            " 54  rougher.state.floatbank10_a_level                   14148 non-null  float64\n",
            " 55  rougher.state.floatbank10_b_air                     14148 non-null  float64\n",
            " 56  rougher.state.floatbank10_b_level                   14148 non-null  float64\n",
            " 57  rougher.state.floatbank10_c_air                     14148 non-null  float64\n",
            " 58  rougher.state.floatbank10_c_level                   14148 non-null  float64\n",
            " 59  rougher.state.floatbank10_d_air                     14149 non-null  float64\n",
            " 60  rougher.state.floatbank10_d_level                   14149 non-null  float64\n",
            " 61  rougher.state.floatbank10_e_air                     13713 non-null  float64\n",
            " 62  rougher.state.floatbank10_e_level                   14149 non-null  float64\n",
            " 63  rougher.state.floatbank10_f_air                     14149 non-null  float64\n",
            " 64  rougher.state.floatbank10_f_level                   14149 non-null  float64\n",
            " 65  secondary_cleaner.output.tail_ag                    14147 non-null  float64\n",
            " 66  secondary_cleaner.output.tail_pb                    14139 non-null  float64\n",
            " 67  secondary_cleaner.output.tail_sol                   12544 non-null  float64\n",
            " 68  secondary_cleaner.output.tail_au                    14149 non-null  float64\n",
            " 69  secondary_cleaner.state.floatbank2_a_air            13932 non-null  float64\n",
            " 70  secondary_cleaner.state.floatbank2_a_level          14148 non-null  float64\n",
            " 71  secondary_cleaner.state.floatbank2_b_air            14128 non-null  float64\n",
            " 72  secondary_cleaner.state.floatbank2_b_level          14148 non-null  float64\n",
            " 73  secondary_cleaner.state.floatbank3_a_air            14145 non-null  float64\n",
            " 74  secondary_cleaner.state.floatbank3_a_level          14148 non-null  float64\n",
            " 75  secondary_cleaner.state.floatbank3_b_air            14148 non-null  float64\n",
            " 76  secondary_cleaner.state.floatbank3_b_level          14148 non-null  float64\n",
            " 77  secondary_cleaner.state.floatbank4_a_air            14143 non-null  float64\n",
            " 78  secondary_cleaner.state.floatbank4_a_level          14148 non-null  float64\n",
            " 79  secondary_cleaner.state.floatbank4_b_air            14148 non-null  float64\n",
            " 80  secondary_cleaner.state.floatbank4_b_level          14148 non-null  float64\n",
            " 81  secondary_cleaner.state.floatbank5_a_air            14148 non-null  float64\n",
            " 82  secondary_cleaner.state.floatbank5_a_level          14148 non-null  float64\n",
            " 83  secondary_cleaner.state.floatbank5_b_air            14148 non-null  float64\n",
            " 84  secondary_cleaner.state.floatbank5_b_level          14148 non-null  float64\n",
            " 85  secondary_cleaner.state.floatbank6_a_air            14147 non-null  float64\n",
            " 86  secondary_cleaner.state.floatbank6_a_level          14148 non-null  float64\n",
            "dtypes: float64(86), object(1)\n",
            "memory usage: 9.4+ MB\n",
            "<class 'pandas.core.frame.DataFrame'>\n",
            "RangeIndex: 5290 entries, 0 to 5289\n",
            "Data columns (total 53 columns):\n",
            " #   Column                                      Non-Null Count  Dtype  \n",
            "---  ------                                      --------------  -----  \n",
            " 0   date                                        5290 non-null   object \n",
            " 1   primary_cleaner.input.sulfate               5286 non-null   float64\n",
            " 2   primary_cleaner.input.depressant            5285 non-null   float64\n",
            " 3   primary_cleaner.input.feed_size             5290 non-null   float64\n",
            " 4   primary_cleaner.input.xanthate              5286 non-null   float64\n",
            " 5   primary_cleaner.state.floatbank8_a_air      5290 non-null   float64\n",
            " 6   primary_cleaner.state.floatbank8_a_level    5290 non-null   float64\n",
            " 7   primary_cleaner.state.floatbank8_b_air      5290 non-null   float64\n",
            " 8   primary_cleaner.state.floatbank8_b_level    5290 non-null   float64\n",
            " 9   primary_cleaner.state.floatbank8_c_air      5290 non-null   float64\n",
            " 10  primary_cleaner.state.floatbank8_c_level    5290 non-null   float64\n",
            " 11  primary_cleaner.state.floatbank8_d_air      5290 non-null   float64\n",
            " 12  primary_cleaner.state.floatbank8_d_level    5290 non-null   float64\n",
            " 13  rougher.input.feed_ag                       5290 non-null   float64\n",
            " 14  rougher.input.feed_pb                       5290 non-null   float64\n",
            " 15  rougher.input.feed_rate                     5287 non-null   float64\n",
            " 16  rougher.input.feed_size                     5289 non-null   float64\n",
            " 17  rougher.input.feed_sol                      5269 non-null   float64\n",
            " 18  rougher.input.feed_au                       5290 non-null   float64\n",
            " 19  rougher.input.floatbank10_sulfate           5285 non-null   float64\n",
            " 20  rougher.input.floatbank10_xanthate          5290 non-null   float64\n",
            " 21  rougher.input.floatbank11_sulfate           5282 non-null   float64\n",
            " 22  rougher.input.floatbank11_xanthate          5265 non-null   float64\n",
            " 23  rougher.state.floatbank10_a_air             5290 non-null   float64\n",
            " 24  rougher.state.floatbank10_a_level           5290 non-null   float64\n",
            " 25  rougher.state.floatbank10_b_air             5290 non-null   float64\n",
            " 26  rougher.state.floatbank10_b_level           5290 non-null   float64\n",
            " 27  rougher.state.floatbank10_c_air             5290 non-null   float64\n",
            " 28  rougher.state.floatbank10_c_level           5290 non-null   float64\n",
            " 29  rougher.state.floatbank10_d_air             5290 non-null   float64\n",
            " 30  rougher.state.floatbank10_d_level           5290 non-null   float64\n",
            " 31  rougher.state.floatbank10_e_air             5290 non-null   float64\n",
            " 32  rougher.state.floatbank10_e_level           5290 non-null   float64\n",
            " 33  rougher.state.floatbank10_f_air             5290 non-null   float64\n",
            " 34  rougher.state.floatbank10_f_level           5290 non-null   float64\n",
            " 35  secondary_cleaner.state.floatbank2_a_air    5287 non-null   float64\n",
            " 36  secondary_cleaner.state.floatbank2_a_level  5290 non-null   float64\n",
            " 37  secondary_cleaner.state.floatbank2_b_air    5288 non-null   float64\n",
            " 38  secondary_cleaner.state.floatbank2_b_level  5290 non-null   float64\n",
            " 39  secondary_cleaner.state.floatbank3_a_air    5281 non-null   float64\n",
            " 40  secondary_cleaner.state.floatbank3_a_level  5290 non-null   float64\n",
            " 41  secondary_cleaner.state.floatbank3_b_air    5290 non-null   float64\n",
            " 42  secondary_cleaner.state.floatbank3_b_level  5290 non-null   float64\n",
            " 43  secondary_cleaner.state.floatbank4_a_air    5290 non-null   float64\n",
            " 44  secondary_cleaner.state.floatbank4_a_level  5290 non-null   float64\n",
            " 45  secondary_cleaner.state.floatbank4_b_air    5290 non-null   float64\n",
            " 46  secondary_cleaner.state.floatbank4_b_level  5290 non-null   float64\n",
            " 47  secondary_cleaner.state.floatbank5_a_air    5290 non-null   float64\n",
            " 48  secondary_cleaner.state.floatbank5_a_level  5290 non-null   float64\n",
            " 49  secondary_cleaner.state.floatbank5_b_air    5290 non-null   float64\n",
            " 50  secondary_cleaner.state.floatbank5_b_level  5290 non-null   float64\n",
            " 51  secondary_cleaner.state.floatbank6_a_air    5290 non-null   float64\n",
            " 52  secondary_cleaner.state.floatbank6_a_level  5290 non-null   float64\n",
            "dtypes: float64(52), object(1)\n",
            "memory usage: 2.1+ MB\n",
            "<class 'pandas.core.frame.DataFrame'>\n",
            "RangeIndex: 19439 entries, 0 to 19438\n",
            "Data columns (total 87 columns):\n",
            " #   Column                                              Non-Null Count  Dtype  \n",
            "---  ------                                              --------------  -----  \n",
            " 0   date                                                19439 non-null  object \n",
            " 1   final.output.concentrate_ag                         19438 non-null  float64\n",
            " 2   final.output.concentrate_pb                         19438 non-null  float64\n",
            " 3   final.output.concentrate_sol                        19228 non-null  float64\n",
            " 4   final.output.concentrate_au                         19439 non-null  float64\n",
            " 5   final.output.recovery                               19439 non-null  float64\n",
            " 6   final.output.tail_ag                                19438 non-null  float64\n",
            " 7   final.output.tail_pb                                19338 non-null  float64\n",
            " 8   final.output.tail_sol                               19433 non-null  float64\n",
            " 9   final.output.tail_au                                19439 non-null  float64\n",
            " 10  primary_cleaner.input.sulfate                       19415 non-null  float64\n",
            " 11  primary_cleaner.input.depressant                    19402 non-null  float64\n",
            " 12  primary_cleaner.input.feed_size                     19439 non-null  float64\n",
            " 13  primary_cleaner.input.xanthate                      19335 non-null  float64\n",
            " 14  primary_cleaner.output.concentrate_ag               19439 non-null  float64\n",
            " 15  primary_cleaner.output.concentrate_pb               19323 non-null  float64\n",
            " 16  primary_cleaner.output.concentrate_sol              19069 non-null  float64\n",
            " 17  primary_cleaner.output.concentrate_au               19439 non-null  float64\n",
            " 18  primary_cleaner.output.tail_ag                      19435 non-null  float64\n",
            " 19  primary_cleaner.output.tail_pb                      19418 non-null  float64\n",
            " 20  primary_cleaner.output.tail_sol                     19377 non-null  float64\n",
            " 21  primary_cleaner.output.tail_au                      19439 non-null  float64\n",
            " 22  primary_cleaner.state.floatbank8_a_air              19435 non-null  float64\n",
            " 23  primary_cleaner.state.floatbank8_a_level            19438 non-null  float64\n",
            " 24  primary_cleaner.state.floatbank8_b_air              19435 non-null  float64\n",
            " 25  primary_cleaner.state.floatbank8_b_level            19438 non-null  float64\n",
            " 26  primary_cleaner.state.floatbank8_c_air              19437 non-null  float64\n",
            " 27  primary_cleaner.state.floatbank8_c_level            19438 non-null  float64\n",
            " 28  primary_cleaner.state.floatbank8_d_air              19436 non-null  float64\n",
            " 29  primary_cleaner.state.floatbank8_d_level            19438 non-null  float64\n",
            " 30  rougher.calculation.sulfate_to_au_concentrate       19437 non-null  float64\n",
            " 31  rougher.calculation.floatbank10_sulfate_to_au_feed  19437 non-null  float64\n",
            " 32  rougher.calculation.floatbank11_sulfate_to_au_feed  19437 non-null  float64\n",
            " 33  rougher.calculation.au_pb_ratio                     19439 non-null  float64\n",
            " 34  rougher.input.feed_ag                               19439 non-null  float64\n",
            " 35  rougher.input.feed_pb                               19339 non-null  float64\n",
            " 36  rougher.input.feed_rate                             19428 non-null  float64\n",
            " 37  rougher.input.feed_size                             19294 non-null  float64\n",
            " 38  rougher.input.feed_sol                              19340 non-null  float64\n",
            " 39  rougher.input.feed_au                               19439 non-null  float64\n",
            " 40  rougher.input.floatbank10_sulfate                   19405 non-null  float64\n",
            " 41  rougher.input.floatbank10_xanthate                  19431 non-null  float64\n",
            " 42  rougher.input.floatbank11_sulfate                   19395 non-null  float64\n",
            " 43  rougher.input.floatbank11_xanthate                  18986 non-null  float64\n",
            " 44  rougher.output.concentrate_ag                       19439 non-null  float64\n",
            " 45  rougher.output.concentrate_pb                       19439 non-null  float64\n",
            " 46  rougher.output.concentrate_sol                      19416 non-null  float64\n",
            " 47  rougher.output.concentrate_au                       19439 non-null  float64\n",
            " 48  rougher.output.recovery                             19439 non-null  float64\n",
            " 49  rougher.output.tail_ag                              19438 non-null  float64\n",
            " 50  rougher.output.tail_pb                              19439 non-null  float64\n",
            " 51  rougher.output.tail_sol                             19439 non-null  float64\n",
            " 52  rougher.output.tail_au                              19439 non-null  float64\n",
            " 53  rougher.state.floatbank10_a_air                     19438 non-null  float64\n",
            " 54  rougher.state.floatbank10_a_level                   19438 non-null  float64\n",
            " 55  rougher.state.floatbank10_b_air                     19438 non-null  float64\n",
            " 56  rougher.state.floatbank10_b_level                   19438 non-null  float64\n",
            " 57  rougher.state.floatbank10_c_air                     19438 non-null  float64\n",
            " 58  rougher.state.floatbank10_c_level                   19438 non-null  float64\n",
            " 59  rougher.state.floatbank10_d_air                     19439 non-null  float64\n",
            " 60  rougher.state.floatbank10_d_level                   19439 non-null  float64\n",
            " 61  rougher.state.floatbank10_e_air                     19003 non-null  float64\n",
            " 62  rougher.state.floatbank10_e_level                   19439 non-null  float64\n",
            " 63  rougher.state.floatbank10_f_air                     19439 non-null  float64\n",
            " 64  rougher.state.floatbank10_f_level                   19439 non-null  float64\n",
            " 65  secondary_cleaner.output.tail_ag                    19437 non-null  float64\n",
            " 66  secondary_cleaner.output.tail_pb                    19427 non-null  float64\n",
            " 67  secondary_cleaner.output.tail_sol                   17691 non-null  float64\n",
            " 68  secondary_cleaner.output.tail_au                    19439 non-null  float64\n",
            " 69  secondary_cleaner.state.floatbank2_a_air            19219 non-null  float64\n",
            " 70  secondary_cleaner.state.floatbank2_a_level          19438 non-null  float64\n",
            " 71  secondary_cleaner.state.floatbank2_b_air            19416 non-null  float64\n",
            " 72  secondary_cleaner.state.floatbank2_b_level          19438 non-null  float64\n",
            " 73  secondary_cleaner.state.floatbank3_a_air            19426 non-null  float64\n",
            " 74  secondary_cleaner.state.floatbank3_a_level          19438 non-null  float64\n",
            " 75  secondary_cleaner.state.floatbank3_b_air            19438 non-null  float64\n",
            " 76  secondary_cleaner.state.floatbank3_b_level          19438 non-null  float64\n",
            " 77  secondary_cleaner.state.floatbank4_a_air            19433 non-null  float64\n",
            " 78  secondary_cleaner.state.floatbank4_a_level          19438 non-null  float64\n",
            " 79  secondary_cleaner.state.floatbank4_b_air            19438 non-null  float64\n",
            " 80  secondary_cleaner.state.floatbank4_b_level          19438 non-null  float64\n",
            " 81  secondary_cleaner.state.floatbank5_a_air            19438 non-null  float64\n",
            " 82  secondary_cleaner.state.floatbank5_a_level          19438 non-null  float64\n",
            " 83  secondary_cleaner.state.floatbank5_b_air            19438 non-null  float64\n",
            " 84  secondary_cleaner.state.floatbank5_b_level          19438 non-null  float64\n",
            " 85  secondary_cleaner.state.floatbank6_a_air            19437 non-null  float64\n",
            " 86  secondary_cleaner.state.floatbank6_a_level          19438 non-null  float64\n",
            "dtypes: float64(86), object(1)\n",
            "memory usage: 12.9+ MB\n"
          ]
        }
      ],
      "source": [
        "for i in df_list:\n",
        "    df_list[i].info()"
      ]
    },
    {
      "cell_type": "markdown",
      "metadata": {
        "id": "TcwZHxGlhRng"
      },
      "source": [
        "#### Определим кол-во пропусков в каждой выборке."
      ]
    },
    {
      "cell_type": "code",
      "execution_count": 4,
      "metadata": {
        "colab": {
          "base_uri": "https://localhost:8080/"
        },
        "id": "cWviuFh1hffr",
        "outputId": "2c5b8ce2-8267-40a1-9f3e-b1581eb540f1"
      },
      "outputs": [
        {
          "output_type": "stream",
          "name": "stdout",
          "text": [
            "Колличество пропусков в тестовой выборке: 90\n",
            "Колличество пропусков в обучающей выборке: 4100\n",
            "Колличество пропусков в полной выборке: 4481\n"
          ]
        }
      ],
      "source": [
        "print('Колличество пропусков в тестовой выборке:', test_df.isnull().sum().sum())\n",
        "print('Колличество пропусков в обучающей выборке:', train_df.isnull().sum().sum())\n",
        "print('Колличество пропусков в полной выборке:', full_df.isnull().sum().sum())"
      ]
    },
    {
      "cell_type": "markdown",
      "metadata": {
        "id": "E4pC4XxykkZk"
      },
      "source": [
        " в данных очень много пропущенных значений."
      ]
    },
    {
      "cell_type": "code",
      "execution_count": 5,
      "metadata": {
        "colab": {
          "base_uri": "https://localhost:8080/",
          "height": 81
        },
        "id": "qRdO7c6bi037",
        "outputId": "e00a675f-0593-49b8-fff8-1c1058835952"
      },
      "outputs": [
        {
          "output_type": "execute_result",
          "data": {
            "text/plain": [
              "         train        test      full_df\n",
              "0  (14149, 87)  (5290, 53)  (19439, 87)"
            ],
            "text/html": [
              "\n",
              "\n",
              "  <div id=\"df-7d9f7377-5ec3-45da-bfc0-ce959f835365\">\n",
              "    <div class=\"colab-df-container\">\n",
              "      <div>\n",
              "<style scoped>\n",
              "    .dataframe tbody tr th:only-of-type {\n",
              "        vertical-align: middle;\n",
              "    }\n",
              "\n",
              "    .dataframe tbody tr th {\n",
              "        vertical-align: top;\n",
              "    }\n",
              "\n",
              "    .dataframe thead th {\n",
              "        text-align: right;\n",
              "    }\n",
              "</style>\n",
              "<table border=\"1\" class=\"dataframe\">\n",
              "  <thead>\n",
              "    <tr style=\"text-align: right;\">\n",
              "      <th></th>\n",
              "      <th>train</th>\n",
              "      <th>test</th>\n",
              "      <th>full_df</th>\n",
              "    </tr>\n",
              "  </thead>\n",
              "  <tbody>\n",
              "    <tr>\n",
              "      <th>0</th>\n",
              "      <td>(14149, 87)</td>\n",
              "      <td>(5290, 53)</td>\n",
              "      <td>(19439, 87)</td>\n",
              "    </tr>\n",
              "  </tbody>\n",
              "</table>\n",
              "</div>\n",
              "      <button class=\"colab-df-convert\" onclick=\"convertToInteractive('df-7d9f7377-5ec3-45da-bfc0-ce959f835365')\"\n",
              "              title=\"Convert this dataframe to an interactive table.\"\n",
              "              style=\"display:none;\">\n",
              "\n",
              "  <svg xmlns=\"http://www.w3.org/2000/svg\" height=\"24px\"viewBox=\"0 0 24 24\"\n",
              "       width=\"24px\">\n",
              "    <path d=\"M0 0h24v24H0V0z\" fill=\"none\"/>\n",
              "    <path d=\"M18.56 5.44l.94 2.06.94-2.06 2.06-.94-2.06-.94-.94-2.06-.94 2.06-2.06.94zm-11 1L8.5 8.5l.94-2.06 2.06-.94-2.06-.94L8.5 2.5l-.94 2.06-2.06.94zm10 10l.94 2.06.94-2.06 2.06-.94-2.06-.94-.94-2.06-.94 2.06-2.06.94z\"/><path d=\"M17.41 7.96l-1.37-1.37c-.4-.4-.92-.59-1.43-.59-.52 0-1.04.2-1.43.59L10.3 9.45l-7.72 7.72c-.78.78-.78 2.05 0 2.83L4 21.41c.39.39.9.59 1.41.59.51 0 1.02-.2 1.41-.59l7.78-7.78 2.81-2.81c.8-.78.8-2.07 0-2.86zM5.41 20L4 18.59l7.72-7.72 1.47 1.35L5.41 20z\"/>\n",
              "  </svg>\n",
              "      </button>\n",
              "\n",
              "\n",
              "\n",
              "    <div id=\"df-00fb0f11-a788-4052-b1d1-bbe4297c6b24\">\n",
              "      <button class=\"colab-df-quickchart\" onclick=\"quickchart('df-00fb0f11-a788-4052-b1d1-bbe4297c6b24')\"\n",
              "              title=\"Suggest charts.\"\n",
              "              style=\"display:none;\">\n",
              "\n",
              "<svg xmlns=\"http://www.w3.org/2000/svg\" height=\"24px\"viewBox=\"0 0 24 24\"\n",
              "     width=\"24px\">\n",
              "    <g>\n",
              "        <path d=\"M19 3H5c-1.1 0-2 .9-2 2v14c0 1.1.9 2 2 2h14c1.1 0 2-.9 2-2V5c0-1.1-.9-2-2-2zM9 17H7v-7h2v7zm4 0h-2V7h2v10zm4 0h-2v-4h2v4z\"/>\n",
              "    </g>\n",
              "</svg>\n",
              "      </button>\n",
              "    </div>\n",
              "\n",
              "<style>\n",
              "  .colab-df-quickchart {\n",
              "    background-color: #E8F0FE;\n",
              "    border: none;\n",
              "    border-radius: 50%;\n",
              "    cursor: pointer;\n",
              "    display: none;\n",
              "    fill: #1967D2;\n",
              "    height: 32px;\n",
              "    padding: 0 0 0 0;\n",
              "    width: 32px;\n",
              "  }\n",
              "\n",
              "  .colab-df-quickchart:hover {\n",
              "    background-color: #E2EBFA;\n",
              "    box-shadow: 0px 1px 2px rgba(60, 64, 67, 0.3), 0px 1px 3px 1px rgba(60, 64, 67, 0.15);\n",
              "    fill: #174EA6;\n",
              "  }\n",
              "\n",
              "  [theme=dark] .colab-df-quickchart {\n",
              "    background-color: #3B4455;\n",
              "    fill: #D2E3FC;\n",
              "  }\n",
              "\n",
              "  [theme=dark] .colab-df-quickchart:hover {\n",
              "    background-color: #434B5C;\n",
              "    box-shadow: 0px 1px 3px 1px rgba(0, 0, 0, 0.15);\n",
              "    filter: drop-shadow(0px 1px 2px rgba(0, 0, 0, 0.3));\n",
              "    fill: #FFFFFF;\n",
              "  }\n",
              "</style>\n",
              "\n",
              "    <script>\n",
              "      async function quickchart(key) {\n",
              "        const containerElement = document.querySelector('#' + key);\n",
              "        const charts = await google.colab.kernel.invokeFunction(\n",
              "            'suggestCharts', [key], {});\n",
              "      }\n",
              "    </script>\n",
              "\n",
              "      <script>\n",
              "\n",
              "function displayQuickchartButton(domScope) {\n",
              "  let quickchartButtonEl =\n",
              "    domScope.querySelector('#df-00fb0f11-a788-4052-b1d1-bbe4297c6b24 button.colab-df-quickchart');\n",
              "  quickchartButtonEl.style.display =\n",
              "    google.colab.kernel.accessAllowed ? 'block' : 'none';\n",
              "}\n",
              "\n",
              "        displayQuickchartButton(document);\n",
              "      </script>\n",
              "      <style>\n",
              "    .colab-df-container {\n",
              "      display:flex;\n",
              "      flex-wrap:wrap;\n",
              "      gap: 12px;\n",
              "    }\n",
              "\n",
              "    .colab-df-convert {\n",
              "      background-color: #E8F0FE;\n",
              "      border: none;\n",
              "      border-radius: 50%;\n",
              "      cursor: pointer;\n",
              "      display: none;\n",
              "      fill: #1967D2;\n",
              "      height: 32px;\n",
              "      padding: 0 0 0 0;\n",
              "      width: 32px;\n",
              "    }\n",
              "\n",
              "    .colab-df-convert:hover {\n",
              "      background-color: #E2EBFA;\n",
              "      box-shadow: 0px 1px 2px rgba(60, 64, 67, 0.3), 0px 1px 3px 1px rgba(60, 64, 67, 0.15);\n",
              "      fill: #174EA6;\n",
              "    }\n",
              "\n",
              "    [theme=dark] .colab-df-convert {\n",
              "      background-color: #3B4455;\n",
              "      fill: #D2E3FC;\n",
              "    }\n",
              "\n",
              "    [theme=dark] .colab-df-convert:hover {\n",
              "      background-color: #434B5C;\n",
              "      box-shadow: 0px 1px 3px 1px rgba(0, 0, 0, 0.15);\n",
              "      filter: drop-shadow(0px 1px 2px rgba(0, 0, 0, 0.3));\n",
              "      fill: #FFFFFF;\n",
              "    }\n",
              "  </style>\n",
              "\n",
              "      <script>\n",
              "        const buttonEl =\n",
              "          document.querySelector('#df-7d9f7377-5ec3-45da-bfc0-ce959f835365 button.colab-df-convert');\n",
              "        buttonEl.style.display =\n",
              "          google.colab.kernel.accessAllowed ? 'block' : 'none';\n",
              "\n",
              "        async function convertToInteractive(key) {\n",
              "          const element = document.querySelector('#df-7d9f7377-5ec3-45da-bfc0-ce959f835365');\n",
              "          const dataTable =\n",
              "            await google.colab.kernel.invokeFunction('convertToInteractive',\n",
              "                                                     [key], {});\n",
              "          if (!dataTable) return;\n",
              "\n",
              "          const docLinkHtml = 'Like what you see? Visit the ' +\n",
              "            '<a target=\"_blank\" href=https://colab.research.google.com/notebooks/data_table.ipynb>data table notebook</a>'\n",
              "            + ' to learn more about interactive tables.';\n",
              "          element.innerHTML = '';\n",
              "          dataTable['output_type'] = 'display_data';\n",
              "          await google.colab.output.renderOutput(dataTable, element);\n",
              "          const docLink = document.createElement('div');\n",
              "          docLink.innerHTML = docLinkHtml;\n",
              "          element.appendChild(docLink);\n",
              "        }\n",
              "      </script>\n",
              "    </div>\n",
              "  </div>\n"
            ]
          },
          "metadata": {},
          "execution_count": 5
        }
      ],
      "source": [
        " # посмотрим размерномсть выборок\n",
        " size_df = []\n",
        " size_df.append({'train': train_df.shape,\n",
        "           'test': test_df.shape,\n",
        "           'full_df': full_df.shape,})\n",
        "\n",
        "results_size = pd.DataFrame(size_df)\n",
        "results_size\n"
      ]
    },
    {
      "cell_type": "markdown",
      "metadata": {
        "id": "-6Cd-lj8XOVS"
      },
      "source": [
        "<b><font size=4>Расчёт эффективности обогащения</font></b><a name=\"0.1.\"></a>\n",
        "\n",
        "[<font size=\"2\">(к содержанию)</font>](#to_content.)"
      ]
    },
    {
      "cell_type": "markdown",
      "metadata": {
        "id": "tXfq7eOlXcTE"
      },
      "source": [
        "#### Вручную расчитаем нашу эффективность по формуле:\n",
        "\n",
        "$$\n",
        "\\\\Recovery = \\frac{C*(F-T)}{F*(C-T)}*100\\%\n",
        "$$\n",
        "\n",
        "Где:\n",
        "* C — доля золота в концентрате после флотации/очистки;\n",
        "* F — доля золота в сырье/концентрате до флотации/очистки;\n",
        "* T — доля золота в отвальных хвостах после флотации/очистки.\n",
        "\n",
        "Для прогноза коэффициента нужно найти долю золота в концентратах и хвостах. Причём важен не только финальный продукт, но и черновой концентрат. Так же найдём cреднюю абсолютную ошибку между нашими расчётами и значением признака в столбце т.е. узнаем верно ли рассчитана эффективность обогащения в нашем признаке."
      ]
    },
    {
      "cell_type": "code",
      "execution_count": 6,
      "metadata": {
        "id": "M9KqKqA4XYow"
      },
      "outputs": [],
      "source": [
        "C = train_df['rougher.output.concentrate_au']\n",
        "F = train_df['rougher.input.feed_au']\n",
        "T = train_df['rougher.output.tail_au']\n",
        "\n",
        "recovery = C * (F - T) / (F * (C - T)) * 100 # расчет эффективности\n"
      ]
    },
    {
      "cell_type": "markdown",
      "metadata": {
        "id": "62XNt1FBeIWf"
      },
      "source": [
        "Расчитаем среднюю абсолютную ошибку, как разницу эфективности и трейна, т.к. в наших данных есть пропуски и при  удалении пропусков получаются разные размеры наших датафреймов."
      ]
    },
    {
      "cell_type": "code",
      "execution_count": 7,
      "metadata": {
        "colab": {
          "base_uri": "https://localhost:8080/"
        },
        "id": "fMb1CJgTet4d",
        "outputId": "329a6068-ff30-4bf4-f65f-709d4d2def52"
      },
      "outputs": [
        {
          "output_type": "execute_result",
          "data": {
            "text/plain": [
              "9.73512347450521e-15"
            ]
          },
          "metadata": {},
          "execution_count": 7
        }
      ],
      "source": [
        "err_mean = (abs(recovery - train_df['rougher.output.recovery']).sum()) / len(train_df)\n",
        "err_mean"
      ]
    },
    {
      "cell_type": "markdown",
      "metadata": {
        "id": "ndRCYjfPgmtv"
      },
      "source": [
        "<b><font size=4>Анализ признаков, для исключения из тестовой выборке.</font></b><a name=\"0.2.\"></a>\n",
        "\n",
        "[<font size=\"2\">(к содержанию)</font>](#to_content.)"
      ]
    },
    {
      "cell_type": "code",
      "execution_count": 8,
      "metadata": {
        "colab": {
          "base_uri": "https://localhost:8080/"
        },
        "id": "eIes3IYlgzkK",
        "outputId": "dc2057c5-f617-4f12-aaf6-f855d2bfa400"
      },
      "outputs": [
        {
          "output_type": "execute_result",
          "data": {
            "text/plain": [
              "34"
            ]
          },
          "metadata": {},
          "execution_count": 8
        }
      ],
      "source": [
        "# Расчет сколько у нас недоступных признаков в тестовой выборке.\n",
        "train_df.shape[1] - test_df.shape[1]"
      ]
    },
    {
      "cell_type": "code",
      "execution_count": 9,
      "metadata": {
        "colab": {
          "base_uri": "https://localhost:8080/"
        },
        "id": "6bEG6-gln6wg",
        "outputId": "d9c770fc-6b29-4d62-b3cc-9d07f22fd234",
        "scrolled": true
      },
      "outputs": [
        {
          "output_type": "execute_result",
          "data": {
            "text/plain": [
              "['date',\n",
              " 'primary_cleaner.input.sulfate',\n",
              " 'primary_cleaner.input.depressant',\n",
              " 'primary_cleaner.input.feed_size',\n",
              " 'primary_cleaner.input.xanthate',\n",
              " 'primary_cleaner.state.floatbank8_a_air',\n",
              " 'primary_cleaner.state.floatbank8_a_level',\n",
              " 'primary_cleaner.state.floatbank8_b_air',\n",
              " 'primary_cleaner.state.floatbank8_b_level',\n",
              " 'primary_cleaner.state.floatbank8_c_air',\n",
              " 'primary_cleaner.state.floatbank8_c_level',\n",
              " 'primary_cleaner.state.floatbank8_d_air',\n",
              " 'primary_cleaner.state.floatbank8_d_level',\n",
              " 'rougher.input.feed_ag',\n",
              " 'rougher.input.feed_pb',\n",
              " 'rougher.input.feed_rate',\n",
              " 'rougher.input.feed_size',\n",
              " 'rougher.input.feed_sol',\n",
              " 'rougher.input.feed_au',\n",
              " 'rougher.input.floatbank10_sulfate',\n",
              " 'rougher.input.floatbank10_xanthate',\n",
              " 'rougher.input.floatbank11_sulfate',\n",
              " 'rougher.input.floatbank11_xanthate',\n",
              " 'rougher.state.floatbank10_a_air',\n",
              " 'rougher.state.floatbank10_a_level',\n",
              " 'rougher.state.floatbank10_b_air',\n",
              " 'rougher.state.floatbank10_b_level',\n",
              " 'rougher.state.floatbank10_c_air',\n",
              " 'rougher.state.floatbank10_c_level',\n",
              " 'rougher.state.floatbank10_d_air',\n",
              " 'rougher.state.floatbank10_d_level',\n",
              " 'rougher.state.floatbank10_e_air',\n",
              " 'rougher.state.floatbank10_e_level',\n",
              " 'rougher.state.floatbank10_f_air',\n",
              " 'rougher.state.floatbank10_f_level',\n",
              " 'secondary_cleaner.state.floatbank2_a_air',\n",
              " 'secondary_cleaner.state.floatbank2_a_level',\n",
              " 'secondary_cleaner.state.floatbank2_b_air',\n",
              " 'secondary_cleaner.state.floatbank2_b_level',\n",
              " 'secondary_cleaner.state.floatbank3_a_air',\n",
              " 'secondary_cleaner.state.floatbank3_a_level',\n",
              " 'secondary_cleaner.state.floatbank3_b_air',\n",
              " 'secondary_cleaner.state.floatbank3_b_level',\n",
              " 'secondary_cleaner.state.floatbank4_a_air',\n",
              " 'secondary_cleaner.state.floatbank4_a_level',\n",
              " 'secondary_cleaner.state.floatbank4_b_air',\n",
              " 'secondary_cleaner.state.floatbank4_b_level',\n",
              " 'secondary_cleaner.state.floatbank5_a_air',\n",
              " 'secondary_cleaner.state.floatbank5_a_level',\n",
              " 'secondary_cleaner.state.floatbank5_b_air',\n",
              " 'secondary_cleaner.state.floatbank5_b_level',\n",
              " 'secondary_cleaner.state.floatbank6_a_air',\n",
              " 'secondary_cleaner.state.floatbank6_a_level']"
            ]
          },
          "metadata": {},
          "execution_count": 9
        }
      ],
      "source": [
        "list(train_df.columns.intersection(test_df.columns))"
      ]
    },
    {
      "cell_type": "markdown",
      "metadata": {
        "id": "wzSZUIRRhFKS"
      },
      "source": [
        " Удалим из train все, чего нету в test, т.к. иначе мы не сможем построим проверяемую модель."
      ]
    },
    {
      "cell_type": "code",
      "execution_count": 10,
      "metadata": {
        "colab": {
          "base_uri": "https://localhost:8080/"
        },
        "id": "6O8en7H_hSe2",
        "outputId": "94c18a47-e357-44c2-9ae5-9f1dedb765eb"
      },
      "outputs": [
        {
          "output_type": "execute_result",
          "data": {
            "text/plain": [
              "Index(['final.output.concentrate_ag', 'final.output.concentrate_pb',\n",
              "       'final.output.concentrate_sol', 'final.output.concentrate_au',\n",
              "       'final.output.recovery', 'final.output.tail_ag', 'final.output.tail_pb',\n",
              "       'final.output.tail_sol', 'final.output.tail_au',\n",
              "       'primary_cleaner.output.concentrate_ag',\n",
              "       'primary_cleaner.output.concentrate_pb',\n",
              "       'primary_cleaner.output.concentrate_sol',\n",
              "       'primary_cleaner.output.concentrate_au',\n",
              "       'primary_cleaner.output.tail_ag', 'primary_cleaner.output.tail_pb',\n",
              "       'primary_cleaner.output.tail_sol', 'primary_cleaner.output.tail_au',\n",
              "       'rougher.calculation.sulfate_to_au_concentrate',\n",
              "       'rougher.calculation.floatbank10_sulfate_to_au_feed',\n",
              "       'rougher.calculation.floatbank11_sulfate_to_au_feed',\n",
              "       'rougher.calculation.au_pb_ratio', 'rougher.output.concentrate_ag',\n",
              "       'rougher.output.concentrate_pb', 'rougher.output.concentrate_sol',\n",
              "       'rougher.output.concentrate_au', 'rougher.output.recovery',\n",
              "       'rougher.output.tail_ag', 'rougher.output.tail_pb',\n",
              "       'rougher.output.tail_sol', 'rougher.output.tail_au',\n",
              "       'secondary_cleaner.output.tail_ag', 'secondary_cleaner.output.tail_pb',\n",
              "       'secondary_cleaner.output.tail_sol',\n",
              "       'secondary_cleaner.output.tail_au'],\n",
              "      dtype='object')"
            ]
          },
          "metadata": {},
          "execution_count": 10
        }
      ],
      "source": [
        "train_df.columns.drop(test_df.columns)"
      ]
    },
    {
      "cell_type": "markdown",
      "metadata": {
        "id": "tjhO7OPrhnZc"
      },
      "source": [
        "<b><font size=4>Предобработка данных</font></b><a name=\"0.3.\"></a>\n",
        "\n",
        "[<font size=\"2\">(к содержанию)</font>](#to_content.)"
      ]
    },
    {
      "cell_type": "code",
      "execution_count": 11,
      "metadata": {
        "id": "sNbT9mQjhwHL"
      },
      "outputs": [],
      "source": [
        "# удалим строки с пропусками в целевом признаке, и не нужные  столбцы.\n",
        "train_df.dropna(subset=['final.output.recovery', 'rougher.output.recovery'], inplace=True)\n",
        "drop_test = train_df.columns.drop(test_df.columns)\n",
        "train_df.drop(drop_test, axis=1, inplace=True)\n",
        "\n",
        "# Преобразуем дату\n",
        "train_df.set_index('date', inplace=True)\n",
        "test_df.set_index('date', inplace=True)\n",
        "full_df.set_index('date', inplace=True)\n"
      ]
    },
    {
      "cell_type": "code",
      "execution_count": 12,
      "metadata": {
        "id": "A0D9x6l6iPL5"
      },
      "outputs": [],
      "source": [
        "# удалим строки с пропущенным целевым прзнаком, и заполним пропуски c помощью метода k-ближайших соседей\n",
        "def transform_imputer(data, n_neighbors):\n",
        "\n",
        "    data_columns = data.columns\n",
        "    index = data.index\n",
        "    imputer = KNNImputer(n_neighbors=n_neighbors)\n",
        "    imputer.fit_transform(data)\n",
        "\n",
        "\n",
        "    return pd.DataFrame(imputer.fit_transform(data), columns=data_columns, index=index)\n"
      ]
    },
    {
      "cell_type": "code",
      "execution_count": 13,
      "metadata": {
        "colab": {
          "base_uri": "https://localhost:8080/"
        },
        "id": "jOr1837vJLjh",
        "outputId": "8cd1b1a0-7010-4646-c479-4e3d5ce81928",
        "scrolled": true
      },
      "outputs": [
        {
          "output_type": "stream",
          "name": "stdout",
          "text": [
            "<class 'pandas.core.frame.DataFrame'>\n",
            "Index: 19439 entries, 2016-01-15 00:00:00 to 2018-08-18 10:59:59\n",
            "Data columns (total 86 columns):\n",
            " #   Column                                              Non-Null Count  Dtype  \n",
            "---  ------                                              --------------  -----  \n",
            " 0   final.output.concentrate_ag                         19438 non-null  float64\n",
            " 1   final.output.concentrate_pb                         19438 non-null  float64\n",
            " 2   final.output.concentrate_sol                        19228 non-null  float64\n",
            " 3   final.output.concentrate_au                         19439 non-null  float64\n",
            " 4   final.output.recovery                               19439 non-null  float64\n",
            " 5   final.output.tail_ag                                19438 non-null  float64\n",
            " 6   final.output.tail_pb                                19338 non-null  float64\n",
            " 7   final.output.tail_sol                               19433 non-null  float64\n",
            " 8   final.output.tail_au                                19439 non-null  float64\n",
            " 9   primary_cleaner.input.sulfate                       19415 non-null  float64\n",
            " 10  primary_cleaner.input.depressant                    19402 non-null  float64\n",
            " 11  primary_cleaner.input.feed_size                     19439 non-null  float64\n",
            " 12  primary_cleaner.input.xanthate                      19335 non-null  float64\n",
            " 13  primary_cleaner.output.concentrate_ag               19439 non-null  float64\n",
            " 14  primary_cleaner.output.concentrate_pb               19323 non-null  float64\n",
            " 15  primary_cleaner.output.concentrate_sol              19069 non-null  float64\n",
            " 16  primary_cleaner.output.concentrate_au               19439 non-null  float64\n",
            " 17  primary_cleaner.output.tail_ag                      19435 non-null  float64\n",
            " 18  primary_cleaner.output.tail_pb                      19418 non-null  float64\n",
            " 19  primary_cleaner.output.tail_sol                     19377 non-null  float64\n",
            " 20  primary_cleaner.output.tail_au                      19439 non-null  float64\n",
            " 21  primary_cleaner.state.floatbank8_a_air              19435 non-null  float64\n",
            " 22  primary_cleaner.state.floatbank8_a_level            19438 non-null  float64\n",
            " 23  primary_cleaner.state.floatbank8_b_air              19435 non-null  float64\n",
            " 24  primary_cleaner.state.floatbank8_b_level            19438 non-null  float64\n",
            " 25  primary_cleaner.state.floatbank8_c_air              19437 non-null  float64\n",
            " 26  primary_cleaner.state.floatbank8_c_level            19438 non-null  float64\n",
            " 27  primary_cleaner.state.floatbank8_d_air              19436 non-null  float64\n",
            " 28  primary_cleaner.state.floatbank8_d_level            19438 non-null  float64\n",
            " 29  rougher.calculation.sulfate_to_au_concentrate       19437 non-null  float64\n",
            " 30  rougher.calculation.floatbank10_sulfate_to_au_feed  19437 non-null  float64\n",
            " 31  rougher.calculation.floatbank11_sulfate_to_au_feed  19437 non-null  float64\n",
            " 32  rougher.calculation.au_pb_ratio                     19439 non-null  float64\n",
            " 33  rougher.input.feed_ag                               19439 non-null  float64\n",
            " 34  rougher.input.feed_pb                               19339 non-null  float64\n",
            " 35  rougher.input.feed_rate                             19428 non-null  float64\n",
            " 36  rougher.input.feed_size                             19294 non-null  float64\n",
            " 37  rougher.input.feed_sol                              19340 non-null  float64\n",
            " 38  rougher.input.feed_au                               19439 non-null  float64\n",
            " 39  rougher.input.floatbank10_sulfate                   19405 non-null  float64\n",
            " 40  rougher.input.floatbank10_xanthate                  19431 non-null  float64\n",
            " 41  rougher.input.floatbank11_sulfate                   19395 non-null  float64\n",
            " 42  rougher.input.floatbank11_xanthate                  18986 non-null  float64\n",
            " 43  rougher.output.concentrate_ag                       19439 non-null  float64\n",
            " 44  rougher.output.concentrate_pb                       19439 non-null  float64\n",
            " 45  rougher.output.concentrate_sol                      19416 non-null  float64\n",
            " 46  rougher.output.concentrate_au                       19439 non-null  float64\n",
            " 47  rougher.output.recovery                             19439 non-null  float64\n",
            " 48  rougher.output.tail_ag                              19438 non-null  float64\n",
            " 49  rougher.output.tail_pb                              19439 non-null  float64\n",
            " 50  rougher.output.tail_sol                             19439 non-null  float64\n",
            " 51  rougher.output.tail_au                              19439 non-null  float64\n",
            " 52  rougher.state.floatbank10_a_air                     19438 non-null  float64\n",
            " 53  rougher.state.floatbank10_a_level                   19438 non-null  float64\n",
            " 54  rougher.state.floatbank10_b_air                     19438 non-null  float64\n",
            " 55  rougher.state.floatbank10_b_level                   19438 non-null  float64\n",
            " 56  rougher.state.floatbank10_c_air                     19438 non-null  float64\n",
            " 57  rougher.state.floatbank10_c_level                   19438 non-null  float64\n",
            " 58  rougher.state.floatbank10_d_air                     19439 non-null  float64\n",
            " 59  rougher.state.floatbank10_d_level                   19439 non-null  float64\n",
            " 60  rougher.state.floatbank10_e_air                     19003 non-null  float64\n",
            " 61  rougher.state.floatbank10_e_level                   19439 non-null  float64\n",
            " 62  rougher.state.floatbank10_f_air                     19439 non-null  float64\n",
            " 63  rougher.state.floatbank10_f_level                   19439 non-null  float64\n",
            " 64  secondary_cleaner.output.tail_ag                    19437 non-null  float64\n",
            " 65  secondary_cleaner.output.tail_pb                    19427 non-null  float64\n",
            " 66  secondary_cleaner.output.tail_sol                   17691 non-null  float64\n",
            " 67  secondary_cleaner.output.tail_au                    19439 non-null  float64\n",
            " 68  secondary_cleaner.state.floatbank2_a_air            19219 non-null  float64\n",
            " 69  secondary_cleaner.state.floatbank2_a_level          19438 non-null  float64\n",
            " 70  secondary_cleaner.state.floatbank2_b_air            19416 non-null  float64\n",
            " 71  secondary_cleaner.state.floatbank2_b_level          19438 non-null  float64\n",
            " 72  secondary_cleaner.state.floatbank3_a_air            19426 non-null  float64\n",
            " 73  secondary_cleaner.state.floatbank3_a_level          19438 non-null  float64\n",
            " 74  secondary_cleaner.state.floatbank3_b_air            19438 non-null  float64\n",
            " 75  secondary_cleaner.state.floatbank3_b_level          19438 non-null  float64\n",
            " 76  secondary_cleaner.state.floatbank4_a_air            19433 non-null  float64\n",
            " 77  secondary_cleaner.state.floatbank4_a_level          19438 non-null  float64\n",
            " 78  secondary_cleaner.state.floatbank4_b_air            19438 non-null  float64\n",
            " 79  secondary_cleaner.state.floatbank4_b_level          19438 non-null  float64\n",
            " 80  secondary_cleaner.state.floatbank5_a_air            19438 non-null  float64\n",
            " 81  secondary_cleaner.state.floatbank5_a_level          19438 non-null  float64\n",
            " 82  secondary_cleaner.state.floatbank5_b_air            19438 non-null  float64\n",
            " 83  secondary_cleaner.state.floatbank5_b_level          19438 non-null  float64\n",
            " 84  secondary_cleaner.state.floatbank6_a_air            19437 non-null  float64\n",
            " 85  secondary_cleaner.state.floatbank6_a_level          19438 non-null  float64\n",
            "dtypes: float64(86)\n",
            "memory usage: 12.9+ MB\n"
          ]
        }
      ],
      "source": [
        "full_df.info()"
      ]
    },
    {
      "cell_type": "code",
      "execution_count": 14,
      "metadata": {
        "colab": {
          "base_uri": "https://localhost:8080/"
        },
        "id": "hLyXzTJin6wh",
        "outputId": "a4b9a3f8-013a-40d0-e52c-6e2b0289a294"
      },
      "outputs": [
        {
          "output_type": "execute_result",
          "data": {
            "text/plain": [
              "[]"
            ]
          },
          "metadata": {},
          "execution_count": 14
        }
      ],
      "source": [
        "# Получим список столбцов, недоступных в тестовой выборке\n",
        "list(train_df.columns.difference(test_df.columns))"
      ]
    },
    {
      "cell_type": "code",
      "execution_count": 15,
      "metadata": {
        "id": "Hw-_I62uieFd"
      },
      "outputs": [],
      "source": [
        "new_train_df = transform_imputer(train_df, 5)\n",
        "new_test_df = transform_imputer(test_df, 5)\n"
      ]
    },
    {
      "cell_type": "markdown",
      "metadata": {
        "id": "q4U9pxphio9j"
      },
      "source": [
        "Проверим"
      ]
    },
    {
      "cell_type": "code",
      "execution_count": 16,
      "metadata": {
        "colab": {
          "base_uri": "https://localhost:8080/"
        },
        "id": "W9rP_rOyirOq",
        "outputId": "5fcb4f1a-b514-421b-b7e7-0f00b1c6d394",
        "scrolled": true
      },
      "outputs": [
        {
          "output_type": "stream",
          "name": "stdout",
          "text": [
            "Колличество пропусков до обработки данных в обучающей выборке: 1705\n",
            "Колличество пропусков после обработки данных в обучающей выборке: 0\n",
            "Колличество пропусков до обработки данных в тестовой выборке: 90\n",
            "Колличество пропусков после обработки данны в тествой выборке: 0\n"
          ]
        }
      ],
      "source": [
        "print('Колличество пропусков до обработки данных в обучающей выборке:', train_df.isnull().sum().sum())\n",
        "print('Колличество пропусков после обработки данных в обучающей выборке:', new_train_df.isnull().sum().sum())\n",
        "print('Колличество пропусков до обработки данных в тестовой выборке:', test_df.isnull().sum().sum())\n",
        "print('Колличество пропусков после обработки данны в тествой выборке:', new_test_df.isnull().sum().sum())"
      ]
    },
    {
      "cell_type": "markdown",
      "metadata": {
        "id": "TZnn0cZ1LOuZ"
      },
      "source": [
        "<b><font size=5>Анализ данных</font></b><a name=\"1.\"></a>\n",
        "\n",
        "[<font size=\"2\">(к содержанию)</font>](#to_content.)"
      ]
    },
    {
      "cell_type": "markdown",
      "metadata": {
        "id": "z_QA86objF_r"
      },
      "source": [
        "<b><font size=4>Анализ концентрации металлов на различных этапах очистки.</font></b><a name=\"1.1.\"></a>\n",
        "\n",
        "[<font size=\"2\">(к содержанию)</font>](#to_content.)"
      ]
    },
    {
      "cell_type": "code",
      "execution_count": 17,
      "metadata": {
        "id": "Q1UQDAHHLOuZ"
      },
      "outputs": [],
      "source": [
        "# отберем необходимые названия металлов из общей массы\n",
        "full_df.columns[full_df.columns.str.endswith('au')], full_df.columns[full_df.columns.str.endswith('ag')],\\\n",
        "full_df.columns[full_df.columns.str.endswith('pb')]\n",
        "\n",
        "# отберём нужные нам столбцы с данными (сырьё в исходном виде, после флотации,после первичной обработки,финальный концентрат.)\n",
        "AU = full_df[['rougher.input.feed_au', 'rougher.output.concentrate_au', 'primary_cleaner.output.concentrate_au',\n",
        "            'final.output.concentrate_au']].dropna()\n",
        "AG = full_df[['rougher.input.feed_ag', 'rougher.output.concentrate_ag', 'primary_cleaner.output.concentrate_ag',\n",
        "            'final.output.concentrate_ag']].dropna()\n",
        "PB = full_df[['rougher.input.feed_pb', 'rougher.output.concentrate_pb', 'primary_cleaner.output.concentrate_pb',\n",
        "            'final.output.concentrate_pb']].dropna()"
      ]
    },
    {
      "cell_type": "markdown",
      "metadata": {
        "id": "MhcPDdvpkHyo"
      },
      "source": [
        "Теперь посмотрим как меняется концентрация металлов на разных стадиях очистки."
      ]
    },
    {
      "cell_type": "code",
      "execution_count": 18,
      "metadata": {
        "colab": {
          "base_uri": "https://localhost:8080/"
        },
        "id": "MkoVn1BmkL7o",
        "outputId": "e58b3517-63f1-4e69-b166-eb43f15fcbe6"
      },
      "outputs": [
        {
          "output_type": "stream",
          "name": "stdout",
          "text": [
            "Концентрация до флотации:\n",
            "серебро: 8.59, свинец: 3.54, золото: 8.13\n",
            "\n",
            "Концентрация после флотации:\n",
            "серебро: 12.10, свинец: 7.75, золото: 20.28\n",
            "\n",
            "Концентрация после первичной очистки:\n",
            "серебро: 8.51, свинец: 10.16, золото: 32.84\n",
            "\n",
            "Финальный концентрат:\n",
            "серебро: 5.07, свинец: 10.12, золото: 45.01\n"
          ]
        }
      ],
      "source": [
        "print('Концентрация до флотации:')\n",
        "print('серебро:{: 0.2f}, свинец:{: 0.2f}, золото:{: 0.2f}'.format(AG['rougher.input.feed_ag'].median(),\n",
        "PB['rougher.input.feed_pb'].median(),\n",
        "AU['rougher.input.feed_au'].median()))\n",
        "print()\n",
        "print('Концентрация после флотации:')\n",
        "print('серебро:{: 0.2f}, свинец:{: 0.2f}, золото:{: 0.2f}'.format(AG['rougher.output.concentrate_ag'].median(),\n",
        "PB['rougher.output.concentrate_pb'].median(),\n",
        "AU['rougher.output.concentrate_au'].median()))\n",
        "print()\n",
        "print('Концентрация после первичной очистки:')\n",
        "print('серебро:{: 0.2f}, свинец:{: 0.2f}, золото:{: 0.2f}'.format(AG['primary_cleaner.output.concentrate_ag'].median(),\n",
        "PB['primary_cleaner.output.concentrate_pb'].median(),\n",
        "AU['primary_cleaner.output.concentrate_au'].median()))\n",
        "print()\n",
        "print('Финальный концентрат:')\n",
        "print('серебро:{: 0.2f}, свинец:{: 0.2f}, золото:{: 0.2f}'.format(AG['final.output.concentrate_ag'].median(),\n",
        "PB['final.output.concentrate_pb'].median(),\n",
        "AU['final.output.concentrate_au'].median()))"
      ]
    },
    {
      "cell_type": "code",
      "execution_count": 19,
      "metadata": {
        "colab": {
          "base_uri": "https://localhost:8080/",
          "height": 549
        },
        "id": "TK2iF9Kon6wj",
        "outputId": "79045c7a-e30f-4ae6-b57d-e16ceef5867a",
        "scrolled": false
      },
      "outputs": [
        {
          "output_type": "display_data",
          "data": {
            "text/plain": [
              "<Figure size 500x500 with 1 Axes>"
            ],
            "image/png": "[encoded data removed]"
          },
          "metadata": {}
        }
      ],
      "source": [
        "sns.displot(AU, legend=False, kind='kde')\n",
        "plt.legend(['Сырье', 'после флотации', 'первичная очистка', 'Финальный концентрат'], fontsize=10)\n",
        "#  Добавляем подписи к осям:\n",
        "plt.xlabel('этап')\n",
        "plt.ylabel('Концентрация')\n",
        "plt.title('Изменение концентрации золота после разных этапов обработки');"
      ]
    },
    {
      "cell_type": "code",
      "execution_count": 20,
      "metadata": {
        "colab": {
          "base_uri": "https://localhost:8080/",
          "height": 549
        },
        "id": "ag2cbaM9n6wk",
        "outputId": "0a2adf3a-0b48-43ea-cc3b-731229e72fdb",
        "scrolled": false
      },
      "outputs": [
        {
          "output_type": "display_data",
          "data": {
            "text/plain": [
              "<Figure size 500x500 with 1 Axes>"
            ],
            "image/png": "[encoded data removed]"
          },
          "metadata": {}
        }
      ],
      "source": [
        "sns.displot(PB, legend=False, kind='kde')\n",
        "plt.legend(['Финальный концентрат', 'первичная отчистка', 'после флотации', 'Сырьё'], fontsize=10)\n",
        "#  Добавляем подписи к осям:\n",
        "plt.xlabel('этап')\n",
        "plt.ylabel('Концентрация')\n",
        "plt.title('Изменение концентрации свинца после разных этапов обработки');"
      ]
    },
    {
      "cell_type": "code",
      "execution_count": 21,
      "metadata": {
        "colab": {
          "base_uri": "https://localhost:8080/",
          "height": 549
        },
        "id": "faJahXuMn6wk",
        "outputId": "49db718e-3ed5-4b9f-8ac8-0f7e4d46715b"
      },
      "outputs": [
        {
          "output_type": "display_data",
          "data": {
            "text/plain": [
              "<Figure size 500x500 with 1 Axes>"
            ],
            "image/png": "[encoded data removed]"
          },
          "metadata": {}
        }
      ],
      "source": [
        "sns.displot(AG, legend=False, kind='kde')\n",
        "plt.legend(['Сырье', 'после флотации', 'первичная очистка', 'Финальный концентрат'], fontsize=10)\n",
        "#  Добавляем подписи к осям:\n",
        "plt.xlabel('этап')\n",
        "plt.ylabel('Концентрация')\n",
        "plt.title('Изменение концентрации серебра после разных этапов обработки');"
      ]
    },
    {
      "cell_type": "markdown",
      "metadata": {
        "id": "IsPIg8y_mMQV"
      },
      "source": [
        "<b><font size=4>Сравнение распределения размеров гранул сырья на обучающей и тестовой выборках.</font></b><a name=\"1.2.\"></a>\n",
        "\n",
        "[<font size=\"2\">(к содержанию)</font>](#to_content.)"
      ]
    },
    {
      "cell_type": "markdown",
      "metadata": {
        "id": "_BAN7G7Al0sl"
      },
      "source": [
        "#### Вывод:\n",
        "C каждым этапом очистки концентрация золота заметно увеличивается, в то время как концентрация серебра наоборот снижается. Свинец показывает небольшое увелечение концентрации."
      ]
    },
    {
      "cell_type": "code",
      "execution_count": 22,
      "metadata": {
        "colab": {
          "base_uri": "https://localhost:8080/",
          "height": 872
        },
        "id": "wRT1DJe3mnYz",
        "outputId": "124df732-242e-4db0-e4df-f55a307e43a0"
      },
      "outputs": [
        {
          "output_type": "display_data",
          "data": {
            "text/plain": [
              "<Figure size 1500x1000 with 1 Axes>"
            ],
            "image/png": "[encoded data removed]"
          },
          "metadata": {}
        }
      ],
      "source": [
        "new_test_df['rougher.input.feed_size'].hist(figsize=(15, 10), bins=20, alpha=1, density=True)\n",
        "new_train_df['rougher.input.feed_size'].hist(figsize=(15, 10), bins=20, alpha=0.5, density=True)\n",
        "plt.legend(['тестовая выборка', 'обучающая выборка'])\n",
        "plt.title('Распределения размеров гранул сырья на этапе rougher.input')\n",
        "plt.xlabel('размер')\n",
        "plt.ylabel('соотношение');"
      ]
    },
    {
      "cell_type": "code",
      "execution_count": 23,
      "metadata": {
        "colab": {
          "base_uri": "https://localhost:8080/",
          "height": 872
        },
        "id": "S3tUUNA4uJiv",
        "outputId": "8f6f1a15-8a34-490c-8b4a-3d8991a0fd6e"
      },
      "outputs": [
        {
          "output_type": "display_data",
          "data": {
            "text/plain": [
              "<Figure size 1500x1000 with 1 Axes>"
            ],
            "image/png": "[encoded data removed]"
          },
          "metadata": {}
        }
      ],
      "source": [
        "new_test_df['primary_cleaner.input.feed_size'].hist(figsize=(15, 10), bins=20, alpha=1, density=True)\n",
        "new_train_df['primary_cleaner.input.feed_size'].hist(figsize=(15, 10), bins=20, alpha=0.5, density=True)\n",
        "plt.legend(['тестовая выборка', 'обучающая выборка'])\n",
        "plt.title('Распределения размеров гранул сырья на этапе primary_cleaner.input')\n",
        "plt.xlabel('размер')\n",
        "plt.ylabel('соотношение');"
      ]
    },
    {
      "cell_type": "markdown",
      "metadata": {
        "id": "zPH5Y2-lrlXf"
      },
      "source": [
        "По графику видно, что распределения близки друг к другу, следовательно, размеры гранул на обучающей и тестовой выборках отличаются несущественно"
      ]
    },
    {
      "cell_type": "markdown",
      "metadata": {
        "id": "H_BaucSKr0Dn"
      },
      "source": [
        "### Исследуйте суммарную концентрацию всех веществ на разных стадиях: в сырье, в черновом и финальном концентратах\n",
        "\n",
        "<b><font size=4></font></b><a name=\"1.3.\"></a>\n",
        "\n",
        "[<font size=\"2\">(к содержанию)</font>](#to_content.)\n"
      ]
    },
    {
      "cell_type": "code",
      "execution_count": 24,
      "metadata": {
        "id": "f3xT8ka-u2Mc"
      },
      "outputs": [],
      "source": [
        "feed_concentrate = full_df['rougher.input.feed_ag'] + full_df['rougher.input.feed_pb'] +\\\n",
        "            full_df['rougher.input.feed_sol'] + full_df['rougher.input.feed_au']\n",
        "rougher_concentrate = full_df['rougher.output.concentrate_ag'] + full_df['rougher.output.concentrate_pb'] +\\\n",
        "            full_df['rougher.output.concentrate_sol'] + full_df['rougher.output.concentrate_au']\n",
        "final_concentrate = full_df['final.output.concentrate_ag'] + full_df['final.output.concentrate_pb'] +\\\n",
        "            full_df['final.output.concentrate_sol'] + full_df['final.output.concentrate_au']"
      ]
    },
    {
      "cell_type": "markdown",
      "metadata": {
        "id": "YQ5EeXPpu40v"
      },
      "source": [
        "Строим гистограмму"
      ]
    },
    {
      "cell_type": "code",
      "execution_count": 25,
      "metadata": {
        "colab": {
          "base_uri": "https://localhost:8080/",
          "height": 872
        },
        "id": "pN0vBhUmvBEU",
        "outputId": "172ce890-2054-4126-fd9e-8e7d83638165"
      },
      "outputs": [
        {
          "output_type": "display_data",
          "data": {
            "text/plain": [
              "<Figure size 1500x1000 with 1 Axes>"
            ],
            "image/png": "[encoded data removed]"
          },
          "metadata": {}
        }
      ],
      "source": [
        "feed_concentrate.hist(figsize=(15, 10), bins=20, alpha=1, density=True)\n",
        "rougher_concentrate.hist(figsize=(15, 10), bins=20, alpha=0.5, density=True)\n",
        "final_concentrate.hist(figsize=(15, 10), bins=20, alpha=0.5, density=True)\n",
        "plt.legend(['Сырьё', 'черновой концентрат', 'финальный концентрат'])\n",
        "plt.title('Суммарная концентрация всех веществ на разных стадиях')\n",
        "plt.xlabel('концентрация')\n",
        "plt.ylabel('соотношение');"
      ]
    },
    {
      "cell_type": "markdown",
      "metadata": {
        "id": "MnWC2MF9vW5e"
      },
      "source": [
        "Вывод\n",
        "\n",
        "Аномальные значения возле нуля. Значит четверть выборки  можно  удалить для построения более точной модели, но для сырья оставим значение меньше 1, потому что мы не знаем в каком виде  поступит сырьё на производство."
      ]
    },
    {
      "cell_type": "markdown",
      "metadata": {
        "id": "xuCFHcmj5hi5"
      },
      "source": [
        "ВЫВОД\n",
        "Анализ суммарных концентраций подтвердил наличие аномальных данных.\n",
        "Такое возможно только если:\n",
        "* ошибка в данных\n",
        "* пустая порода ПИ, которая не имела в себе концентраций необходимых материалов\n",
        "* порода осталась в хвостах после обогащения"
      ]
    },
    {
      "cell_type": "markdown",
      "metadata": {
        "id": "Lp1UtVQvn6wm"
      },
      "source": [
        "Сделаем функцию, выводящую гистограмму на экран"
      ]
    },
    {
      "cell_type": "markdown",
      "metadata": {
        "id": "NWbHPrNCn6wm"
      },
      "source": [
        "Выведем гистограммы концентрации вещества по стадиям для каждого металла"
      ]
    },
    {
      "cell_type": "code",
      "execution_count": 26,
      "metadata": {
        "colab": {
          "base_uri": "https://localhost:8080/",
          "height": 1000
        },
        "id": "vZCZOApwn6wm",
        "outputId": "68ee3109-c764-4879-e213-b8e870dfe4c6"
      },
      "outputs": [
        {
          "output_type": "display_data",
          "data": {
            "text/plain": [
              "<Figure size 1200x900 with 1 Axes>"
            ],
            "image/png": "[encoded data removed]"
          },
          "metadata": {}
        },
        {
          "output_type": "display_data",
          "data": {
            "text/plain": [
              "<Figure size 1200x900 with 1 Axes>"
            ],
            "image/png": "[encoded data removed]"
          },
          "metadata": {}
        },
        {
          "output_type": "display_data",
          "data": {
            "text/plain": [
              "<Figure size 1200x900 with 1 Axes>"
            ],
            "image/png": "[encoded data removed]"
          },
          "metadata": {}
        }
      ],
      "source": [
        "# список для цикла\n",
        "sub_list = {'au':'золото',\n",
        "            'ag':'серебро',\n",
        "            'pb':'свинец'}\n",
        "\n",
        "# создаём цикл для вывода необходимых графиков\n",
        "for sub in sub_list:\n",
        "    plt.figure(figsize=(12,9))\n",
        "\n",
        "    for col in full_df.columns:\n",
        "        if ('concentrate_'+sub) in col:\n",
        "            full_df[col].hist(alpha=0.7, edgecolor='k')\n",
        "\n",
        "    plt.legend(list(filter(lambda col: ('concentrate_'+sub) in col, full_df.columns)))\n",
        "    plt.title(f'Концентрация {sub_list[sub]} на различных этапах флотации', fontsize='xx-large')\n",
        "    plt.xlabel('Суммарная концентрация')\n",
        "    plt.ylabel('Частота')\n",
        "    plt.show()"
      ]
    },
    {
      "cell_type": "code",
      "execution_count": 27,
      "metadata": {
        "id": "9Vn1ZCf5wCz8"
      },
      "outputs": [],
      "source": [
        "full_df = full_df.query('@feed_concentrate > 1 & @rougher_concentrate > 25 & @final_concentrate > 25')"
      ]
    },
    {
      "cell_type": "code",
      "execution_count": 28,
      "metadata": {
        "colab": {
          "base_uri": "https://localhost:8080/"
        },
        "id": "0zhvXmCwIdSi",
        "outputId": "9512d700-2985-45be-c639-790e39f63b37"
      },
      "outputs": [
        {
          "output_type": "stream",
          "name": "stdout",
          "text": [
            "Кол-во строк до фильтрации в обучающей выборке 14149\n",
            "Кол-во строк после фильтрации в обучающей выборке 13348\n"
          ]
        }
      ],
      "source": [
        "sort_train_df = new_train_df[new_train_df.index.isin(full_df.index)]\n",
        "\n",
        "print('Кол-во строк до фильтрации в обучающей выборке', new_train_df.shape[0])\n",
        "print('Кол-во строк после фильтрации в обучающей выборке', sort_train_df.shape[0])"
      ]
    },
    {
      "cell_type": "code",
      "execution_count": 29,
      "metadata": {
        "colab": {
          "base_uri": "https://localhost:8080/"
        },
        "id": "Fy6Q4CsrpHcc",
        "outputId": "beaf155f-a7a0-441e-d547-34ef8ca6805a"
      },
      "outputs": [
        {
          "output_type": "stream",
          "name": "stdout",
          "text": [
            "Кол-во строк до фильтрации в тестовой выборке 5290\n",
            "Кол-во строк после фильтрации в тестовой выборке 5122\n"
          ]
        }
      ],
      "source": [
        "sort_test_df = new_test_df[new_test_df.index.isin(full_df.index)]\n",
        "\n",
        "print('Кол-во строк до фильтрации в тестовой выборке', new_test_df.shape[0])\n",
        "print('Кол-во строк после фильтрации в тестовой выборке', sort_test_df.shape[0])"
      ]
    },
    {
      "cell_type": "markdown",
      "metadata": {
        "id": "hZ1osAJ0wOQo"
      },
      "source": [
        "#### Подготовка выборки для обучения модели"
      ]
    },
    {
      "cell_type": "markdown",
      "metadata": {
        "id": "QhL8gTe1wdeB"
      },
      "source": [
        "1. Добавим целевые признаки по индексам (тогда индексы в обеих выборках совпадут и мы отберём из трейна выбросы, которые мы обнаружили в полной выборке.\n",
        "2. Тоже самое проделаем и с тестовой выборкой.\n",
        "3. Сравним выборки"
      ]
    },
    {
      "cell_type": "code",
      "execution_count": 30,
      "metadata": {
        "colab": {
          "base_uri": "https://localhost:8080/"
        },
        "id": "ICf3oMDyw3dC",
        "outputId": "a00ce760-7455-406f-fb60-74ac483ddf1a"
      },
      "outputs": [
        {
          "output_type": "stream",
          "name": "stdout",
          "text": [
            "Кол-во строк до объединения в обучающей выборке 13348\n",
            "Кол-во строк после объединения в обучающей выборке 13348\n"
          ]
        }
      ],
      "source": [
        "# обучающая выборка\n",
        "good_df_for_train = pd.merge(sort_train_df, full_df[['rougher.output.recovery', 'final.output.recovery']],\n",
        "        left_index=True, right_index=True)\n",
        "\n",
        "print('Кол-во строк до объединения в обучающей выборке', good_df_for_train.shape[0])\n",
        "print('Кол-во строк после объединения в обучающей выборке', good_df_for_train.shape[0])"
      ]
    },
    {
      "cell_type": "code",
      "execution_count": 31,
      "metadata": {
        "colab": {
          "base_uri": "https://localhost:8080/"
        },
        "id": "5ukdGsZWxO2j",
        "outputId": "529deff1-78aa-493d-9177-77b5962eae8d"
      },
      "outputs": [
        {
          "output_type": "stream",
          "name": "stdout",
          "text": [
            "Колличество строк до объединения в тестовой выборке 5122\n",
            "Колличество строк после объединения в тестовой выборке 5122\n"
          ]
        }
      ],
      "source": [
        "# тестовая выборка\n",
        "good_df_for_test = pd.merge(sort_test_df, full_df[['rougher.output.recovery', 'final.output.recovery']],\n",
        "         left_index=True, right_index=True)\n",
        "\n",
        "print('Колличество строк до объединения в тестовой выборке', good_df_for_test.shape[0])\n",
        "print('Колличество строк после объединения в тестовой выборке', good_df_for_test.shape[0])"
      ]
    },
    {
      "cell_type": "markdown",
      "metadata": {
        "id": "i1m6HEglLOua"
      },
      "source": [
        "<b><font size=5>Модель</font></b><a name=\"2.\"></a>\n",
        "\n",
        "[<font size=\"2\">(к содержанию)</font>](#to_content.)"
      ]
    },
    {
      "cell_type": "markdown",
      "metadata": {
        "id": "KRP1R9yiOPN6"
      },
      "source": [
        "Разделим нашу выборку на признак и целевой признак."
      ]
    },
    {
      "cell_type": "code",
      "execution_count": 32,
      "metadata": {
        "id": "C1Te9Y2vOZtA"
      },
      "outputs": [],
      "source": [
        "x_train = good_df_for_train.drop(['rougher.output.recovery', 'final.output.recovery'], axis=1)\n",
        "y_train_rougher = good_df_for_train['rougher.output.recovery']\n",
        "\n",
        "y_train_final = good_df_for_train['final.output.recovery']\n",
        "x_test = good_df_for_test.drop(['rougher.output.recovery', 'final.output.recovery'], axis=1)\n",
        "\n",
        "y_test_rougher = good_df_for_test['rougher.output.recovery']\n",
        "y_test_final = good_df_for_test['final.output.recovery']"
      ]
    },
    {
      "cell_type": "markdown",
      "metadata": {
        "id": "ii_zQoz_E2m7"
      },
      "source": [
        "### Формулы метрик качества"
      ]
    },
    {
      "cell_type": "markdown",
      "metadata": {
        "id": "eCxqnuRdE5cX"
      },
      "source": [
        "$$\n",
        "\\\\sMAPE = \\frac{1}{N}\\sum_{i=1}^{N}*\\frac{|y_{i}-\\hat{y}|}{(|y_{i}|+|\\hat{y}|)/2}*100\\%\n",
        "$$\n",
        "\n",
        "$$\n",
        "\\\\final = 25\\% * sMAPE(rougher) + 75\\% * sMAPE(final)\n",
        "$$"
      ]
    },
    {
      "cell_type": "markdown",
      "metadata": {
        "id": "eX1OkoT_E_U-"
      },
      "source": [
        "Определим функции для вычисления метрик качества"
      ]
    },
    {
      "cell_type": "code",
      "execution_count": 33,
      "metadata": {
        "id": "bUE2zWgqFGbG"
      },
      "outputs": [],
      "source": [
        "# sMAPE\n",
        "def sMAPE(true, pred):\n",
        "    return 100/len(true) * np.sum(2 * np.abs(pred - true) / (np.abs(true) + np.abs(pred)))"
      ]
    },
    {
      "cell_type": "code",
      "execution_count": 34,
      "metadata": {
        "id": "josJ8TSWOt9b"
      },
      "outputs": [],
      "source": [
        "# Итоговый sMAPE\n",
        "def the_total_sMAPE(sMAPE_rougher,sMAPE_final):\n",
        "    return (0.25 * sMAPE_rougher + 0.75 * sMAPE_final)"
      ]
    },
    {
      "cell_type": "code",
      "execution_count": 35,
      "metadata": {
        "id": "Pl5zjkj3FNmn"
      },
      "outputs": [],
      "source": [
        "smape_score = make_scorer(sMAPE, greater_is_better=False)"
      ]
    },
    {
      "cell_type": "markdown",
      "metadata": {
        "id": "yTO_-H9lFPtU"
      },
      "source": [
        "<b><font size=4>Обучение модели и оценка качества</font></b><a name=\"2.2.\"></a>\n",
        "\n",
        "[<font size=\"2\">(к содержанию)</font>](#to_content.)"
      ]
    },
    {
      "cell_type": "markdown",
      "metadata": {
        "id": "_EzfGR8_P9mU"
      },
      "source": [
        "Автоматизируем наш процесс обучения с помощью пайплайна."
      ]
    },
    {
      "cell_type": "code",
      "execution_count": 36,
      "metadata": {
        "id": "Ja_ECY7MQD3C"
      },
      "outputs": [],
      "source": [
        "lasso_model = make_pipeline(StandardScaler(), Lasso(random_state=71))\n",
        "forestregressor_model = make_pipeline(StandardScaler(), RandomForestRegressor(random_state=71))\n",
        "treeregressor_model = make_pipeline(StandardScaler(), DecisionTreeRegressor(random_state=71))"
      ]
    },
    {
      "cell_type": "markdown",
      "metadata": {
        "id": "So177jzEQq_Q"
      },
      "source": [
        "Для передачи параметров для кросс-валидации посмотрим наименование у каждой модели."
      ]
    },
    {
      "cell_type": "code",
      "execution_count": 37,
      "metadata": {
        "colab": {
          "base_uri": "https://localhost:8080/"
        },
        "id": "lYUa6VRHQ86x",
        "outputId": "28a3fdb7-237d-4fab-86d6-b5fd94c72a46"
      },
      "outputs": [
        {
          "output_type": "execute_result",
          "data": {
            "text/plain": [
              "dict_keys(['memory', 'steps', 'verbose', 'standardscaler', 'lasso', 'standardscaler__copy', 'standardscaler__with_mean', 'standardscaler__with_std', 'lasso__alpha', 'lasso__copy_X', 'lasso__fit_intercept', 'lasso__max_iter', 'lasso__positive', 'lasso__precompute', 'lasso__random_state', 'lasso__selection', 'lasso__tol', 'lasso__warm_start'])"
            ]
          },
          "metadata": {},
          "execution_count": 37
        }
      ],
      "source": [
        "lasso_model.get_params().keys()"
      ]
    },
    {
      "cell_type": "code",
      "execution_count": 38,
      "metadata": {
        "colab": {
          "base_uri": "https://localhost:8080/"
        },
        "id": "uaX4CSIHRF6v",
        "outputId": "282da513-8c2c-4320-ff75-6d478495497a"
      },
      "outputs": [
        {
          "output_type": "execute_result",
          "data": {
            "text/plain": [
              "dict_keys(['memory', 'steps', 'verbose', 'standardscaler', 'randomforestregressor', 'standardscaler__copy', 'standardscaler__with_mean', 'standardscaler__with_std', 'randomforestregressor__bootstrap', 'randomforestregressor__ccp_alpha', 'randomforestregressor__criterion', 'randomforestregressor__max_depth', 'randomforestregressor__max_features', 'randomforestregressor__max_leaf_nodes', 'randomforestregressor__max_samples', 'randomforestregressor__min_impurity_decrease', 'randomforestregressor__min_samples_leaf', 'randomforestregressor__min_samples_split', 'randomforestregressor__min_weight_fraction_leaf', 'randomforestregressor__n_estimators', 'randomforestregressor__n_jobs', 'randomforestregressor__oob_score', 'randomforestregressor__random_state', 'randomforestregressor__verbose', 'randomforestregressor__warm_start'])"
            ]
          },
          "metadata": {},
          "execution_count": 38
        }
      ],
      "source": [
        "forestregressor_model.get_params().keys()"
      ]
    },
    {
      "cell_type": "code",
      "execution_count": 39,
      "metadata": {
        "colab": {
          "base_uri": "https://localhost:8080/"
        },
        "id": "FsFg3OZfRKrB",
        "outputId": "a1863cb8-6b84-4c56-f7dc-574a361dd346"
      },
      "outputs": [
        {
          "output_type": "execute_result",
          "data": {
            "text/plain": [
              "dict_keys(['memory', 'steps', 'verbose', 'standardscaler', 'decisiontreeregressor', 'standardscaler__copy', 'standardscaler__with_mean', 'standardscaler__with_std', 'decisiontreeregressor__ccp_alpha', 'decisiontreeregressor__criterion', 'decisiontreeregressor__max_depth', 'decisiontreeregressor__max_features', 'decisiontreeregressor__max_leaf_nodes', 'decisiontreeregressor__min_impurity_decrease', 'decisiontreeregressor__min_samples_leaf', 'decisiontreeregressor__min_samples_split', 'decisiontreeregressor__min_weight_fraction_leaf', 'decisiontreeregressor__random_state', 'decisiontreeregressor__splitter'])"
            ]
          },
          "metadata": {},
          "execution_count": 39
        }
      ],
      "source": [
        "treeregressor_model.get_params().keys()"
      ]
    },
    {
      "cell_type": "markdown",
      "metadata": {
        "id": "p2LzztgqPo-C"
      },
      "source": [
        "Передаём параметры."
      ]
    },
    {
      "cell_type": "code",
      "execution_count": 40,
      "metadata": {
        "id": "48z_j4KiPrT_"
      },
      "outputs": [],
      "source": [
        "lasso_params = {'lasso__alpha':[0.02, 0.024, 0.025, 0.026, 0.03]}\n",
        "forestregressor_params = {'randomforestregressor__n_estimators':range(10, 61, 10),\n",
        "             'randomforestregressor__max_depth':range (1,10)}\n",
        "treeregressor_params= {'decisiontreeregressor__max_depth':range (1,10)}\n"
      ]
    },
    {
      "cell_type": "markdown",
      "metadata": {
        "id": "6HpSE7iIRuPe"
      },
      "source": [
        "Напишем кросс-валидацию для линейной - модели"
      ]
    },
    {
      "cell_type": "code",
      "execution_count": 41,
      "metadata": {
        "id": "NJsujfnsR0H4"
      },
      "outputs": [],
      "source": [
        "grid_rougher_lasso = RandomizedSearchCV(lasso_model, param_distributions = lasso_params, cv=4,\n",
        "                                            scoring = smape_score, n_jobs=-1)\n",
        "grid_final_lasso = RandomizedSearchCV(lasso_model, param_distributions = lasso_params, cv=4,\n",
        "                                            scoring = smape_score, n_jobs=-1)"
      ]
    },
    {
      "cell_type": "markdown",
      "metadata": {
        "id": "AKzdQcTBSV64"
      },
      "source": [
        "Напишем кросс-валидацию для дерева - модели"
      ]
    },
    {
      "cell_type": "code",
      "execution_count": 42,
      "metadata": {
        "id": "Hb85MRh8ShZy"
      },
      "outputs": [],
      "source": [
        "grid_rougher_treeregressor = RandomizedSearchCV(treeregressor_model, cv=5, param_distributions = treeregressor_params,\n",
        "                                          scoring=smape_score, n_jobs=-1)\n",
        "grid_final_treeregressor = RandomizedSearchCV(treeregressor_model, cv=5, param_distributions = treeregressor_params,\n",
        "                                        scoring=smape_score, n_jobs=-1)"
      ]
    },
    {
      "cell_type": "markdown",
      "metadata": {
        "id": "wU2dPsR1SlcD"
      },
      "source": [
        "Напишем кросс-валидацию для леса - модели"
      ]
    },
    {
      "cell_type": "code",
      "execution_count": 43,
      "metadata": {
        "id": "3zBKzVVdSjee"
      },
      "outputs": [],
      "source": [
        "grid_rougher_forestregressor = RandomizedSearchCV(forestregressor_model, cv=5, param_distributions = forestregressor_params,\n",
        "                                            scoring = smape_score, n_jobs=-1)\n",
        "grid_final_forestregressor = RandomizedSearchCV(forestregressor_model, cv=5, param_distributions = forestregressor_params,\n",
        "                                          scoring=smape_score, n_jobs=-1)"
      ]
    },
    {
      "cell_type": "markdown",
      "metadata": {
        "id": "0gfNn97SSvE6"
      },
      "source": [
        "Обучим наши модели"
      ]
    },
    {
      "cell_type": "code",
      "execution_count": 44,
      "metadata": {
        "colab": {
          "base_uri": "https://localhost:8080/",
          "height": 224
        },
        "id": "UZ6UeVu8S0fO",
        "outputId": "e084a7d9-5241-4b91-a9aa-58d2bd8aa3ab"
      },
      "outputs": [
        {
          "output_type": "stream",
          "name": "stderr",
          "text": [
            "/usr/local/lib/python3.10/dist-packages/sklearn/model_selection/_search.py:305: UserWarning: The total space of parameters 5 is smaller than n_iter=10. Running 5 iterations. For exhaustive searches, use GridSearchCV.\n",
            "  warnings.warn(\n",
            "/usr/local/lib/python3.10/dist-packages/sklearn/model_selection/_search.py:305: UserWarning: The total space of parameters 5 is smaller than n_iter=10. Running 5 iterations. For exhaustive searches, use GridSearchCV.\n",
            "  warnings.warn(\n"
          ]
        },
        {
          "output_type": "execute_result",
          "data": {
            "text/plain": [
              "RandomizedSearchCV(cv=4,\n",
              "                   estimator=Pipeline(steps=[('standardscaler',\n",
              "                                              StandardScaler()),\n",
              "                                             ('lasso',\n",
              "                                              Lasso(random_state=71))]),\n",
              "                   n_jobs=-1,\n",
              "                   param_distributions={'lasso__alpha': [0.02, 0.024, 0.025,\n",
              "                                                         0.026, 0.03]},\n",
              "                   scoring=make_scorer(sMAPE, greater_is_better=False))"
            ],
            "text/html": [
              "<style>#sk-container-id-1 {color: black;background-color: white;}#sk-container-id-1 pre{padding: 0;}#sk-container-id-1 div.sk-toggleable {background-color: white;}#sk-container-id-1 label.sk-toggleable__label {cursor: pointer;display: block;width: 100%;margin-bottom: 0;padding: 0.3em;box-sizing: border-box;text-align: center;}#sk-container-id-1 label.sk-toggleable__label-arrow:before {content: \"▸\";float: left;margin-right: 0.25em;color: #696969;}#sk-container-id-1 label.sk-toggleable__label-arrow:hover:before {color: black;}#sk-container-id-1 div.sk-estimator:hover label.sk-toggleable__label-arrow:before {color: black;}#sk-container-id-1 div.sk-toggleable__content {max-height: 0;max-width: 0;overflow: hidden;text-align: left;background-color: #f0f8ff;}#sk-container-id-1 div.sk-toggleable__content pre {margin: 0.2em;color: black;border-radius: 0.25em;background-color: #f0f8ff;}#sk-container-id-1 input.sk-toggleable__control:checked~div.sk-toggleable__content {max-height: 200px;max-width: 100%;overflow: auto;}#sk-container-id-1 input.sk-toggleable__control:checked~label.sk-toggleable__label-arrow:before {content: \"▾\";}#sk-container-id-1 div.sk-estimator input.sk-toggleable__control:checked~label.sk-toggleable__label {background-color: #d4ebff;}#sk-container-id-1 div.sk-label input.sk-toggleable__control:checked~label.sk-toggleable__label {background-color: #d4ebff;}#sk-container-id-1 input.sk-hidden--visually {border: 0;clip: rect(1px 1px 1px 1px);clip: rect(1px, 1px, 1px, 1px);height: 1px;margin: -1px;overflow: hidden;padding: 0;position: absolute;width: 1px;}#sk-container-id-1 div.sk-estimator {font-family: monospace;background-color: #f0f8ff;border: 1px dotted black;border-radius: 0.25em;box-sizing: border-box;margin-bottom: 0.5em;}#sk-container-id-1 div.sk-estimator:hover {background-color: #d4ebff;}#sk-container-id-1 div.sk-parallel-item::after {content: \"\";width: 100%;border-bottom: 1px solid gray;flex-grow: 1;}#sk-container-id-1 div.sk-label:hover label.sk-toggleable__label {background-color: #d4ebff;}#sk-container-id-1 div.sk-serial::before {content: \"\";position: absolute;border-left: 1px solid gray;box-sizing: border-box;top: 0;bottom: 0;left: 50%;z-index: 0;}#sk-container-id-1 div.sk-serial {display: flex;flex-direction: column;align-items: center;background-color: white;padding-right: 0.2em;padding-left: 0.2em;position: relative;}#sk-container-id-1 div.sk-item {position: relative;z-index: 1;}#sk-container-id-1 div.sk-parallel {display: flex;align-items: stretch;justify-content: center;background-color: white;position: relative;}#sk-container-id-1 div.sk-item::before, #sk-container-id-1 div.sk-parallel-item::before {content: \"\";position: absolute;border-left: 1px solid gray;box-sizing: border-box;top: 0;bottom: 0;left: 50%;z-index: -1;}#sk-container-id-1 div.sk-parallel-item {display: flex;flex-direction: column;z-index: 1;position: relative;background-color: white;}#sk-container-id-1 div.sk-parallel-item:first-child::after {align-self: flex-end;width: 50%;}#sk-container-id-1 div.sk-parallel-item:last-child::after {align-self: flex-start;width: 50%;}#sk-container-id-1 div.sk-parallel-item:only-child::after {width: 0;}#sk-container-id-1 div.sk-dashed-wrapped {border: 1px dashed gray;margin: 0 0.4em 0.5em 0.4em;box-sizing: border-box;padding-bottom: 0.4em;background-color: white;}#sk-container-id-1 div.sk-label label {font-family: monospace;font-weight: bold;display: inline-block;line-height: 1.2em;}#sk-container-id-1 div.sk-label-container {text-align: center;}#sk-container-id-1 div.sk-container {/* jupyter's `normalize.less` sets `[hidden] { display: none; }` but bootstrap.min.css set `[hidden] { display: none !important; }` so we also need the `!important` here to be able to override the default hidden behavior on the sphinx rendered scikit-learn.org. See: https://github.com/scikit-learn/scikit-learn/issues/21755 */display: inline-block !important;position: relative;}#sk-container-id-1 div.sk-text-repr-fallback {display: none;}</style><div id=\"sk-container-id-1\" class=\"sk-top-container\"><div class=\"sk-text-repr-fallback\"><pre>RandomizedSearchCV(cv=4,\n",
              "                   estimator=Pipeline(steps=[(&#x27;standardscaler&#x27;,\n",
              "                                              StandardScaler()),\n",
              "                                             (&#x27;lasso&#x27;,\n",
              "                                              Lasso(random_state=71))]),\n",
              "                   n_jobs=-1,\n",
              "                   param_distributions={&#x27;lasso__alpha&#x27;: [0.02, 0.024, 0.025,\n",
              "                                                         0.026, 0.03]},\n",
              "                   scoring=make_scorer(sMAPE, greater_is_better=False))</pre><b>In a Jupyter environment, please rerun this cell to show the HTML representation or trust the notebook. <br />On GitHub, the HTML representation is unable to render, please try loading this page with nbviewer.org.</b></div><div class=\"sk-container\" hidden><div class=\"sk-item sk-dashed-wrapped\"><div class=\"sk-label-container\"><div class=\"sk-label sk-toggleable\"><input class=\"sk-toggleable__control sk-hidden--visually\" id=\"sk-estimator-id-1\" type=\"checkbox\" ><label for=\"sk-estimator-id-1\" class=\"sk-toggleable__label sk-toggleable__label-arrow\">RandomizedSearchCV</label><div class=\"sk-toggleable__content\"><pre>RandomizedSearchCV(cv=4,\n",
              "                   estimator=Pipeline(steps=[(&#x27;standardscaler&#x27;,\n",
              "                                              StandardScaler()),\n",
              "                                             (&#x27;lasso&#x27;,\n",
              "                                              Lasso(random_state=71))]),\n",
              "                   n_jobs=-1,\n",
              "                   param_distributions={&#x27;lasso__alpha&#x27;: [0.02, 0.024, 0.025,\n",
              "                                                         0.026, 0.03]},\n",
              "                   scoring=make_scorer(sMAPE, greater_is_better=False))</pre></div></div></div><div class=\"sk-parallel\"><div class=\"sk-parallel-item\"><div class=\"sk-item\"><div class=\"sk-label-container\"><div class=\"sk-label sk-toggleable\"><input class=\"sk-toggleable__control sk-hidden--visually\" id=\"sk-estimator-id-2\" type=\"checkbox\" ><label for=\"sk-estimator-id-2\" class=\"sk-toggleable__label sk-toggleable__label-arrow\">estimator: Pipeline</label><div class=\"sk-toggleable__content\"><pre>Pipeline(steps=[(&#x27;standardscaler&#x27;, StandardScaler()),\n",
              "                (&#x27;lasso&#x27;, Lasso(random_state=71))])</pre></div></div></div><div class=\"sk-serial\"><div class=\"sk-item\"><div class=\"sk-serial\"><div class=\"sk-item\"><div class=\"sk-estimator sk-toggleable\"><input class=\"sk-toggleable__control sk-hidden--visually\" id=\"sk-estimator-id-3\" type=\"checkbox\" ><label for=\"sk-estimator-id-3\" class=\"sk-toggleable__label sk-toggleable__label-arrow\">StandardScaler</label><div class=\"sk-toggleable__content\"><pre>StandardScaler()</pre></div></div></div><div class=\"sk-item\"><div class=\"sk-estimator sk-toggleable\"><input class=\"sk-toggleable__control sk-hidden--visually\" id=\"sk-estimator-id-4\" type=\"checkbox\" ><label for=\"sk-estimator-id-4\" class=\"sk-toggleable__label sk-toggleable__label-arrow\">Lasso</label><div class=\"sk-toggleable__content\"><pre>Lasso(random_state=71)</pre></div></div></div></div></div></div></div></div></div></div></div></div>"
            ]
          },
          "metadata": {},
          "execution_count": 44
        }
      ],
      "source": [
        "# Лассо-регрессия\n",
        "grid_rougher_lasso.fit(x_train,y_train_rougher)\n",
        "grid_final_lasso.fit(x_train,y_train_final)"
      ]
    },
    {
      "cell_type": "code",
      "execution_count": 45,
      "metadata": {
        "colab": {
          "base_uri": "https://localhost:8080/"
        },
        "id": "iQlLxycJfko8",
        "outputId": "393a6168-4260-448b-91ff-257428eb1d27"
      },
      "outputs": [
        {
          "output_type": "stream",
          "name": "stdout",
          "text": [
            "6.936034041577427\n"
          ]
        }
      ],
      "source": [
        "print(grid_rougher_lasso.best_score_ * (-1))"
      ]
    },
    {
      "cell_type": "code",
      "execution_count": 46,
      "metadata": {
        "colab": {
          "base_uri": "https://localhost:8080/"
        },
        "id": "piG0XCpmfrXL",
        "outputId": "7c1dbb7b-19ff-4d39-973f-c910994f977f"
      },
      "outputs": [
        {
          "output_type": "stream",
          "name": "stdout",
          "text": [
            "9.761931214564193\n"
          ]
        }
      ],
      "source": [
        "print(grid_final_lasso.best_score_ * (-1))"
      ]
    },
    {
      "cell_type": "code",
      "execution_count": 47,
      "metadata": {
        "colab": {
          "base_uri": "https://localhost:8080/",
          "height": 224
        },
        "id": "51LAQKLtT7LT",
        "outputId": "43437da7-cdcf-42d2-ddc7-e7479769cbb0"
      },
      "outputs": [
        {
          "output_type": "stream",
          "name": "stderr",
          "text": [
            "/usr/local/lib/python3.10/dist-packages/sklearn/model_selection/_search.py:305: UserWarning: The total space of parameters 9 is smaller than n_iter=10. Running 9 iterations. For exhaustive searches, use GridSearchCV.\n",
            "  warnings.warn(\n",
            "/usr/local/lib/python3.10/dist-packages/sklearn/model_selection/_search.py:305: UserWarning: The total space of parameters 9 is smaller than n_iter=10. Running 9 iterations. For exhaustive searches, use GridSearchCV.\n",
            "  warnings.warn(\n"
          ]
        },
        {
          "output_type": "execute_result",
          "data": {
            "text/plain": [
              "RandomizedSearchCV(cv=5,\n",
              "                   estimator=Pipeline(steps=[('standardscaler',\n",
              "                                              StandardScaler()),\n",
              "                                             ('decisiontreeregressor',\n",
              "                                              DecisionTreeRegressor(random_state=71))]),\n",
              "                   n_jobs=-1,\n",
              "                   param_distributions={'decisiontreeregressor__max_depth': range(1, 10)},\n",
              "                   scoring=make_scorer(sMAPE, greater_is_better=False))"
            ],
            "text/html": [
              "<style>#sk-container-id-2 {color: black;background-color: white;}#sk-container-id-2 pre{padding: 0;}#sk-container-id-2 div.sk-toggleable {background-color: white;}#sk-container-id-2 label.sk-toggleable__label {cursor: pointer;display: block;width: 100%;margin-bottom: 0;padding: 0.3em;box-sizing: border-box;text-align: center;}#sk-container-id-2 label.sk-toggleable__label-arrow:before {content: \"▸\";float: left;margin-right: 0.25em;color: #696969;}#sk-container-id-2 label.sk-toggleable__label-arrow:hover:before {color: black;}#sk-container-id-2 div.sk-estimator:hover label.sk-toggleable__label-arrow:before {color: black;}#sk-container-id-2 div.sk-toggleable__content {max-height: 0;max-width: 0;overflow: hidden;text-align: left;background-color: #f0f8ff;}#sk-container-id-2 div.sk-toggleable__content pre {margin: 0.2em;color: black;border-radius: 0.25em;background-color: #f0f8ff;}#sk-container-id-2 input.sk-toggleable__control:checked~div.sk-toggleable__content {max-height: 200px;max-width: 100%;overflow: auto;}#sk-container-id-2 input.sk-toggleable__control:checked~label.sk-toggleable__label-arrow:before {content: \"▾\";}#sk-container-id-2 div.sk-estimator input.sk-toggleable__control:checked~label.sk-toggleable__label {background-color: #d4ebff;}#sk-container-id-2 div.sk-label input.sk-toggleable__control:checked~label.sk-toggleable__label {background-color: #d4ebff;}#sk-container-id-2 input.sk-hidden--visually {border: 0;clip: rect(1px 1px 1px 1px);clip: rect(1px, 1px, 1px, 1px);height: 1px;margin: -1px;overflow: hidden;padding: 0;position: absolute;width: 1px;}#sk-container-id-2 div.sk-estimator {font-family: monospace;background-color: #f0f8ff;border: 1px dotted black;border-radius: 0.25em;box-sizing: border-box;margin-bottom: 0.5em;}#sk-container-id-2 div.sk-estimator:hover {background-color: #d4ebff;}#sk-container-id-2 div.sk-parallel-item::after {content: \"\";width: 100%;border-bottom: 1px solid gray;flex-grow: 1;}#sk-container-id-2 div.sk-label:hover label.sk-toggleable__label {background-color: #d4ebff;}#sk-container-id-2 div.sk-serial::before {content: \"\";position: absolute;border-left: 1px solid gray;box-sizing: border-box;top: 0;bottom: 0;left: 50%;z-index: 0;}#sk-container-id-2 div.sk-serial {display: flex;flex-direction: column;align-items: center;background-color: white;padding-right: 0.2em;padding-left: 0.2em;position: relative;}#sk-container-id-2 div.sk-item {position: relative;z-index: 1;}#sk-container-id-2 div.sk-parallel {display: flex;align-items: stretch;justify-content: center;background-color: white;position: relative;}#sk-container-id-2 div.sk-item::before, #sk-container-id-2 div.sk-parallel-item::before {content: \"\";position: absolute;border-left: 1px solid gray;box-sizing: border-box;top: 0;bottom: 0;left: 50%;z-index: -1;}#sk-container-id-2 div.sk-parallel-item {display: flex;flex-direction: column;z-index: 1;position: relative;background-color: white;}#sk-container-id-2 div.sk-parallel-item:first-child::after {align-self: flex-end;width: 50%;}#sk-container-id-2 div.sk-parallel-item:last-child::after {align-self: flex-start;width: 50%;}#sk-container-id-2 div.sk-parallel-item:only-child::after {width: 0;}#sk-container-id-2 div.sk-dashed-wrapped {border: 1px dashed gray;margin: 0 0.4em 0.5em 0.4em;box-sizing: border-box;padding-bottom: 0.4em;background-color: white;}#sk-container-id-2 div.sk-label label {font-family: monospace;font-weight: bold;display: inline-block;line-height: 1.2em;}#sk-container-id-2 div.sk-label-container {text-align: center;}#sk-container-id-2 div.sk-container {/* jupyter's `normalize.less` sets `[hidden] { display: none; }` but bootstrap.min.css set `[hidden] { display: none !important; }` so we also need the `!important` here to be able to override the default hidden behavior on the sphinx rendered scikit-learn.org. See: https://github.com/scikit-learn/scikit-learn/issues/21755 */display: inline-block !important;position: relative;}#sk-container-id-2 div.sk-text-repr-fallback {display: none;}</style><div id=\"sk-container-id-2\" class=\"sk-top-container\"><div class=\"sk-text-repr-fallback\"><pre>RandomizedSearchCV(cv=5,\n",
              "                   estimator=Pipeline(steps=[(&#x27;standardscaler&#x27;,\n",
              "                                              StandardScaler()),\n",
              "                                             (&#x27;decisiontreeregressor&#x27;,\n",
              "                                              DecisionTreeRegressor(random_state=71))]),\n",
              "                   n_jobs=-1,\n",
              "                   param_distributions={&#x27;decisiontreeregressor__max_depth&#x27;: range(1, 10)},\n",
              "                   scoring=make_scorer(sMAPE, greater_is_better=False))</pre><b>In a Jupyter environment, please rerun this cell to show the HTML representation or trust the notebook. <br />On GitHub, the HTML representation is unable to render, please try loading this page with nbviewer.org.</b></div><div class=\"sk-container\" hidden><div class=\"sk-item sk-dashed-wrapped\"><div class=\"sk-label-container\"><div class=\"sk-label sk-toggleable\"><input class=\"sk-toggleable__control sk-hidden--visually\" id=\"sk-estimator-id-5\" type=\"checkbox\" ><label for=\"sk-estimator-id-5\" class=\"sk-toggleable__label sk-toggleable__label-arrow\">RandomizedSearchCV</label><div class=\"sk-toggleable__content\"><pre>RandomizedSearchCV(cv=5,\n",
              "                   estimator=Pipeline(steps=[(&#x27;standardscaler&#x27;,\n",
              "                                              StandardScaler()),\n",
              "                                             (&#x27;decisiontreeregressor&#x27;,\n",
              "                                              DecisionTreeRegressor(random_state=71))]),\n",
              "                   n_jobs=-1,\n",
              "                   param_distributions={&#x27;decisiontreeregressor__max_depth&#x27;: range(1, 10)},\n",
              "                   scoring=make_scorer(sMAPE, greater_is_better=False))</pre></div></div></div><div class=\"sk-parallel\"><div class=\"sk-parallel-item\"><div class=\"sk-item\"><div class=\"sk-label-container\"><div class=\"sk-label sk-toggleable\"><input class=\"sk-toggleable__control sk-hidden--visually\" id=\"sk-estimator-id-6\" type=\"checkbox\" ><label for=\"sk-estimator-id-6\" class=\"sk-toggleable__label sk-toggleable__label-arrow\">estimator: Pipeline</label><div class=\"sk-toggleable__content\"><pre>Pipeline(steps=[(&#x27;standardscaler&#x27;, StandardScaler()),\n",
              "                (&#x27;decisiontreeregressor&#x27;,\n",
              "                 DecisionTreeRegressor(random_state=71))])</pre></div></div></div><div class=\"sk-serial\"><div class=\"sk-item\"><div class=\"sk-serial\"><div class=\"sk-item\"><div class=\"sk-estimator sk-toggleable\"><input class=\"sk-toggleable__control sk-hidden--visually\" id=\"sk-estimator-id-7\" type=\"checkbox\" ><label for=\"sk-estimator-id-7\" class=\"sk-toggleable__label sk-toggleable__label-arrow\">StandardScaler</label><div class=\"sk-toggleable__content\"><pre>StandardScaler()</pre></div></div></div><div class=\"sk-item\"><div class=\"sk-estimator sk-toggleable\"><input class=\"sk-toggleable__control sk-hidden--visually\" id=\"sk-estimator-id-8\" type=\"checkbox\" ><label for=\"sk-estimator-id-8\" class=\"sk-toggleable__label sk-toggleable__label-arrow\">DecisionTreeRegressor</label><div class=\"sk-toggleable__content\"><pre>DecisionTreeRegressor(random_state=71)</pre></div></div></div></div></div></div></div></div></div></div></div></div>"
            ]
          },
          "metadata": {},
          "execution_count": 47
        }
      ],
      "source": [
        "# дерево\n",
        "grid_rougher_treeregressor.fit(x_train,y_train_rougher)\n",
        "grid_final_treeregressor.fit(x_train,y_train_final)"
      ]
    },
    {
      "cell_type": "code",
      "execution_count": 48,
      "metadata": {
        "colab": {
          "base_uri": "https://localhost:8080/"
        },
        "id": "Xgzmh3QggqiW",
        "outputId": "05c3d32c-35ab-42d3-c7e9-2d6d9930a3f4"
      },
      "outputs": [
        {
          "output_type": "stream",
          "name": "stdout",
          "text": [
            "6.962841278268184\n"
          ]
        }
      ],
      "source": [
        "print(grid_rougher_treeregressor.best_score_ * (-1))"
      ]
    },
    {
      "cell_type": "code",
      "execution_count": 49,
      "metadata": {
        "colab": {
          "base_uri": "https://localhost:8080/"
        },
        "id": "Ope0Er-8g6QU",
        "outputId": "6e7afcb9-029f-4b17-f151-83ec30359c2b"
      },
      "outputs": [
        {
          "output_type": "stream",
          "name": "stdout",
          "text": [
            "9.01422974985879\n"
          ]
        }
      ],
      "source": [
        "print(grid_final_treeregressor.best_score_ * (-1))"
      ]
    },
    {
      "cell_type": "code",
      "execution_count": 50,
      "metadata": {
        "colab": {
          "base_uri": "https://localhost:8080/",
          "height": 155
        },
        "id": "TxKSPPQrhMPC",
        "outputId": "5cbb853a-0e40-49e4-d477-edb47445d97d"
      },
      "outputs": [
        {
          "output_type": "execute_result",
          "data": {
            "text/plain": [
              "RandomizedSearchCV(cv=5,\n",
              "                   estimator=Pipeline(steps=[('standardscaler',\n",
              "                                              StandardScaler()),\n",
              "                                             ('randomforestregressor',\n",
              "                                              RandomForestRegressor(random_state=71))]),\n",
              "                   n_jobs=-1,\n",
              "                   param_distributions={'randomforestregressor__max_depth': range(1, 10),\n",
              "                                        'randomforestregressor__n_estimators': range(10, 61, 10)},\n",
              "                   scoring=make_scorer(sMAPE, greater_is_better=False))"
            ],
            "text/html": [
              "<style>#sk-container-id-3 {color: black;background-color: white;}#sk-container-id-3 pre{padding: 0;}#sk-container-id-3 div.sk-toggleable {background-color: white;}#sk-container-id-3 label.sk-toggleable__label {cursor: pointer;display: block;width: 100%;margin-bottom: 0;padding: 0.3em;box-sizing: border-box;text-align: center;}#sk-container-id-3 label.sk-toggleable__label-arrow:before {content: \"▸\";float: left;margin-right: 0.25em;color: #696969;}#sk-container-id-3 label.sk-toggleable__label-arrow:hover:before {color: black;}#sk-container-id-3 div.sk-estimator:hover label.sk-toggleable__label-arrow:before {color: black;}#sk-container-id-3 div.sk-toggleable__content {max-height: 0;max-width: 0;overflow: hidden;text-align: left;background-color: #f0f8ff;}#sk-container-id-3 div.sk-toggleable__content pre {margin: 0.2em;color: black;border-radius: 0.25em;background-color: #f0f8ff;}#sk-container-id-3 input.sk-toggleable__control:checked~div.sk-toggleable__content {max-height: 200px;max-width: 100%;overflow: auto;}#sk-container-id-3 input.sk-toggleable__control:checked~label.sk-toggleable__label-arrow:before {content: \"▾\";}#sk-container-id-3 div.sk-estimator input.sk-toggleable__control:checked~label.sk-toggleable__label {background-color: #d4ebff;}#sk-container-id-3 div.sk-label input.sk-toggleable__control:checked~label.sk-toggleable__label {background-color: #d4ebff;}#sk-container-id-3 input.sk-hidden--visually {border: 0;clip: rect(1px 1px 1px 1px);clip: rect(1px, 1px, 1px, 1px);height: 1px;margin: -1px;overflow: hidden;padding: 0;position: absolute;width: 1px;}#sk-container-id-3 div.sk-estimator {font-family: monospace;background-color: #f0f8ff;border: 1px dotted black;border-radius: 0.25em;box-sizing: border-box;margin-bottom: 0.5em;}#sk-container-id-3 div.sk-estimator:hover {background-color: #d4ebff;}#sk-container-id-3 div.sk-parallel-item::after {content: \"\";width: 100%;border-bottom: 1px solid gray;flex-grow: 1;}#sk-container-id-3 div.sk-label:hover label.sk-toggleable__label {background-color: #d4ebff;}#sk-container-id-3 div.sk-serial::before {content: \"\";position: absolute;border-left: 1px solid gray;box-sizing: border-box;top: 0;bottom: 0;left: 50%;z-index: 0;}#sk-container-id-3 div.sk-serial {display: flex;flex-direction: column;align-items: center;background-color: white;padding-right: 0.2em;padding-left: 0.2em;position: relative;}#sk-container-id-3 div.sk-item {position: relative;z-index: 1;}#sk-container-id-3 div.sk-parallel {display: flex;align-items: stretch;justify-content: center;background-color: white;position: relative;}#sk-container-id-3 div.sk-item::before, #sk-container-id-3 div.sk-parallel-item::before {content: \"\";position: absolute;border-left: 1px solid gray;box-sizing: border-box;top: 0;bottom: 0;left: 50%;z-index: -1;}#sk-container-id-3 div.sk-parallel-item {display: flex;flex-direction: column;z-index: 1;position: relative;background-color: white;}#sk-container-id-3 div.sk-parallel-item:first-child::after {align-self: flex-end;width: 50%;}#sk-container-id-3 div.sk-parallel-item:last-child::after {align-self: flex-start;width: 50%;}#sk-container-id-3 div.sk-parallel-item:only-child::after {width: 0;}#sk-container-id-3 div.sk-dashed-wrapped {border: 1px dashed gray;margin: 0 0.4em 0.5em 0.4em;box-sizing: border-box;padding-bottom: 0.4em;background-color: white;}#sk-container-id-3 div.sk-label label {font-family: monospace;font-weight: bold;display: inline-block;line-height: 1.2em;}#sk-container-id-3 div.sk-label-container {text-align: center;}#sk-container-id-3 div.sk-container {/* jupyter's `normalize.less` sets `[hidden] { display: none; }` but bootstrap.min.css set `[hidden] { display: none !important; }` so we also need the `!important` here to be able to override the default hidden behavior on the sphinx rendered scikit-learn.org. See: https://github.com/scikit-learn/scikit-learn/issues/21755 */display: inline-block !important;position: relative;}#sk-container-id-3 div.sk-text-repr-fallback {display: none;}</style><div id=\"sk-container-id-3\" class=\"sk-top-container\"><div class=\"sk-text-repr-fallback\"><pre>RandomizedSearchCV(cv=5,\n",
              "                   estimator=Pipeline(steps=[(&#x27;standardscaler&#x27;,\n",
              "                                              StandardScaler()),\n",
              "                                             (&#x27;randomforestregressor&#x27;,\n",
              "                                              RandomForestRegressor(random_state=71))]),\n",
              "                   n_jobs=-1,\n",
              "                   param_distributions={&#x27;randomforestregressor__max_depth&#x27;: range(1, 10),\n",
              "                                        &#x27;randomforestregressor__n_estimators&#x27;: range(10, 61, 10)},\n",
              "                   scoring=make_scorer(sMAPE, greater_is_better=False))</pre><b>In a Jupyter environment, please rerun this cell to show the HTML representation or trust the notebook. <br />On GitHub, the HTML representation is unable to render, please try loading this page with nbviewer.org.</b></div><div class=\"sk-container\" hidden><div class=\"sk-item sk-dashed-wrapped\"><div class=\"sk-label-container\"><div class=\"sk-label sk-toggleable\"><input class=\"sk-toggleable__control sk-hidden--visually\" id=\"sk-estimator-id-9\" type=\"checkbox\" ><label for=\"sk-estimator-id-9\" class=\"sk-toggleable__label sk-toggleable__label-arrow\">RandomizedSearchCV</label><div class=\"sk-toggleable__content\"><pre>RandomizedSearchCV(cv=5,\n",
              "                   estimator=Pipeline(steps=[(&#x27;standardscaler&#x27;,\n",
              "                                              StandardScaler()),\n",
              "                                             (&#x27;randomforestregressor&#x27;,\n",
              "                                              RandomForestRegressor(random_state=71))]),\n",
              "                   n_jobs=-1,\n",
              "                   param_distributions={&#x27;randomforestregressor__max_depth&#x27;: range(1, 10),\n",
              "                                        &#x27;randomforestregressor__n_estimators&#x27;: range(10, 61, 10)},\n",
              "                   scoring=make_scorer(sMAPE, greater_is_better=False))</pre></div></div></div><div class=\"sk-parallel\"><div class=\"sk-parallel-item\"><div class=\"sk-item\"><div class=\"sk-label-container\"><div class=\"sk-label sk-toggleable\"><input class=\"sk-toggleable__control sk-hidden--visually\" id=\"sk-estimator-id-10\" type=\"checkbox\" ><label for=\"sk-estimator-id-10\" class=\"sk-toggleable__label sk-toggleable__label-arrow\">estimator: Pipeline</label><div class=\"sk-toggleable__content\"><pre>Pipeline(steps=[(&#x27;standardscaler&#x27;, StandardScaler()),\n",
              "                (&#x27;randomforestregressor&#x27;,\n",
              "                 RandomForestRegressor(random_state=71))])</pre></div></div></div><div class=\"sk-serial\"><div class=\"sk-item\"><div class=\"sk-serial\"><div class=\"sk-item\"><div class=\"sk-estimator sk-toggleable\"><input class=\"sk-toggleable__control sk-hidden--visually\" id=\"sk-estimator-id-11\" type=\"checkbox\" ><label for=\"sk-estimator-id-11\" class=\"sk-toggleable__label sk-toggleable__label-arrow\">StandardScaler</label><div class=\"sk-toggleable__content\"><pre>StandardScaler()</pre></div></div></div><div class=\"sk-item\"><div class=\"sk-estimator sk-toggleable\"><input class=\"sk-toggleable__control sk-hidden--visually\" id=\"sk-estimator-id-12\" type=\"checkbox\" ><label for=\"sk-estimator-id-12\" class=\"sk-toggleable__label sk-toggleable__label-arrow\">RandomForestRegressor</label><div class=\"sk-toggleable__content\"><pre>RandomForestRegressor(random_state=71)</pre></div></div></div></div></div></div></div></div></div></div></div></div>"
            ]
          },
          "metadata": {},
          "execution_count": 50
        }
      ],
      "source": [
        "# лес\n",
        "grid_rougher_forestregressor.fit(x_train,y_train_rougher)\n",
        "grid_final_forestregressor.fit(x_train,y_train_final)"
      ]
    },
    {
      "cell_type": "code",
      "execution_count": 51,
      "metadata": {
        "colab": {
          "base_uri": "https://localhost:8080/"
        },
        "id": "ikokD6Y9hUHS",
        "outputId": "dd128f58-cb2e-4d82-e9a3-6cc65ce00f1c"
      },
      "outputs": [
        {
          "output_type": "stream",
          "name": "stdout",
          "text": [
            "6.919274988089721\n"
          ]
        }
      ],
      "source": [
        "print(grid_rougher_forestregressor.best_score_ * (-1))"
      ]
    },
    {
      "cell_type": "code",
      "execution_count": 52,
      "metadata": {
        "colab": {
          "base_uri": "https://localhost:8080/"
        },
        "id": "FnwHe7QGhVAA",
        "outputId": "710677d4-4488-4698-9e18-ad2d569579c2"
      },
      "outputs": [
        {
          "output_type": "stream",
          "name": "stdout",
          "text": [
            "8.40590949582025\n"
          ]
        }
      ],
      "source": [
        "print(grid_final_forestregressor.best_score_ * (-1))"
      ]
    },
    {
      "cell_type": "markdown",
      "metadata": {
        "id": "f-YmmB5XkLwH"
      },
      "source": [
        "#### Вывод:\n",
        "лучшие параметры у Лассо модели."
      ]
    },
    {
      "cell_type": "markdown",
      "metadata": {
        "id": "rZC9nv-ckWgz"
      },
      "source": [
        "Посмотрим на финальную оценку"
      ]
    },
    {
      "cell_type": "code",
      "execution_count": 53,
      "metadata": {
        "colab": {
          "base_uri": "https://localhost:8080/"
        },
        "id": "7OZcbDFBkeoC",
        "outputId": "1bf051fa-b2d9-4687-b32d-be385b571df8"
      },
      "outputs": [
        {
          "output_type": "stream",
          "name": "stdout",
          "text": [
            "9.055456921317502\n"
          ]
        }
      ],
      "source": [
        "# Лассо\n",
        "print(the_total_sMAPE(grid_rougher_lasso.best_score_, grid_final_lasso.best_score_) * (-1))"
      ]
    },
    {
      "cell_type": "code",
      "execution_count": 54,
      "metadata": {
        "colab": {
          "base_uri": "https://localhost:8080/"
        },
        "id": "gPGeRaW5kquR",
        "outputId": "e2f7235e-eac3-4a9f-9b54-af6d90d38b7c"
      },
      "outputs": [
        {
          "output_type": "stream",
          "name": "stdout",
          "text": [
            "8.501382631961139\n"
          ]
        }
      ],
      "source": [
        "# дерево\n",
        "print(the_total_sMAPE(grid_rougher_treeregressor.best_score_, grid_final_treeregressor.best_score_) * (-1))"
      ]
    },
    {
      "cell_type": "code",
      "execution_count": 55,
      "metadata": {
        "colab": {
          "base_uri": "https://localhost:8080/"
        },
        "id": "voCZ4fHlkoEi",
        "outputId": "b0ec7eb1-3eec-4d06-c6d1-2c9caa4d3a00"
      },
      "outputs": [
        {
          "output_type": "stream",
          "name": "stdout",
          "text": [
            "8.034250868887618\n"
          ]
        }
      ],
      "source": [
        "# лес\n",
        "print(the_total_sMAPE(grid_rougher_forestregressor.best_score_, grid_final_forestregressor.best_score_) * (-1))"
      ]
    },
    {
      "cell_type": "markdown",
      "metadata": {
        "id": "iq2YTjixk7Le"
      },
      "source": [
        "Ласо - \"рулит\"\n",
        "\n",
        "Смотрим  результаты на тестовой выборке\n"
      ]
    },
    {
      "cell_type": "code",
      "execution_count": 56,
      "metadata": {
        "colab": {
          "base_uri": "https://localhost:8080/"
        },
        "id": "madMupJhlKq8",
        "outputId": "2d4912f2-3380-46ff-f9a1-1a02db26c482"
      },
      "outputs": [
        {
          "output_type": "execute_result",
          "data": {
            "text/plain": [
              "6.879980817939472"
            ]
          },
          "metadata": {},
          "execution_count": 56
        }
      ],
      "source": [
        "rougher_pred = grid_rougher_lasso.predict(x_test)\n",
        "final_pred = grid_final_lasso.predict(x_test)\n",
        "\n",
        "the_total_sMAPE(sMAPE(y_test_rougher,rougher_pred),sMAPE(y_test_final,final_pred))"
      ]
    },
    {
      "cell_type": "markdown",
      "metadata": {
        "id": "8-LvAsCrlYBo"
      },
      "source": [
        "Вывод\n",
        "\n",
        "6.87 - не плохо, осталось сравнить с константной моделью"
      ]
    },
    {
      "cell_type": "markdown",
      "metadata": {
        "id": "_uz4lIjUlWLU"
      },
      "source": [
        "Смоделируем - Константная модель предсказывает средние значения"
      ]
    },
    {
      "cell_type": "code",
      "execution_count": 57,
      "metadata": {
        "id": "HXMPhf-PlsWK"
      },
      "outputs": [],
      "source": [
        "constant_rougher = make_pipeline(StandardScaler(), DummyRegressor(strategy='mean'))\n",
        "constant_final = make_pipeline(StandardScaler(), DummyRegressor(strategy='mean'))"
      ]
    },
    {
      "cell_type": "markdown",
      "metadata": {
        "id": "SkLLmFnelvOi"
      },
      "source": [
        "Обучим"
      ]
    },
    {
      "cell_type": "code",
      "execution_count": 58,
      "metadata": {
        "colab": {
          "base_uri": "https://localhost:8080/",
          "height": 128
        },
        "id": "FdB7YBDIluo8",
        "outputId": "60136c61-fba8-4908-b76e-c41a1ec1f68e"
      },
      "outputs": [
        {
          "output_type": "execute_result",
          "data": {
            "text/plain": [
              "Pipeline(steps=[('standardscaler', StandardScaler()),\n",
              "                ('dummyregressor', DummyRegressor())])"
            ],
            "text/html": [
              "<style>#sk-container-id-4 {color: black;background-color: white;}#sk-container-id-4 pre{padding: 0;}#sk-container-id-4 div.sk-toggleable {background-color: white;}#sk-container-id-4 label.sk-toggleable__label {cursor: pointer;display: block;width: 100%;margin-bottom: 0;padding: 0.3em;box-sizing: border-box;text-align: center;}#sk-container-id-4 label.sk-toggleable__label-arrow:before {content: \"▸\";float: left;margin-right: 0.25em;color: #696969;}#sk-container-id-4 label.sk-toggleable__label-arrow:hover:before {color: black;}#sk-container-id-4 div.sk-estimator:hover label.sk-toggleable__label-arrow:before {color: black;}#sk-container-id-4 div.sk-toggleable__content {max-height: 0;max-width: 0;overflow: hidden;text-align: left;background-color: #f0f8ff;}#sk-container-id-4 div.sk-toggleable__content pre {margin: 0.2em;color: black;border-radius: 0.25em;background-color: #f0f8ff;}#sk-container-id-4 input.sk-toggleable__control:checked~div.sk-toggleable__content {max-height: 200px;max-width: 100%;overflow: auto;}#sk-container-id-4 input.sk-toggleable__control:checked~label.sk-toggleable__label-arrow:before {content: \"▾\";}#sk-container-id-4 div.sk-estimator input.sk-toggleable__control:checked~label.sk-toggleable__label {background-color: #d4ebff;}#sk-container-id-4 div.sk-label input.sk-toggleable__control:checked~label.sk-toggleable__label {background-color: #d4ebff;}#sk-container-id-4 input.sk-hidden--visually {border: 0;clip: rect(1px 1px 1px 1px);clip: rect(1px, 1px, 1px, 1px);height: 1px;margin: -1px;overflow: hidden;padding: 0;position: absolute;width: 1px;}#sk-container-id-4 div.sk-estimator {font-family: monospace;background-color: #f0f8ff;border: 1px dotted black;border-radius: 0.25em;box-sizing: border-box;margin-bottom: 0.5em;}#sk-container-id-4 div.sk-estimator:hover {background-color: #d4ebff;}#sk-container-id-4 div.sk-parallel-item::after {content: \"\";width: 100%;border-bottom: 1px solid gray;flex-grow: 1;}#sk-container-id-4 div.sk-label:hover label.sk-toggleable__label {background-color: #d4ebff;}#sk-container-id-4 div.sk-serial::before {content: \"\";position: absolute;border-left: 1px solid gray;box-sizing: border-box;top: 0;bottom: 0;left: 50%;z-index: 0;}#sk-container-id-4 div.sk-serial {display: flex;flex-direction: column;align-items: center;background-color: white;padding-right: 0.2em;padding-left: 0.2em;position: relative;}#sk-container-id-4 div.sk-item {position: relative;z-index: 1;}#sk-container-id-4 div.sk-parallel {display: flex;align-items: stretch;justify-content: center;background-color: white;position: relative;}#sk-container-id-4 div.sk-item::before, #sk-container-id-4 div.sk-parallel-item::before {content: \"\";position: absolute;border-left: 1px solid gray;box-sizing: border-box;top: 0;bottom: 0;left: 50%;z-index: -1;}#sk-container-id-4 div.sk-parallel-item {display: flex;flex-direction: column;z-index: 1;position: relative;background-color: white;}#sk-container-id-4 div.sk-parallel-item:first-child::after {align-self: flex-end;width: 50%;}#sk-container-id-4 div.sk-parallel-item:last-child::after {align-self: flex-start;width: 50%;}#sk-container-id-4 div.sk-parallel-item:only-child::after {width: 0;}#sk-container-id-4 div.sk-dashed-wrapped {border: 1px dashed gray;margin: 0 0.4em 0.5em 0.4em;box-sizing: border-box;padding-bottom: 0.4em;background-color: white;}#sk-container-id-4 div.sk-label label {font-family: monospace;font-weight: bold;display: inline-block;line-height: 1.2em;}#sk-container-id-4 div.sk-label-container {text-align: center;}#sk-container-id-4 div.sk-container {/* jupyter's `normalize.less` sets `[hidden] { display: none; }` but bootstrap.min.css set `[hidden] { display: none !important; }` so we also need the `!important` here to be able to override the default hidden behavior on the sphinx rendered scikit-learn.org. See: https://github.com/scikit-learn/scikit-learn/issues/21755 */display: inline-block !important;position: relative;}#sk-container-id-4 div.sk-text-repr-fallback {display: none;}</style><div id=\"sk-container-id-4\" class=\"sk-top-container\"><div class=\"sk-text-repr-fallback\"><pre>Pipeline(steps=[(&#x27;standardscaler&#x27;, StandardScaler()),\n",
              "                (&#x27;dummyregressor&#x27;, DummyRegressor())])</pre><b>In a Jupyter environment, please rerun this cell to show the HTML representation or trust the notebook. <br />On GitHub, the HTML representation is unable to render, please try loading this page with nbviewer.org.</b></div><div class=\"sk-container\" hidden><div class=\"sk-item sk-dashed-wrapped\"><div class=\"sk-label-container\"><div class=\"sk-label sk-toggleable\"><input class=\"sk-toggleable__control sk-hidden--visually\" id=\"sk-estimator-id-13\" type=\"checkbox\" ><label for=\"sk-estimator-id-13\" class=\"sk-toggleable__label sk-toggleable__label-arrow\">Pipeline</label><div class=\"sk-toggleable__content\"><pre>Pipeline(steps=[(&#x27;standardscaler&#x27;, StandardScaler()),\n",
              "                (&#x27;dummyregressor&#x27;, DummyRegressor())])</pre></div></div></div><div class=\"sk-serial\"><div class=\"sk-item\"><div class=\"sk-estimator sk-toggleable\"><input class=\"sk-toggleable__control sk-hidden--visually\" id=\"sk-estimator-id-14\" type=\"checkbox\" ><label for=\"sk-estimator-id-14\" class=\"sk-toggleable__label sk-toggleable__label-arrow\">StandardScaler</label><div class=\"sk-toggleable__content\"><pre>StandardScaler()</pre></div></div></div><div class=\"sk-item\"><div class=\"sk-estimator sk-toggleable\"><input class=\"sk-toggleable__control sk-hidden--visually\" id=\"sk-estimator-id-15\" type=\"checkbox\" ><label for=\"sk-estimator-id-15\" class=\"sk-toggleable__label sk-toggleable__label-arrow\">DummyRegressor</label><div class=\"sk-toggleable__content\"><pre>DummyRegressor()</pre></div></div></div></div></div></div></div>"
            ]
          },
          "metadata": {},
          "execution_count": 58
        }
      ],
      "source": [
        "constant_rougher.fit(x_train,y_train_rougher)\n",
        "constant_final.fit(x_train,y_train_final)"
      ]
    },
    {
      "cell_type": "code",
      "execution_count": 59,
      "metadata": {
        "colab": {
          "base_uri": "https://localhost:8080/"
        },
        "id": "uE23RJE1l3YI",
        "outputId": "cdda8476-c446-4ffd-9730-94299679d89e"
      },
      "outputs": [
        {
          "output_type": "execute_result",
          "data": {
            "text/plain": [
              "7.488687510858113"
            ]
          },
          "metadata": {},
          "execution_count": 59
        }
      ],
      "source": [
        "constant_rougher_pred = constant_rougher.predict(x_test)\n",
        "constant_final_pred = constant_final.predict(x_test)\n",
        "\n",
        "the_total_sMAPE(sMAPE(y_test_rougher,constant_rougher_pred),sMAPE(y_test_final,constant_final_pred))"
      ]
    },
    {
      "cell_type": "markdown",
      "metadata": {
        "id": "_OMGgRKfmHzr"
      },
      "source": [
        "Но есть и еще <font color=red> Наша - 6.87 , константная 7.48 Ура наша ниже , а значит лучше </font>:"
      ]
    },
    {
      "cell_type": "markdown",
      "metadata": {
        "id": "bpUz-CkWmhdL"
      },
      "source": [
        "<b><font size=5>Общий вывод</font></b><a name=\"3.\"></a>\n",
        "\n",
        "[<font size=\"2\">(к содержанию)</font>](#to_content.)"
      ]
    },
    {
      "cell_type": "markdown",
      "metadata": {
        "id": "WyKfziC_mq6l"
      },
      "source": [
        "1) Данные были подготовлены, исследованы и проанализированы, а так же подготовлены к обучению.\n",
        "\n",
        "2) Лучшая модель Лассо. У неё наименьшая из всех моделей ошибка."
      ]
    }
  ],
  "metadata": {
    "ExecuteTimeLog": [
      {
        "duration": 47,
        "start_time": "2023-03-07T04:40:34.331Z"
      },
      {
        "duration": 1505,
        "start_time": "2023-03-07T04:40:46.804Z"
      },
      {
        "duration": 3135,
        "start_time": "2023-03-07T04:40:48.311Z"
      },
      {
        "duration": 39,
        "start_time": "2023-03-07T04:40:51.448Z"
      },
      {
        "duration": 14,
        "start_time": "2023-03-07T04:40:51.489Z"
      },
      {
        "duration": 12,
        "start_time": "2023-03-07T04:40:51.504Z"
      },
      {
        "duration": 10,
        "start_time": "2023-03-07T04:40:51.517Z"
      },
      {
        "duration": 7,
        "start_time": "2023-03-07T04:40:51.529Z"
      },
      {
        "duration": 5,
        "start_time": "2023-03-07T04:41:06.272Z"
      },
      {
        "duration": 78,
        "start_time": "2023-03-07T04:49:18.854Z"
      },
      {
        "duration": 12,
        "start_time": "2023-03-07T04:49:30.541Z"
      },
      {
        "duration": 5,
        "start_time": "2023-03-07T04:49:47.854Z"
      },
      {
        "duration": 4,
        "start_time": "2023-03-07T04:50:52.247Z"
      },
      {
        "duration": 11,
        "start_time": "2023-03-07T04:54:40.765Z"
      },
      {
        "duration": 13,
        "start_time": "2023-03-07T04:56:06.589Z"
      },
      {
        "duration": 1567,
        "start_time": "2023-03-07T04:56:16.486Z"
      },
      {
        "duration": 1324,
        "start_time": "2023-03-07T04:56:48.420Z"
      },
      {
        "duration": 1596,
        "start_time": "2023-03-07T04:57:55.148Z"
      },
      {
        "duration": 80,
        "start_time": "2023-03-07T05:03:41.563Z"
      },
      {
        "duration": 3,
        "start_time": "2023-03-07T05:06:35.584Z"
      },
      {
        "duration": 3,
        "start_time": "2023-03-07T05:08:48.353Z"
      },
      {
        "duration": 3,
        "start_time": "2023-03-07T05:08:58.793Z"
      },
      {
        "duration": 1476,
        "start_time": "2023-03-07T05:09:13.561Z"
      },
      {
        "duration": 1330,
        "start_time": "2023-03-07T05:09:17.816Z"
      },
      {
        "duration": 10,
        "start_time": "2023-03-07T05:10:16.648Z"
      },
      {
        "duration": 12,
        "start_time": "2023-03-07T05:12:01.283Z"
      },
      {
        "duration": 4,
        "start_time": "2023-03-07T05:14:39.742Z"
      },
      {
        "duration": 14,
        "start_time": "2023-03-07T05:14:42.037Z"
      },
      {
        "duration": 16,
        "start_time": "2023-03-07T05:19:42.565Z"
      },
      {
        "duration": 14,
        "start_time": "2023-03-07T05:19:56.323Z"
      },
      {
        "duration": 885,
        "start_time": "2023-03-07T05:20:23.804Z"
      },
      {
        "duration": 11,
        "start_time": "2023-03-07T05:34:39.966Z"
      },
      {
        "duration": 709,
        "start_time": "2023-03-07T05:34:39.984Z"
      },
      {
        "duration": 38,
        "start_time": "2023-03-07T05:34:40.695Z"
      },
      {
        "duration": 24,
        "start_time": "2023-03-07T05:34:40.735Z"
      },
      {
        "duration": 12,
        "start_time": "2023-03-07T05:34:40.761Z"
      },
      {
        "duration": 13,
        "start_time": "2023-03-07T05:34:40.776Z"
      },
      {
        "duration": 26,
        "start_time": "2023-03-07T05:34:40.790Z"
      },
      {
        "duration": 6,
        "start_time": "2023-03-07T05:34:40.818Z"
      },
      {
        "duration": 14,
        "start_time": "2023-03-07T05:34:40.826Z"
      },
      {
        "duration": 7,
        "start_time": "2023-03-07T05:34:40.841Z"
      },
      {
        "duration": 17,
        "start_time": "2023-03-07T05:34:40.850Z"
      },
      {
        "duration": 3,
        "start_time": "2023-03-07T05:34:40.869Z"
      },
      {
        "duration": 21,
        "start_time": "2023-03-07T05:34:40.874Z"
      },
      {
        "duration": 4,
        "start_time": "2023-03-07T05:34:40.897Z"
      },
      {
        "duration": 8169,
        "start_time": "2023-03-07T05:34:40.906Z"
      },
      {
        "duration": 12,
        "start_time": "2023-03-07T05:34:49.077Z"
      },
      {
        "duration": 14,
        "start_time": "2023-03-07T05:34:49.091Z"
      },
      {
        "duration": 15,
        "start_time": "2023-03-07T05:34:49.107Z"
      },
      {
        "duration": 1318,
        "start_time": "2023-03-07T05:34:49.124Z"
      },
      {
        "duration": 1403,
        "start_time": "2023-03-07T05:34:50.444Z"
      },
      {
        "duration": 1393,
        "start_time": "2023-03-07T05:34:51.849Z"
      },
      {
        "duration": 390,
        "start_time": "2023-03-07T05:34:53.244Z"
      },
      {
        "duration": 7,
        "start_time": "2023-03-07T05:34:53.636Z"
      },
      {
        "duration": 334,
        "start_time": "2023-03-07T05:34:53.644Z"
      },
      {
        "duration": 845,
        "start_time": "2023-03-07T05:34:53.980Z"
      },
      {
        "duration": 30,
        "start_time": "2023-03-07T05:34:54.827Z"
      },
      {
        "duration": 19,
        "start_time": "2023-03-07T05:34:54.859Z"
      },
      {
        "duration": 10,
        "start_time": "2023-03-07T05:34:54.879Z"
      },
      {
        "duration": 23,
        "start_time": "2023-03-07T05:34:54.891Z"
      },
      {
        "duration": 3,
        "start_time": "2023-03-07T05:34:54.916Z"
      },
      {
        "duration": 7,
        "start_time": "2023-03-07T05:34:54.921Z"
      },
      {
        "duration": 6,
        "start_time": "2023-03-07T05:34:54.929Z"
      },
      {
        "duration": 22,
        "start_time": "2023-03-07T05:34:54.937Z"
      },
      {
        "duration": 10,
        "start_time": "2023-03-07T05:34:54.961Z"
      },
      {
        "duration": 6,
        "start_time": "2023-03-07T05:34:54.973Z"
      },
      {
        "duration": 128,
        "start_time": "2023-03-07T05:34:54.981Z"
      },
      {
        "duration": 7,
        "start_time": "2023-03-07T05:34:55.111Z"
      },
      {
        "duration": 7,
        "start_time": "2023-03-07T05:34:55.120Z"
      },
      {
        "duration": 30,
        "start_time": "2023-03-07T05:34:55.128Z"
      },
      {
        "duration": 21,
        "start_time": "2023-03-07T05:34:55.160Z"
      },
      {
        "duration": 104075,
        "start_time": "2023-03-07T05:34:55.184Z"
      },
      {
        "duration": 97,
        "start_time": "2023-03-07T05:36:39.268Z"
      },
      {
        "duration": 1,
        "start_time": "2023-03-07T05:36:39.366Z"
      },
      {
        "duration": 0,
        "start_time": "2023-03-07T05:36:39.369Z"
      },
      {
        "duration": 3,
        "start_time": "2023-03-07T05:37:02.430Z"
      },
      {
        "duration": 77,
        "start_time": "2023-03-07T05:37:41.765Z"
      },
      {
        "duration": 4,
        "start_time": "2023-03-07T05:37:48.030Z"
      },
      {
        "duration": 9,
        "start_time": "2023-03-07T05:41:06.525Z"
      },
      {
        "duration": 10,
        "start_time": "2023-03-07T05:41:20.100Z"
      },
      {
        "duration": 83,
        "start_time": "2023-03-07T05:44:30.500Z"
      },
      {
        "duration": 1423,
        "start_time": "2023-03-07T05:45:06.802Z"
      },
      {
        "duration": 683,
        "start_time": "2023-03-07T05:45:08.228Z"
      },
      {
        "duration": 45,
        "start_time": "2023-03-07T05:45:08.912Z"
      },
      {
        "duration": 15,
        "start_time": "2023-03-07T05:45:08.958Z"
      },
      {
        "duration": 12,
        "start_time": "2023-03-07T05:45:08.975Z"
      },
      {
        "duration": 8,
        "start_time": "2023-03-07T05:45:08.989Z"
      },
      {
        "duration": 8,
        "start_time": "2023-03-07T05:45:08.998Z"
      },
      {
        "duration": 9,
        "start_time": "2023-03-07T05:45:09.008Z"
      },
      {
        "duration": 13,
        "start_time": "2023-03-07T05:45:09.018Z"
      },
      {
        "duration": 29,
        "start_time": "2023-03-07T05:45:09.032Z"
      },
      {
        "duration": 22,
        "start_time": "2023-03-07T05:45:09.063Z"
      },
      {
        "duration": 3,
        "start_time": "2023-03-07T05:45:09.087Z"
      },
      {
        "duration": 23,
        "start_time": "2023-03-07T05:45:09.091Z"
      },
      {
        "duration": 3,
        "start_time": "2023-03-07T05:45:09.117Z"
      },
      {
        "duration": 8265,
        "start_time": "2023-03-07T05:45:09.121Z"
      },
      {
        "duration": 13,
        "start_time": "2023-03-07T05:45:17.387Z"
      },
      {
        "duration": 17,
        "start_time": "2023-03-07T05:45:17.401Z"
      },
      {
        "duration": 39,
        "start_time": "2023-03-07T05:45:17.419Z"
      },
      {
        "duration": 1287,
        "start_time": "2023-03-07T05:45:17.460Z"
      },
      {
        "duration": 1301,
        "start_time": "2023-03-07T05:45:18.749Z"
      },
      {
        "duration": 1399,
        "start_time": "2023-03-07T05:45:20.052Z"
      },
      {
        "duration": 369,
        "start_time": "2023-03-07T05:45:21.452Z"
      },
      {
        "duration": 5,
        "start_time": "2023-03-07T05:45:21.823Z"
      },
      {
        "duration": 335,
        "start_time": "2023-03-07T05:45:21.830Z"
      },
      {
        "duration": 828,
        "start_time": "2023-03-07T05:45:22.167Z"
      },
      {
        "duration": 18,
        "start_time": "2023-03-07T05:45:22.997Z"
      },
      {
        "duration": 19,
        "start_time": "2023-03-07T05:45:23.017Z"
      },
      {
        "duration": 11,
        "start_time": "2023-03-07T05:45:23.058Z"
      },
      {
        "duration": 15,
        "start_time": "2023-03-07T05:45:23.071Z"
      },
      {
        "duration": 4,
        "start_time": "2023-03-07T05:45:23.088Z"
      },
      {
        "duration": 6,
        "start_time": "2023-03-07T05:45:23.094Z"
      },
      {
        "duration": 6,
        "start_time": "2023-03-07T05:45:23.102Z"
      },
      {
        "duration": 16,
        "start_time": "2023-03-07T05:45:23.109Z"
      },
      {
        "duration": 7,
        "start_time": "2023-03-07T05:45:23.126Z"
      },
      {
        "duration": 4,
        "start_time": "2023-03-07T05:45:23.159Z"
      },
      {
        "duration": 7,
        "start_time": "2023-03-07T05:45:23.165Z"
      },
      {
        "duration": 7,
        "start_time": "2023-03-07T05:45:23.173Z"
      },
      {
        "duration": 6,
        "start_time": "2023-03-07T05:45:23.182Z"
      },
      {
        "duration": 7,
        "start_time": "2023-03-07T05:45:23.190Z"
      },
      {
        "duration": 10,
        "start_time": "2023-03-07T05:45:23.198Z"
      },
      {
        "duration": 69750,
        "start_time": "2023-03-07T05:45:23.212Z"
      },
      {
        "duration": 9,
        "start_time": "2023-03-07T05:46:32.966Z"
      },
      {
        "duration": 22,
        "start_time": "2023-03-07T05:46:33.060Z"
      },
      {
        "duration": 24802,
        "start_time": "2023-03-07T05:46:33.084Z"
      },
      {
        "duration": 3,
        "start_time": "2023-03-07T05:46:57.888Z"
      },
      {
        "duration": 9,
        "start_time": "2023-03-07T05:46:57.893Z"
      },
      {
        "duration": 1461,
        "start_time": "2023-03-07T06:17:22.756Z"
      },
      {
        "duration": 700,
        "start_time": "2023-03-07T06:17:24.222Z"
      },
      {
        "duration": 46,
        "start_time": "2023-03-07T06:17:24.924Z"
      },
      {
        "duration": 15,
        "start_time": "2023-03-07T06:17:24.972Z"
      },
      {
        "duration": 13,
        "start_time": "2023-03-07T06:17:24.989Z"
      },
      {
        "duration": 12,
        "start_time": "2023-03-07T06:17:25.003Z"
      },
      {
        "duration": 24,
        "start_time": "2023-03-07T06:17:25.016Z"
      },
      {
        "duration": 13,
        "start_time": "2023-03-07T06:17:25.041Z"
      },
      {
        "duration": 8,
        "start_time": "2023-03-07T06:17:25.057Z"
      },
      {
        "duration": 11,
        "start_time": "2023-03-07T06:17:25.067Z"
      },
      {
        "duration": 20,
        "start_time": "2023-03-07T06:17:25.080Z"
      },
      {
        "duration": 3,
        "start_time": "2023-03-07T06:17:25.102Z"
      },
      {
        "duration": 35,
        "start_time": "2023-03-07T06:17:25.107Z"
      },
      {
        "duration": 5,
        "start_time": "2023-03-07T06:17:25.144Z"
      },
      {
        "duration": 8022,
        "start_time": "2023-03-07T06:17:25.158Z"
      },
      {
        "duration": 12,
        "start_time": "2023-03-07T06:17:33.182Z"
      },
      {
        "duration": 13,
        "start_time": "2023-03-07T06:17:33.195Z"
      },
      {
        "duration": 24,
        "start_time": "2023-03-07T06:17:33.210Z"
      },
      {
        "duration": 1309,
        "start_time": "2023-03-07T06:17:33.235Z"
      },
      {
        "duration": 1353,
        "start_time": "2023-03-07T06:17:34.546Z"
      },
      {
        "duration": 1341,
        "start_time": "2023-03-07T06:17:35.901Z"
      },
      {
        "duration": 384,
        "start_time": "2023-03-07T06:17:37.244Z"
      },
      {
        "duration": 6,
        "start_time": "2023-03-07T06:17:37.630Z"
      },
      {
        "duration": 336,
        "start_time": "2023-03-07T06:17:37.638Z"
      },
      {
        "duration": 804,
        "start_time": "2023-03-07T06:17:37.976Z"
      },
      {
        "duration": 18,
        "start_time": "2023-03-07T06:17:38.782Z"
      },
      {
        "duration": 17,
        "start_time": "2023-03-07T06:17:38.802Z"
      },
      {
        "duration": 15,
        "start_time": "2023-03-07T06:17:38.822Z"
      },
      {
        "duration": 34,
        "start_time": "2023-03-07T06:17:38.838Z"
      },
      {
        "duration": 3,
        "start_time": "2023-03-07T06:17:38.873Z"
      },
      {
        "duration": 5,
        "start_time": "2023-03-07T06:17:38.877Z"
      },
      {
        "duration": 4,
        "start_time": "2023-03-07T06:17:38.884Z"
      },
      {
        "duration": 7,
        "start_time": "2023-03-07T06:17:38.889Z"
      },
      {
        "duration": 6,
        "start_time": "2023-03-07T06:17:38.897Z"
      },
      {
        "duration": 6,
        "start_time": "2023-03-07T06:17:38.904Z"
      },
      {
        "duration": 5,
        "start_time": "2023-03-07T06:17:38.912Z"
      },
      {
        "duration": 8,
        "start_time": "2023-03-07T06:17:38.918Z"
      },
      {
        "duration": 6,
        "start_time": "2023-03-07T06:17:38.927Z"
      },
      {
        "duration": 6,
        "start_time": "2023-03-07T06:17:38.958Z"
      },
      {
        "duration": 7,
        "start_time": "2023-03-07T06:17:38.966Z"
      },
      {
        "duration": 53788,
        "start_time": "2023-03-07T06:17:38.974Z"
      },
      {
        "duration": 95,
        "start_time": "2023-03-07T06:18:32.764Z"
      },
      {
        "duration": 10,
        "start_time": "2023-03-07T06:18:32.861Z"
      },
      {
        "duration": 24473,
        "start_time": "2023-03-07T06:18:32.872Z"
      },
      {
        "duration": 4,
        "start_time": "2023-03-07T06:18:57.347Z"
      },
      {
        "duration": 7,
        "start_time": "2023-03-07T06:18:57.357Z"
      },
      {
        "duration": 524739,
        "start_time": "2023-03-07T06:18:57.365Z"
      },
      {
        "duration": 3,
        "start_time": "2023-03-07T06:27:42.106Z"
      },
      {
        "duration": 9,
        "start_time": "2023-03-07T06:27:42.111Z"
      },
      {
        "duration": 7,
        "start_time": "2023-03-07T06:27:42.122Z"
      },
      {
        "duration": 7,
        "start_time": "2023-03-07T06:27:42.130Z"
      },
      {
        "duration": 23,
        "start_time": "2023-03-07T06:27:42.138Z"
      },
      {
        "duration": 97,
        "start_time": "2023-03-07T06:27:42.162Z"
      },
      {
        "duration": 98,
        "start_time": "2023-03-07T06:27:42.261Z"
      },
      {
        "duration": 33,
        "start_time": "2023-03-07T06:27:42.361Z"
      },
      {
        "duration": 12,
        "start_time": "2023-03-07T06:27:42.395Z"
      },
      {
        "duration": 1739,
        "start_time": "2023-03-09T06:24:27.449Z"
      },
      {
        "duration": 1773,
        "start_time": "2023-03-09T06:24:29.190Z"
      },
      {
        "duration": 42,
        "start_time": "2023-03-09T06:24:30.965Z"
      },
      {
        "duration": 17,
        "start_time": "2023-03-09T06:24:31.010Z"
      },
      {
        "duration": 31,
        "start_time": "2023-03-09T06:24:31.030Z"
      },
      {
        "duration": 32,
        "start_time": "2023-03-09T06:24:31.063Z"
      },
      {
        "duration": 41,
        "start_time": "2023-03-09T06:24:31.097Z"
      },
      {
        "duration": 36,
        "start_time": "2023-03-09T06:24:31.141Z"
      },
      {
        "duration": 43,
        "start_time": "2023-03-09T06:24:31.179Z"
      },
      {
        "duration": 40,
        "start_time": "2023-03-09T06:24:31.224Z"
      },
      {
        "duration": 47,
        "start_time": "2023-03-09T06:24:31.266Z"
      },
      {
        "duration": 8,
        "start_time": "2023-03-09T06:24:31.315Z"
      },
      {
        "duration": 52,
        "start_time": "2023-03-09T06:24:31.325Z"
      },
      {
        "duration": 4,
        "start_time": "2023-03-09T06:24:31.379Z"
      },
      {
        "duration": 9650,
        "start_time": "2023-03-09T06:24:31.385Z"
      },
      {
        "duration": 13,
        "start_time": "2023-03-09T06:24:41.037Z"
      },
      {
        "duration": 14,
        "start_time": "2023-03-09T06:24:41.052Z"
      },
      {
        "duration": 44,
        "start_time": "2023-03-09T06:24:41.068Z"
      },
      {
        "duration": 1777,
        "start_time": "2023-03-09T06:24:41.114Z"
      },
      {
        "duration": 1449,
        "start_time": "2023-03-09T06:24:42.893Z"
      },
      {
        "duration": 1253,
        "start_time": "2023-03-09T06:24:44.344Z"
      },
      {
        "duration": 360,
        "start_time": "2023-03-09T06:24:45.598Z"
      },
      {
        "duration": 315,
        "start_time": "2023-03-09T06:24:45.959Z"
      },
      {
        "duration": 7,
        "start_time": "2023-03-09T06:24:46.275Z"
      },
      {
        "duration": 320,
        "start_time": "2023-03-09T06:24:46.283Z"
      },
      {
        "duration": 775,
        "start_time": "2023-03-09T06:24:46.611Z"
      },
      {
        "duration": 27,
        "start_time": "2023-03-09T06:24:47.388Z"
      },
      {
        "duration": 19,
        "start_time": "2023-03-09T06:24:47.419Z"
      },
      {
        "duration": 10,
        "start_time": "2023-03-09T06:24:47.440Z"
      },
      {
        "duration": 13,
        "start_time": "2023-03-09T06:24:47.452Z"
      },
      {
        "duration": 3,
        "start_time": "2023-03-09T06:24:47.466Z"
      },
      {
        "duration": 6,
        "start_time": "2023-03-09T06:24:47.470Z"
      },
      {
        "duration": 3,
        "start_time": "2023-03-09T06:24:47.478Z"
      },
      {
        "duration": 32,
        "start_time": "2023-03-09T06:24:47.483Z"
      },
      {
        "duration": 8,
        "start_time": "2023-03-09T06:24:47.517Z"
      },
      {
        "duration": 4,
        "start_time": "2023-03-09T06:24:47.527Z"
      },
      {
        "duration": 8,
        "start_time": "2023-03-09T06:24:47.533Z"
      },
      {
        "duration": 6,
        "start_time": "2023-03-09T06:24:47.543Z"
      },
      {
        "duration": 16,
        "start_time": "2023-03-09T06:24:47.551Z"
      },
      {
        "duration": 4,
        "start_time": "2023-03-09T06:24:47.569Z"
      },
      {
        "duration": 5,
        "start_time": "2023-03-09T06:24:47.575Z"
      },
      {
        "duration": 59741,
        "start_time": "2023-03-09T06:24:47.581Z"
      },
      {
        "duration": 3,
        "start_time": "2023-03-09T06:25:47.413Z"
      },
      {
        "duration": 4,
        "start_time": "2023-03-09T06:25:47.418Z"
      },
      {
        "duration": 22697,
        "start_time": "2023-03-09T06:25:47.424Z"
      },
      {
        "duration": 3,
        "start_time": "2023-03-09T06:26:10.123Z"
      },
      {
        "duration": 17,
        "start_time": "2023-03-09T06:26:10.127Z"
      },
      {
        "duration": 577592,
        "start_time": "2023-03-09T06:26:10.146Z"
      },
      {
        "duration": 4,
        "start_time": "2023-03-09T06:35:47.739Z"
      },
      {
        "duration": 6,
        "start_time": "2023-03-09T06:35:47.744Z"
      },
      {
        "duration": 4,
        "start_time": "2023-03-09T06:35:47.752Z"
      },
      {
        "duration": 4,
        "start_time": "2023-03-09T06:35:47.758Z"
      },
      {
        "duration": 6,
        "start_time": "2023-03-09T06:35:47.764Z"
      },
      {
        "duration": 46,
        "start_time": "2023-03-09T06:35:47.772Z"
      },
      {
        "duration": 4,
        "start_time": "2023-03-09T06:35:47.820Z"
      },
      {
        "duration": 209,
        "start_time": "2023-03-09T06:35:47.826Z"
      },
      {
        "duration": 13,
        "start_time": "2023-03-09T06:35:48.037Z"
      },
      {
        "duration": 1652,
        "start_time": "2023-03-10T11:33:16.665Z"
      },
      {
        "duration": 1913,
        "start_time": "2023-03-10T11:33:18.320Z"
      },
      {
        "duration": 50,
        "start_time": "2023-03-10T11:33:20.234Z"
      },
      {
        "duration": 17,
        "start_time": "2023-03-10T11:33:20.287Z"
      },
      {
        "duration": 15,
        "start_time": "2023-03-10T11:33:20.306Z"
      },
      {
        "duration": 8,
        "start_time": "2023-03-10T11:33:20.323Z"
      },
      {
        "duration": 7,
        "start_time": "2023-03-10T11:33:20.334Z"
      },
      {
        "duration": 5,
        "start_time": "2023-03-10T11:33:20.342Z"
      },
      {
        "duration": 12,
        "start_time": "2023-03-10T11:33:20.349Z"
      },
      {
        "duration": 6,
        "start_time": "2023-03-10T11:33:20.366Z"
      },
      {
        "duration": 57,
        "start_time": "2023-03-10T11:33:20.374Z"
      },
      {
        "duration": 3,
        "start_time": "2023-03-10T11:33:20.434Z"
      },
      {
        "duration": 27,
        "start_time": "2023-03-10T11:33:20.439Z"
      },
      {
        "duration": 5,
        "start_time": "2023-03-10T11:33:20.469Z"
      },
      {
        "duration": 9661,
        "start_time": "2023-03-10T11:33:20.476Z"
      },
      {
        "duration": 13,
        "start_time": "2023-03-10T11:33:30.138Z"
      },
      {
        "duration": 48,
        "start_time": "2023-03-10T11:33:30.152Z"
      },
      {
        "duration": 43,
        "start_time": "2023-03-10T11:33:30.202Z"
      },
      {
        "duration": 1496,
        "start_time": "2023-03-10T11:33:30.247Z"
      },
      {
        "duration": 1399,
        "start_time": "2023-03-10T11:33:31.745Z"
      },
      {
        "duration": 1685,
        "start_time": "2023-03-10T11:33:33.147Z"
      },
      {
        "duration": 402,
        "start_time": "2023-03-10T11:33:34.834Z"
      },
      {
        "duration": 349,
        "start_time": "2023-03-10T11:33:35.238Z"
      },
      {
        "duration": 7,
        "start_time": "2023-03-10T11:33:35.589Z"
      },
      {
        "duration": 364,
        "start_time": "2023-03-10T11:33:35.598Z"
      },
      {
        "duration": 859,
        "start_time": "2023-03-10T11:33:35.964Z"
      },
      {
        "duration": 18,
        "start_time": "2023-03-10T11:33:36.825Z"
      },
      {
        "duration": 20,
        "start_time": "2023-03-10T11:33:36.847Z"
      },
      {
        "duration": 15,
        "start_time": "2023-03-10T11:33:36.869Z"
      },
      {
        "duration": 39,
        "start_time": "2023-03-10T11:33:36.886Z"
      },
      {
        "duration": 11,
        "start_time": "2023-03-10T11:33:36.928Z"
      },
      {
        "duration": 15,
        "start_time": "2023-03-10T11:33:36.940Z"
      },
      {
        "duration": 5,
        "start_time": "2023-03-10T11:33:36.957Z"
      },
      {
        "duration": 6,
        "start_time": "2023-03-10T11:33:36.964Z"
      },
      {
        "duration": 9,
        "start_time": "2023-03-10T11:33:36.972Z"
      },
      {
        "duration": 29,
        "start_time": "2023-03-10T11:33:36.983Z"
      },
      {
        "duration": 11,
        "start_time": "2023-03-10T11:33:37.014Z"
      },
      {
        "duration": 8,
        "start_time": "2023-03-10T11:33:37.026Z"
      },
      {
        "duration": 8,
        "start_time": "2023-03-10T11:33:37.035Z"
      },
      {
        "duration": 11,
        "start_time": "2023-03-10T11:33:37.045Z"
      },
      {
        "duration": 8,
        "start_time": "2023-03-10T11:33:37.058Z"
      },
      {
        "duration": 18,
        "start_time": "2023-03-10T11:33:37.067Z"
      },
      {
        "duration": 11,
        "start_time": "2023-03-10T11:33:37.087Z"
      },
      {
        "duration": 124117,
        "start_time": "2023-03-10T11:33:37.100Z"
      },
      {
        "duration": 92,
        "start_time": "2023-03-10T11:35:41.222Z"
      },
      {
        "duration": 6,
        "start_time": "2023-03-10T11:35:41.320Z"
      },
      {
        "duration": 25837,
        "start_time": "2023-03-10T11:35:41.328Z"
      },
      {
        "duration": 3,
        "start_time": "2023-03-10T11:36:07.167Z"
      },
      {
        "duration": 13,
        "start_time": "2023-03-10T11:36:07.172Z"
      },
      {
        "duration": 516042,
        "start_time": "2023-03-10T11:36:07.187Z"
      },
      {
        "duration": 3,
        "start_time": "2023-03-10T11:44:43.231Z"
      },
      {
        "duration": 5,
        "start_time": "2023-03-10T11:44:43.236Z"
      },
      {
        "duration": 6,
        "start_time": "2023-03-10T11:44:43.243Z"
      },
      {
        "duration": 5,
        "start_time": "2023-03-10T11:44:43.250Z"
      },
      {
        "duration": 4,
        "start_time": "2023-03-10T11:44:43.257Z"
      },
      {
        "duration": 56,
        "start_time": "2023-03-10T11:44:43.263Z"
      },
      {
        "duration": 92,
        "start_time": "2023-03-10T11:44:43.320Z"
      },
      {
        "duration": 120,
        "start_time": "2023-03-10T11:44:43.414Z"
      },
      {
        "duration": 13,
        "start_time": "2023-03-10T11:44:43.536Z"
      },
      {
        "duration": 2319,
        "start_time": "2023-03-11T07:40:20.459Z"
      },
      {
        "duration": 2912,
        "start_time": "2023-03-11T07:40:22.780Z"
      },
      {
        "duration": 38,
        "start_time": "2023-03-11T07:40:25.694Z"
      },
      {
        "duration": 15,
        "start_time": "2023-03-11T07:40:25.733Z"
      },
      {
        "duration": 14,
        "start_time": "2023-03-11T07:40:25.749Z"
      },
      {
        "duration": 16,
        "start_time": "2023-03-11T07:40:25.765Z"
      },
      {
        "duration": 10,
        "start_time": "2023-03-11T07:40:25.782Z"
      },
      {
        "duration": 5,
        "start_time": "2023-03-11T07:40:25.793Z"
      },
      {
        "duration": 6,
        "start_time": "2023-03-11T07:40:25.800Z"
      },
      {
        "duration": 7,
        "start_time": "2023-03-11T07:40:25.809Z"
      },
      {
        "duration": 20,
        "start_time": "2023-03-11T07:40:25.818Z"
      },
      {
        "duration": 4,
        "start_time": "2023-03-11T07:40:25.839Z"
      },
      {
        "duration": 50,
        "start_time": "2023-03-11T07:40:25.845Z"
      },
      {
        "duration": 4,
        "start_time": "2023-03-11T07:40:25.896Z"
      },
      {
        "duration": 8699,
        "start_time": "2023-03-11T07:40:25.902Z"
      },
      {
        "duration": 12,
        "start_time": "2023-03-11T07:40:34.603Z"
      },
      {
        "duration": 20,
        "start_time": "2023-03-11T07:40:34.616Z"
      },
      {
        "duration": 25,
        "start_time": "2023-03-11T07:40:34.638Z"
      },
      {
        "duration": 1312,
        "start_time": "2023-03-11T07:40:34.665Z"
      },
      {
        "duration": 1311,
        "start_time": "2023-03-11T07:40:35.980Z"
      },
      {
        "duration": 1388,
        "start_time": "2023-03-11T07:40:37.293Z"
      },
      {
        "duration": 390,
        "start_time": "2023-03-11T07:40:38.683Z"
      },
      {
        "duration": 313,
        "start_time": "2023-03-11T07:40:39.075Z"
      },
      {
        "duration": 7,
        "start_time": "2023-03-11T07:40:39.390Z"
      },
      {
        "duration": 388,
        "start_time": "2023-03-11T07:40:39.399Z"
      },
      {
        "duration": 888,
        "start_time": "2023-03-11T07:40:39.789Z"
      },
      {
        "duration": 21,
        "start_time": "2023-03-11T07:40:40.679Z"
      },
      {
        "duration": 946,
        "start_time": "2023-03-11T07:41:35.857Z"
      },
      {
        "duration": 33,
        "start_time": "2023-03-11T07:41:49.003Z"
      },
      {
        "duration": 1172,
        "start_time": "2023-03-11T07:42:03.017Z"
      },
      {
        "duration": 31,
        "start_time": "2023-03-11T07:42:14.105Z"
      },
      {
        "duration": 39,
        "start_time": "2023-03-11T07:42:19.771Z"
      },
      {
        "duration": 15,
        "start_time": "2023-03-11T07:42:27.881Z"
      },
      {
        "duration": 715,
        "start_time": "2023-03-11T07:42:36.133Z"
      },
      {
        "duration": 33,
        "start_time": "2023-03-11T07:42:46.138Z"
      },
      {
        "duration": 11,
        "start_time": "2023-03-11T07:43:24.652Z"
      },
      {
        "duration": 13,
        "start_time": "2023-03-11T07:43:51.159Z"
      },
      {
        "duration": 4,
        "start_time": "2023-03-11T07:43:55.450Z"
      },
      {
        "duration": 1962,
        "start_time": "2023-03-11T07:52:30.155Z"
      },
      {
        "duration": 797,
        "start_time": "2023-03-11T07:52:32.120Z"
      },
      {
        "duration": 43,
        "start_time": "2023-03-11T07:52:32.919Z"
      },
      {
        "duration": 27,
        "start_time": "2023-03-11T07:52:32.964Z"
      },
      {
        "duration": 13,
        "start_time": "2023-03-11T07:52:32.993Z"
      },
      {
        "duration": 6,
        "start_time": "2023-03-11T07:52:33.008Z"
      },
      {
        "duration": 9,
        "start_time": "2023-03-11T07:52:33.016Z"
      },
      {
        "duration": 11,
        "start_time": "2023-03-11T07:52:33.027Z"
      },
      {
        "duration": 38,
        "start_time": "2023-03-11T07:52:33.040Z"
      },
      {
        "duration": 5,
        "start_time": "2023-03-11T07:52:33.081Z"
      },
      {
        "duration": 23,
        "start_time": "2023-03-11T07:52:33.087Z"
      },
      {
        "duration": 3,
        "start_time": "2023-03-11T07:52:33.112Z"
      },
      {
        "duration": 24,
        "start_time": "2023-03-11T07:52:33.117Z"
      },
      {
        "duration": 5,
        "start_time": "2023-03-11T07:52:33.144Z"
      },
      {
        "duration": 8827,
        "start_time": "2023-03-11T07:52:33.178Z"
      },
      {
        "duration": 14,
        "start_time": "2023-03-11T07:52:42.007Z"
      },
      {
        "duration": 17,
        "start_time": "2023-03-11T07:52:42.023Z"
      },
      {
        "duration": 46,
        "start_time": "2023-03-11T07:52:42.041Z"
      },
      {
        "duration": 1517,
        "start_time": "2023-03-11T07:52:42.089Z"
      },
      {
        "duration": 1386,
        "start_time": "2023-03-11T07:52:43.608Z"
      },
      {
        "duration": 1381,
        "start_time": "2023-03-11T07:52:44.996Z"
      },
      {
        "duration": 439,
        "start_time": "2023-03-11T07:52:46.380Z"
      },
      {
        "duration": 358,
        "start_time": "2023-03-11T07:52:46.821Z"
      },
      {
        "duration": 7,
        "start_time": "2023-03-11T07:52:47.182Z"
      },
      {
        "duration": 364,
        "start_time": "2023-03-11T07:52:47.191Z"
      },
      {
        "duration": 932,
        "start_time": "2023-03-11T07:52:47.557Z"
      },
      {
        "duration": 20,
        "start_time": "2023-03-11T07:52:48.491Z"
      },
      {
        "duration": 24,
        "start_time": "2023-03-11T07:52:48.513Z"
      },
      {
        "duration": 31,
        "start_time": "2023-03-11T07:52:48.540Z"
      },
      {
        "duration": 25,
        "start_time": "2023-03-11T07:52:48.573Z"
      },
      {
        "duration": 28,
        "start_time": "2023-03-11T07:52:48.600Z"
      },
      {
        "duration": 27,
        "start_time": "2023-03-11T07:52:48.629Z"
      },
      {
        "duration": 5,
        "start_time": "2023-03-11T07:52:48.659Z"
      },
      {
        "duration": 14,
        "start_time": "2023-03-11T07:52:48.666Z"
      },
      {
        "duration": 17,
        "start_time": "2023-03-11T07:52:48.682Z"
      },
      {
        "duration": 28,
        "start_time": "2023-03-11T07:52:48.701Z"
      },
      {
        "duration": 16,
        "start_time": "2023-03-11T07:52:48.731Z"
      },
      {
        "duration": 15,
        "start_time": "2023-03-11T07:52:48.749Z"
      },
      {
        "duration": 10,
        "start_time": "2023-03-11T07:52:48.767Z"
      },
      {
        "duration": 9,
        "start_time": "2023-03-11T07:52:48.779Z"
      },
      {
        "duration": 9,
        "start_time": "2023-03-11T07:52:48.794Z"
      },
      {
        "duration": 13,
        "start_time": "2023-03-11T07:52:48.805Z"
      },
      {
        "duration": 18,
        "start_time": "2023-03-11T07:52:48.820Z"
      },
      {
        "duration": 114847,
        "start_time": "2023-03-11T07:52:48.840Z"
      },
      {
        "duration": 4,
        "start_time": "2023-03-11T07:54:43.778Z"
      },
      {
        "duration": 99,
        "start_time": "2023-03-11T07:54:43.784Z"
      },
      {
        "duration": 26391,
        "start_time": "2023-03-11T07:54:43.884Z"
      },
      {
        "duration": 3,
        "start_time": "2023-03-11T07:55:10.277Z"
      },
      {
        "duration": 21,
        "start_time": "2023-03-11T07:55:10.282Z"
      },
      {
        "duration": 728042,
        "start_time": "2023-03-11T07:55:10.305Z"
      },
      {
        "duration": 3,
        "start_time": "2023-03-11T08:07:18.349Z"
      },
      {
        "duration": 6,
        "start_time": "2023-03-11T08:07:18.354Z"
      },
      {
        "duration": 9,
        "start_time": "2023-03-11T08:07:18.377Z"
      },
      {
        "duration": 18,
        "start_time": "2023-03-11T08:07:18.391Z"
      },
      {
        "duration": 6,
        "start_time": "2023-03-11T08:07:18.411Z"
      },
      {
        "duration": 67,
        "start_time": "2023-03-11T08:07:18.419Z"
      },
      {
        "duration": 92,
        "start_time": "2023-03-11T08:07:18.489Z"
      },
      {
        "duration": 53,
        "start_time": "2023-03-11T08:07:18.583Z"
      },
      {
        "duration": 14,
        "start_time": "2023-03-11T08:07:18.637Z"
      },
      {
        "duration": 1897,
        "start_time": "2023-03-11T08:07:36.743Z"
      },
      {
        "duration": 741,
        "start_time": "2023-03-11T08:07:38.642Z"
      },
      {
        "duration": 41,
        "start_time": "2023-03-11T08:07:39.384Z"
      },
      {
        "duration": 15,
        "start_time": "2023-03-11T08:07:39.428Z"
      },
      {
        "duration": 38,
        "start_time": "2023-03-11T08:07:39.444Z"
      },
      {
        "duration": 6,
        "start_time": "2023-03-11T08:07:39.483Z"
      },
      {
        "duration": 22,
        "start_time": "2023-03-11T08:07:39.491Z"
      },
      {
        "duration": 20,
        "start_time": "2023-03-11T08:07:39.515Z"
      },
      {
        "duration": 11,
        "start_time": "2023-03-11T08:07:39.537Z"
      },
      {
        "duration": 7,
        "start_time": "2023-03-11T08:07:39.690Z"
      },
      {
        "duration": 24,
        "start_time": "2023-03-11T08:07:39.699Z"
      },
      {
        "duration": 3,
        "start_time": "2023-03-11T08:07:39.869Z"
      },
      {
        "duration": 18,
        "start_time": "2023-03-11T08:07:39.924Z"
      },
      {
        "duration": 4,
        "start_time": "2023-03-11T08:07:40.090Z"
      },
      {
        "duration": 8805,
        "start_time": "2023-03-11T08:07:40.096Z"
      },
      {
        "duration": 12,
        "start_time": "2023-03-11T08:07:48.904Z"
      },
      {
        "duration": 18,
        "start_time": "2023-03-11T08:07:48.918Z"
      },
      {
        "duration": 48,
        "start_time": "2023-03-11T08:07:48.940Z"
      },
      {
        "duration": 1496,
        "start_time": "2023-03-11T08:07:48.990Z"
      },
      {
        "duration": 1392,
        "start_time": "2023-03-11T08:07:50.488Z"
      },
      {
        "duration": 1295,
        "start_time": "2023-03-11T08:07:51.882Z"
      },
      {
        "duration": 402,
        "start_time": "2023-03-11T08:07:53.178Z"
      },
      {
        "duration": 342,
        "start_time": "2023-03-11T08:07:53.582Z"
      },
      {
        "duration": 7,
        "start_time": "2023-03-11T08:07:53.926Z"
      },
      {
        "duration": 362,
        "start_time": "2023-03-11T08:07:53.935Z"
      },
      {
        "duration": 907,
        "start_time": "2023-03-11T08:07:54.300Z"
      },
      {
        "duration": 17,
        "start_time": "2023-03-11T08:07:55.209Z"
      },
      {
        "duration": 12,
        "start_time": "2023-03-11T08:07:55.228Z"
      },
      {
        "duration": 11,
        "start_time": "2023-03-11T08:07:55.241Z"
      },
      {
        "duration": 37,
        "start_time": "2023-03-11T08:07:55.254Z"
      },
      {
        "duration": 11,
        "start_time": "2023-03-11T08:07:55.293Z"
      },
      {
        "duration": 1945,
        "start_time": "2023-03-11T08:08:17.830Z"
      },
      {
        "duration": 771,
        "start_time": "2023-03-11T08:08:19.777Z"
      },
      {
        "duration": 52,
        "start_time": "2023-03-11T08:08:20.550Z"
      },
      {
        "duration": 18,
        "start_time": "2023-03-11T08:08:20.605Z"
      },
      {
        "duration": 14,
        "start_time": "2023-03-11T08:08:20.625Z"
      },
      {
        "duration": 38,
        "start_time": "2023-03-11T08:08:20.641Z"
      },
      {
        "duration": 13,
        "start_time": "2023-03-11T08:08:20.681Z"
      },
      {
        "duration": 13,
        "start_time": "2023-03-11T08:08:20.696Z"
      },
      {
        "duration": 15,
        "start_time": "2023-03-11T08:08:20.711Z"
      },
      {
        "duration": 5,
        "start_time": "2023-03-11T08:08:20.760Z"
      },
      {
        "duration": 19,
        "start_time": "2023-03-11T08:08:20.976Z"
      },
      {
        "duration": 4,
        "start_time": "2023-03-11T08:08:21.107Z"
      },
      {
        "duration": 17,
        "start_time": "2023-03-11T08:08:21.188Z"
      },
      {
        "duration": 4,
        "start_time": "2023-03-11T08:08:21.258Z"
      },
      {
        "duration": 8858,
        "start_time": "2023-03-11T08:08:21.344Z"
      },
      {
        "duration": 12,
        "start_time": "2023-03-11T08:08:30.204Z"
      },
      {
        "duration": 70,
        "start_time": "2023-03-11T08:08:30.218Z"
      },
      {
        "duration": 30,
        "start_time": "2023-03-11T08:08:30.291Z"
      },
      {
        "duration": 1458,
        "start_time": "2023-03-11T08:08:30.323Z"
      },
      {
        "duration": 1283,
        "start_time": "2023-03-11T08:08:31.783Z"
      },
      {
        "duration": 1339,
        "start_time": "2023-03-11T08:08:33.068Z"
      },
      {
        "duration": 398,
        "start_time": "2023-03-11T08:08:34.409Z"
      },
      {
        "duration": 332,
        "start_time": "2023-03-11T08:08:34.809Z"
      },
      {
        "duration": 7,
        "start_time": "2023-03-11T08:08:35.144Z"
      },
      {
        "duration": 392,
        "start_time": "2023-03-11T08:08:35.153Z"
      },
      {
        "duration": 959,
        "start_time": "2023-03-11T08:08:35.546Z"
      },
      {
        "duration": 19,
        "start_time": "2023-03-11T08:08:36.507Z"
      },
      {
        "duration": 14,
        "start_time": "2023-03-11T08:08:36.528Z"
      },
      {
        "duration": 34,
        "start_time": "2023-03-11T08:08:36.544Z"
      },
      {
        "duration": 33,
        "start_time": "2023-03-11T08:08:36.580Z"
      },
      {
        "duration": 50,
        "start_time": "2023-03-11T08:08:36.616Z"
      }
    ],
    "colab": {
      "provenance": []
    },
    "kernelspec": {
      "display_name": "Python 3 (ipykernel)",
      "language": "python",
      "name": "python3"
    },
    "language_info": {
      "codemirror_mode": {
        "name": "ipython",
        "version": 3
      },
      "file_extension": ".py",
      "mimetype": "text/x-python",
      "name": "python",
      "nbconvert_exporter": "python",
      "pygments_lexer": "ipython3",
      "version": "3.9.5"
    },
    "toc": {
      "base_numbering": 1,
      "nav_menu": {},
      "number_sections": true,
      "sideBar": true,
      "skip_h1_title": true,
      "title_cell": "Содержание",
      "title_sidebar": "Contents",
      "toc_cell": true,
      "toc_position": {
        "height": "calc(100% - 180px)",
        "left": "10px",
        "top": "150px",
        "width": "408.883px"
      },
      "toc_section_display": true,
      "toc_window_display": true
    }
  },
  "nbformat": 4,
  "nbformat_minor": 0
}