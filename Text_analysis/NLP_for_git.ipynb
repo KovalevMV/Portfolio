{
  "cells": [
    {
      "cell_type": "markdown",
      "metadata": {
        "id": "yLZyLbeTQs30"
      },
      "source": [
        "# Проект для «Викишоп»"
      ]
    },
    {
      "cell_type": "markdown",
      "metadata": {
        "id": "xZI2y9xQQs31"
      },
      "source": [
        "Интернет-магазин «Викишоп» запускает новый сервис. Теперь пользователи могут редактировать и дополнять описания товаров, как в вики-сообществах. То есть клиенты предлагают свои правки и комментируют изменения других. Магазину нужен инструмент, который будет искать токсичные комментарии и отправлять их на модерацию.\n",
        "\n",
        "Обучите модель классифицировать комментарии на позитивные и негативные. В вашем распоряжении набор данных с разметкой о токсичности правок.\n",
        "\n",
        "Постройте модель со значением метрики качества *F1* не меньше 0.75.\n",
        "\n",
        "**Инструкция по выполнению проекта**\n",
        "\n",
        "1. Загрузите и подготовьте данные.\n",
        "2. Обучите разные модели.\n",
        "3. Сделайте выводы.\n",
        "\n",
        "Для выполнения проекта применять *BERT* необязательно, но вы можете попробовать.\n",
        "\n",
        "**Описание данных**\n",
        "\n",
        "Данные находятся в файле `toxic_comments.csv`. Столбец *text* в нём содержит текст комментария, а *toxic* — целевой признак."
      ]
    },
    {
      "cell_type": "markdown",
      "metadata": {
        "id": "XlO48VYGQs31"
      },
      "source": [
        "## Подготовка"
      ]
    },
    {
      "cell_type": "markdown",
      "metadata": {
        "id": "lW1JpXx6R0Ht"
      },
      "source": [
        "Импортируем необходимые библиотеки"
      ]
    },
    {
      "cell_type": "code",
      "execution_count": null,
      "metadata": {
        "id": "tWFYc6-JQs32"
      },
      "outputs": [],
      "source": [
        "import pandas as pd # импорт библиотеки pandas - *\n",
        "#import numpy as np # импорт библиотеки nump - *\n",
        "import matplotlib.pyplot as plt # импорт библиотеки matplotlib - *\n",
        "import seaborn as sns # импорт библиотеки seaborn *\n",
        "\n",
        "import re # регулярные выражения *\n",
        "\n",
        "import nltk # nlp\n",
        "from nltk.stem import WordNetLemmatizer\n",
        "from nltk.corpus import wordnet\n",
        "from nltk.tokenize import word_tokenize\n",
        "from nltk.corpus import stopwords\n",
        "\n",
        "from sklearn.linear_model import  LogisticRegression\n",
        "\n",
        "\n",
        "from sklearn.feature_extraction.text import TfidfVectorizer\n",
        "from sklearn.model_selection import (train_test_split, RandomizedSearchCV)\n",
        "from sklearn.ensemble import RandomForestClassifier\n",
        "from sklearn.tree import DecisionTreeClassifier\n",
        "\n",
        "import lightgbm as lgb\n",
        "import xgboost as xgb\n",
        "\n",
        "from sklearn.metrics import f1_score\n",
        "\n",
        "from time import time\n",
        "from tqdm import tqdm\n",
        "\n",
        "import warnings # Фильтр предупреждений определяет, будут ли предупреждения игнорироваться -\n",
        "\n",
        "sns.set_style('darkgrid') # настройка элементов графика, темная тема\n",
        "sns.set_palette('muted') # устанавливает цветовую палитру в качестве текущей\n",
        "plt.style.use('dark_background')\n",
        "\n",
        "warnings.filterwarnings('ignore')"
      ]
    },
    {
      "cell_type": "markdown",
      "metadata": {
        "id": "i2J2-qlneKmB"
      },
      "source": [
        "Чтение файла - Набор данных (Data set):"
      ]
    },
    {
      "cell_type": "code",
      "execution_count": null,
      "metadata": {
        "id": "V3e8j4qLeMIz"
      },
      "outputs": [],
      "source": [
        "try:\n",
        "    df  = pd.read_csv('/datasets/toxic_comments.csv')\n",
        "\n",
        "except:\n",
        "    df  = pd.read_csv('toxic_comments.csv')"
      ]
    },
    {
      "cell_type": "code",
      "execution_count": null,
      "metadata": {
        "colab": {
          "base_uri": "https://localhost:8080/",
          "height": 626
        },
        "id": "Ej2L2j1keS2z",
        "outputId": "76150f3f-2a87-42a0-e616-e3635d8adf05"
      },
      "outputs": [
        {
          "data": {},
          "execution_count": 3,
          "metadata": {},
          "output_type": "execute_result"
        }
      ],
      "source": [
        "pd.set_option('display.max_columns', None) # смотреть все  столбцы\n",
        "print(df.info())\n",
        "df"
      ]
    },
    {
      "cell_type": "markdown",
      "metadata": {
        "id": "7uggs1-GfBvC"
      },
      "source": [
        "Посмотрим на распределение целевого признака"
      ]
    },
    {
      "cell_type": "code",
      "execution_count": null,
      "metadata": {
        "colab": {
          "base_uri": "https://localhost:8080/"
        },
        "id": "9rcUg5qlfJsd",
        "outputId": "e0734794-e26d-48b7-a067-24c7b76720d1"
      },
      "outputs": [
        {
          "data": {},
          "execution_count": 4,
          "metadata": {},
          "output_type": "execute_result"
        }
      ],
      "source": [
        "df['toxic'].value_counts()"
      ]
    },
    {
      "cell_type": "code",
      "execution_count": null,
      "metadata": {
        "colab": {
          "base_uri": "https://localhost:8080/",
          "height": 468
        },
        "id": "kOe4CkGXgqj7",
        "outputId": "e3f4ea8c-d02a-4948-a2d2-b755b0124386"
      },
      "outputs": [
        {
          "data": {
            "image/png": "[encoded data removed]"
          },
          "metadata": {},
          "output_type": "display_data"
        }
      ],
      "source": [
        "df['toxic'].hist()\n",
        "plt.xlabel('Целевой признак', fontsize= 8)\n",
        "plt.ylabel('Кол-во', fontsize= 8)\n",
        "plt.title('Соотношения целевого признака  \"toxic\"');"
      ]
    },
    {
      "cell_type": "markdown",
      "metadata": {
        "id": "wcTBbh7yfRuM"
      },
      "source": [
        "Присутствует дисбаланс в целевом признаке. Количество токсичных комментариев меньше. Учьтем это при обучении моделей."
      ]
    },
    {
      "cell_type": "markdown",
      "metadata": {
        "id": "_VKmh742iVli"
      },
      "source": [
        "Создадим функцию, которая очистит текст для будущей лемматизации при помощи регулярных выражений и функцию для упращения самого текста:"
      ]
    },
    {
      "cell_type": "code",
      "execution_count": null,
      "metadata": {
        "id": "JY1ZbiehaYel"
      },
      "outputs": [],
      "source": [
        "def get_wordnet_pos(word):\n",
        "    tag = nltk.pos_tag([word])[0][1][0].upper()\n",
        "    tag_dict = {\"J\": wordnet.ADJ,\n",
        "                \"N\": wordnet.NOUN,\n",
        "                \"V\": wordnet.VERB,\n",
        "                \"R\": wordnet.ADV}\n",
        "    return tag_dict.get(tag, wordnet.NOUN)"
      ]
    },
    {
      "cell_type": "code",
      "execution_count": null,
      "metadata": {
        "id": "ddDUuUhli5ZP"
      },
      "outputs": [],
      "source": [
        "def lemmatize(text):\n",
        "    lemmatizer = WordNetLemmatizer()\n",
        "    lemm_list = nltk.word_tokenize(text)\n",
        "    lemm_text = ' '.join([lemmatizer.lemmatize(w, get_wordnet_pos(w)) for w in lemm_list])\n",
        "    return lemm_text"
      ]
    },
    {
      "cell_type": "code",
      "execution_count": null,
      "metadata": {
        "id": "rxKzgErNiePQ"
      },
      "outputs": [],
      "source": [
        "def clear_text(text):\n",
        "    clear_text = re.sub(r'[^a-zA-Z]', ' ', text)\n",
        "    clear_text = clear_text.lower().split()\n",
        "    return ' '.join(clear_text)"
      ]
    },
    {
      "cell_type": "code",
      "execution_count": null,
      "metadata": {
        "colab": {
          "base_uri": "https://localhost:8080/"
        },
        "id": "0B00k2OigU3H",
        "outputId": "ca9a1ff6-0246-45e4-ba26-49bd46999ee8"
      },
      "outputs": [
        {
          "data": {},
          "execution_count": 9,
          "metadata": {},
          "output_type": "execute_result"
        }
      ],
      "source": [
        "# загрузка необходимых компонентов\n",
        "nltk.download('punkt')\n",
        "nltk.download('wordnet')\n",
        "nltk.download('averaged_perceptron_tagger')"
      ]
    },
    {
      "cell_type": "markdown",
      "metadata": {
        "id": "_UVPsdEBjrD0"
      },
      "source": [
        "Проверим, что функции работают корректно на тексте первой строке :"
      ]
    },
    {
      "cell_type": "code",
      "execution_count": null,
      "metadata": {
        "colab": {
          "base_uri": "https://localhost:8080/",
          "height": 73
        },
        "id": "ph3szG2uj2aR",
        "outputId": "fa64f28a-0d53-436e-b3d2-32ddd1b89984"
      },
      "outputs": [
        {
          "data": {
            "application/vnd.google.colaboratory.intrinsic+json": {
              "type": "string"
            }
          },
          "execution_count": 10,
          "metadata": {},
          "output_type": "execute_result"
        }
      ],
      "source": [
        "df.loc[0, 'text'] # было"
      ]
    },
    {
      "cell_type": "code",
      "execution_count": null,
      "metadata": {
        "colab": {
          "base_uri": "https://localhost:8080/",
          "height": 55
        },
        "id": "cQyJDv2gj2Yc",
        "outputId": "03cc5667-73c9-454a-aebe-62182cc52d7a",
        "scrolled": true
      },
      "outputs": [
        {
          "data": {
            "application/vnd.google.colaboratory.intrinsic+json": {
              "type": "string"
            }
          },
          "execution_count": 11,
          "metadata": {},
          "output_type": "execute_result"
        }
      ],
      "source": [
        "lemmatize(clear_text(df.loc[0, 'text'])) # стало"
      ]
    },
    {
      "cell_type": "markdown",
      "metadata": {
        "id": "-FVnJrA1i963"
      },
      "source": [
        "Применим эти функции к всему столбцу"
      ]
    },
    {
      "cell_type": "code",
      "execution_count": null,
      "metadata": {
        "colab": {
          "base_uri": "https://localhost:8080/"
        },
        "id": "PQjrzMOijL0n",
        "outputId": "a99cf322-1481-4c61-dd2d-b4f07f58278c"
      },
      "outputs": [
        {
          "data": {},
          "execution_count": 12,
          "metadata": {},
          "output_type": "execute_result"
        }
      ],
      "source": [
        "df['lemm_text'] = df['text'].apply(clear_text)\n",
        "df['lemm_text'] = df['lemm_text'].apply(lemmatize)\n",
        "\n",
        "df['lemm_text']"
      ]
    },
    {
      "cell_type": "markdown",
      "metadata": {
        "id": "7iNNWMU7i94F"
      },
      "source": [
        "Для определения тематики и тональность текста, необходимо провести обучение на корпусе (это набор текстов, в котором эмоции и ключевые слова уже размечены).\n"
      ]
    },
    {
      "cell_type": "code",
      "execution_count": null,
      "metadata": {
        "id": "nnGjmEoAlpq4"
      },
      "outputs": [],
      "source": [
        "# Разделим датасет на тренировочную и тестовую выборки ( в пропорциях 4:1) соответственно от общих данных:\n",
        "train_features, test_features, train_target, test_target = train_test_split(\n",
        "    df['lemm_text'], df['toxic'], test_size=0.25, random_state=17)"
      ]
    },
    {
      "cell_type": "code",
      "execution_count": null,
      "metadata": {
        "colab": {
          "base_uri": "https://localhost:8080/"
        },
        "id": "rMo7wek1thBW",
        "outputId": "43ac5be2-dca3-426d-e224-1753c6ee5b81"
      },
      "outputs": [
        {
          "data": {},
          "execution_count": 14,
          "metadata": {},
          "output_type": "execute_result"
        }
      ],
      "source": [
        "# Посмотрим на результат деления\n",
        "train_features.shape, test_features.shape, train_target.shape, test_target.shape"
      ]
    },
    {
      "cell_type": "markdown",
      "metadata": {
        "id": "uppddp40r3xd"
      },
      "source": [
        "Создададим корпуса слов для обучающей и тестовой выборок:"
      ]
    },
    {
      "cell_type": "code",
      "execution_count": null,
      "metadata": {
        "id": "DfaQUdsqr5Mt"
      },
      "outputs": [],
      "source": [
        "train_corpus = train_features.values #.astype('U')\n",
        "test_corpus = test_features.values #.astype('U')"
      ]
    },
    {
      "cell_type": "code",
      "execution_count": null,
      "metadata": {
        "colab": {
          "base_uri": "https://localhost:8080/"
        },
        "id": "cV39kNLof4Pz",
        "outputId": "16ed9d35-911e-4336-bd27-e484ffacb2cc"
      },
      "outputs": [
        {
          "data": {},
          "execution_count": 16,
          "metadata": {},
          "output_type": "execute_result"
        }
      ],
      "source": [
        "# загрузка необходимых файлов для английской библиотеки лемматизатора:\n",
        "nltk.download('stopwords')"
      ]
    },
    {
      "cell_type": "code",
      "execution_count": null,
      "metadata": {
        "id": "mn1Tsv9Yzkyk"
      },
      "outputs": [],
      "source": [
        "# Создадим список, который содержит стоп-слова, и все они будут удалены из результирующих токенов\n",
        "stop_words = stopwords.words('english')"
      ]
    },
    {
      "cell_type": "markdown",
      "metadata": {
        "id": "v2J-Cr--mvV_"
      },
      "source": [
        "Мешок слов учитывает частоту употребления слов. Оценка важности слова определяется величиной TF-IDF (от англ. term frequency, «частота терма, или слова»; inverse document frequency, «обратная частота документа, или текста»).\n",
        "\n",
        "То есть TF отвечает за количество упоминаний слова в отдельном тексте, а IDF отражает частоту его употребления во всём корпусе.\n",
        "\n",
        "Воспользуемся TfidfVectorizer и, чтобы почистить мешок слов, добавим в него стоп-слова:"
      ]
    },
    {
      "cell_type": "code",
      "execution_count": null,
      "metadata": {
        "id": "CYcWj68llpof"
      },
      "outputs": [],
      "source": [
        "# Создадим счётчик, указав в нём стоп-слова, вызовем функцию .fit_transform() для обучающей выборки и .transform() для тестовой:\n",
        "count_tf_idf = TfidfVectorizer(stop_words=stop_words)\n",
        "tf_idf_train = count_tf_idf.fit_transform(train_corpus)\n",
        "tf_idf_test = count_tf_idf.transform(test_corpus)"
      ]
    },
    {
      "cell_type": "code",
      "execution_count": null,
      "metadata": {
        "id": "XydgrVZ9m5cH"
      },
      "outputs": [],
      "source": [
        "# Посмотрим\n",
        "print(\"Размер матрицы:\", tf_idf_train.shape)\n",
        "print(\"Размер матрицы:\", tf_idf_test.shape)"
      ]
    },
    {
      "cell_type": "markdown",
      "metadata": {
        "id": "Pf0Z0bGOQs33"
      },
      "source": [
        "## Обучение\n",
        "\n",
        "Обучим модели и оценим полученные результаты.\n",
        "\n"
      ]
    },
    {
      "cell_type": "markdown",
      "metadata": {
        "id": "fEdTxeCbjpKM"
      },
      "source": [
        "Создаём сводную таблицу для сбора и анализа  результатов"
      ]
    },
    {
      "cell_type": "code",
      "execution_count": null,
      "metadata": {
        "id": "nDHtHoAFjyM5"
      },
      "outputs": [],
      "source": [
        "analisys = pd.DataFrame({'model':[], 'F1_model':[], 'F1_on_train':[]})\n",
        "all_models = []"
      ]
    },
    {
      "cell_type": "markdown",
      "metadata": {
        "id": "lp-0j24PjLbr"
      },
      "source": [
        "Чтобы ускорить вычисления и подборать лучшие параметры, используем RandomizedSearchSV"
      ]
    },
    {
      "cell_type": "code",
      "execution_count": null,
      "metadata": {
        "id": "w4sxdww4Qs33"
      },
      "outputs": [],
      "source": [
        "# создаём функцию для подбора параметров\n",
        "def train_model(model, parameters):\n",
        "\n",
        "    model_random = RandomizedSearchCV(\n",
        "        estimator=model,\n",
        "        param_distributions=parameters,\n",
        "        scoring='f1',\n",
        "        n_jobs=-1,\n",
        "        cv=4,\n",
        "        verbose=2\n",
        "    )\n",
        "\n",
        "    # подсчитаем скорость вычисления\n",
        "    start = time()\n",
        "    model_random.fit(tf_idf_train, train_target)\n",
        "    print('RandomizedSearchCV подбирал параметры %.2f секунд' %(time() - start))\n",
        "\n",
        "    # высчитаем метрики\n",
        "    f1 = model_random.best_score_\n",
        "    f1_on_train = f1_score(train_target, model_random.predict(tf_idf_train))\n",
        "\n",
        "    print('Лучшие параметры:', model_random.best_params_)\n",
        "    print('F1 обученной модели:', f1)\n",
        "    print('F1 на тренировочной выборке:', f1_on_train)\n",
        "\n",
        "    # заполним все таблицы\n",
        "    all_models.append(model_random)\n",
        "    row = []\n",
        "    row.extend([model, f1, f1_on_train])\n",
        "    analisys.loc[len(analisys.index)] = row\n",
        "\n",
        "    return model_random"
      ]
    },
    {
      "cell_type": "markdown",
      "metadata": {
        "id": "FrxSFE3bkkvx"
      },
      "source": [
        "Логистическая регрессия"
      ]
    },
    {
      "cell_type": "code",
      "execution_count": null,
      "metadata": {
        "id": "vm0DdFK4kpKc"
      },
      "outputs": [],
      "source": [
        "# Параметры рандомные\n",
        "ran_lr = {\n",
        "    \"penalty\": ['l1', 'l2', 'elasticnet', 'none'],\n",
        "    \"class_weight\": ['balanced', 'none'],\n",
        "}\n",
        "\n",
        "logr = LogisticRegression(max_iter=1000)\n",
        "\n",
        "lr_random = train_model(logr, ran_lr) # обучим и сохраним значения"
      ]
    },
    {
      "cell_type": "markdown",
      "metadata": {
        "id": "zlCJX18wlepA"
      },
      "source": [
        "Дерево решений"
      ]
    },
    {
      "cell_type": "code",
      "execution_count": null,
      "metadata": {
        "id": "d4WCzYF2ldwr"
      },
      "outputs": [],
      "source": [
        "# Параметры рандомные\n",
        "ran_grid_tree = {\n",
        "    \"max_depth\": list(range(50, 56))\n",
        "}\n",
        "\n",
        "dtr = DecisionTreeClassifier()\n",
        "\n",
        "dtr_random = train_model(dtr, ran_grid_tree)"
      ]
    },
    {
      "cell_type": "markdown",
      "metadata": {
        "id": "jMe_MT4zl8R8"
      },
      "source": [
        "Случайный лес"
      ]
    },
    {
      "cell_type": "code",
      "execution_count": null,
      "metadata": {
        "id": "pUPHp7AVldur"
      },
      "outputs": [],
      "source": [
        "# Параметры рандомные\n",
        "ran_grid_forest = {\n",
        "    'max_depth': [300, 310],\n",
        "    'n_estimators': [12, 14],\n",
        "}\n",
        "\n",
        "rfc = RandomForestClassifier(n_jobs=-1)\n",
        "\n",
        "rfc_random = train_model(rfc, ran_grid_forest)"
      ]
    },
    {
      "cell_type": "markdown",
      "metadata": {
        "id": "Xjj6z4ZomaXj"
      },
      "source": [
        "LightGBM"
      ]
    },
    {
      "cell_type": "code",
      "execution_count": null,
      "metadata": {
        "id": "m5zeopV3mfjn"
      },
      "outputs": [],
      "source": [
        "# Параметры рандомные\n",
        "rand_lgbm_param = {\n",
        "    'max_depth': [20, 25],\n",
        "    'learning_rate': [0.1, 0.3]\n",
        "}\n",
        "\n",
        "gbm = lgb.LGBMClassifier(\n",
        "    boosting_type='gbdt',\n",
        "    n_jobs=-1\n",
        ")\n",
        "\n",
        "gbm_random= train_model(gbm, rand_lgbm_param)"
      ]
    },
    {
      "cell_type": "markdown",
      "metadata": {
        "id": "EokJ4PIsnY9K"
      },
      "source": [
        "XGBoost"
      ]
    },
    {
      "cell_type": "code",
      "execution_count": null,
      "metadata": {
        "id": "BQAe9Xflndx6"
      },
      "outputs": [],
      "source": [
        "# Параметры рандомные\n",
        "rand_xgb_param = {\n",
        "    'max_depth': [6, 7, 8, 9],\n",
        "    'learning_rate': [0.5, 1.0]\n",
        "}\n",
        "\n",
        "xb = xgb.XGBClassifier(booster='gbtree',\n",
        "                      use_rmm=True,\n",
        "                      n_jobs=-1)\n",
        "\n",
        "xb_random = train_model(xb, rand_xgb_param)"
      ]
    },
    {
      "cell_type": "markdown",
      "metadata": {
        "id": "E6ZFaRNwnY56"
      },
      "source": [
        "Анализ полученных метрик и выбор модели:"
      ]
    },
    {
      "cell_type": "markdown",
      "metadata": {
        "id": "0oUQYe-_Qs34"
      },
      "source": [
        "## Выводы"
      ]
    },
    {
      "cell_type": "code",
      "execution_count": null,
      "metadata": {
        "colab": {
          "base_uri": "https://localhost:8080/",
          "height": 1000
        },
        "id": "NkwjtA0RQs34",
        "outputId": "af380dce-8437-471e-c40f-bb7ccc574813"
      },
      "outputs": [
        {
          "data": {},
          "metadata": {},
          "output_type": "display_data"
        },
        {
          "data": {
            "image/png": "[encoded data removed]"
          },
          "metadata": {},
          "output_type": "display_data"
        },
        {
          "data": {
            "image/png": "[encoded data removed]"
          },
          "metadata": {},
          "output_type": "display_data"
        }
      ],
      "source": [
        "all_names = pd.DataFrame({'names':[ 'LogisticRegression', 'DecisionTree', 'RandomForest', 'LightGBM', 'XGBoost']})\n",
        "analisys = pd.concat([analisys, all_names], axis=1, join='inner')\n",
        "display(analisys)\n",
        "\n",
        "analisys.plot.bar(y='F1_model', x='names', rot=45, figsize=(16, 8), color='#3399ff')\n",
        "plt.title('Сравнение метрик моделей', fontsize='x-large')\n",
        "plt.xlabel('Модель')\n",
        "plt.show()\n",
        "\n",
        "analisys.plot.bar(y='F1_on_train', x='names', rot=45, figsize=(16, 8), color='#1fffc7')\n",
        "plt.title('Сравнение метрик на тренировочной выборке', fontsize='x-large')\n",
        "plt.xlabel('Модель')\n",
        "plt.show()"
      ]
    },
    {
      "cell_type": "markdown",
      "metadata": {
        "id": "zBn-miWzpM9X"
      },
      "source": [
        "### Общий вывод:\n",
        "\n",
        "Исходя из полученных метрик качества моделей, лучшая модель на RandomizedSearchCV - LightGBM c параметрами max_depth: 25, learning_rate: 0.3. На тренировочной выборке, лучшую метрику показывает модель Случайного леса, но и худшую на подборе параметров, то есть модель переобучена и не показывает нужных метрик.\n",
        "\n",
        "Для финальных результатов и проверки качества на тестовой выборке воспользуемся моделью LightGBM, которая уже обучена."
      ]
    },
    {
      "cell_type": "code",
      "execution_count": null,
      "metadata": {
        "id": "Ullh7INXpZOL"
      },
      "outputs": [],
      "source": [
        "# Подсчитаем метрики на тестовой выборке:\n",
        "predicted = gbm_random.predict(tf_idf_test)\n",
        "print('F1 лучшей модели на тестовой выборке:', f1_score(test_target, predicted))"
      ]
    },
    {
      "cell_type": "markdown",
      "metadata": {
        "id": "Ssmq_tO3pfU0"
      },
      "source": [
        "Вывод:\n",
        "\n",
        "Необходимые метрики достигнуты, модель LightGBM, обученная через RandomizedSearchCV, предсказывает с необходимой метрикой: F1 > 0.75."
      ]
    },
    {
      "cell_type": "markdown",
      "metadata": {
        "id": "JYDxfTQpQs35"
      },
      "source": [
        "## Чек-лист проверки"
      ]
    },
    {
      "cell_type": "markdown",
      "metadata": {
        "id": "CkymvMAtQs35"
      },
      "source": [
        "- [x]  Jupyter Notebook открыт\n",
        "- [ ]  Весь код выполняется без ошибок\n",
        "- [ ]  Ячейки с кодом расположены в порядке исполнения\n",
        "- [ ]  Данные загружены и подготовлены\n",
        "- [ ]  Модели обучены\n",
        "- [ ]  Значение метрики *F1* не меньше 0.75\n",
        "- [ ]  Выводы написаны"
      ]
    },
    {
      "cell_type": "markdown",
      "metadata": {
        "id": "0Lu2aYrLQ_y9"
      },
      "source": [
        "<div style=\"background: #B0E0E6; padding: 5px; border: 1px solid SteelBlue; border-radius: 5px;\">\n",
        "    <font color='4682B4'><u><b>!!!!!!!!!!!!!!!!!!!!!!!!!!!!!!!!!!!!!!!!!!!!!!!!!!!!!!!!!!!!!\n",
        "</b></u></font>\n",
        "   \n",
        "</div>"
      ]
    }
  ],
  "metadata": {
    "ExecuteTimeLog": [
      {
        "duration": 2333,
        "start_time": "2023-04-28T09:06:55.278Z"
      },
      {
        "duration": 3493,
        "start_time": "2023-04-28T09:07:00.676Z"
      },
      {
        "duration": 43,
        "start_time": "2023-04-28T09:07:06.046Z"
      },
      {
        "duration": 6,
        "start_time": "2023-04-28T09:08:45.310Z"
      },
      {
        "duration": 186,
        "start_time": "2023-04-28T09:08:46.862Z"
      },
      {
        "duration": 178,
        "start_time": "2023-04-28T09:09:08.655Z"
      },
      {
        "duration": 48,
        "start_time": "2023-04-28T09:10:25.734Z"
      },
      {
        "duration": 62,
        "start_time": "2023-04-28T09:11:20.295Z"
      },
      {
        "duration": 3,
        "start_time": "2023-04-28T09:21:38.203Z"
      },
      {
        "duration": 4,
        "start_time": "2023-04-28T09:21:43.041Z"
      },
      {
        "duration": 3,
        "start_time": "2023-04-28T09:24:46.340Z"
      },
      {
        "duration": 5,
        "start_time": "2023-04-28T09:25:08.850Z"
      },
      {
        "duration": 264,
        "start_time": "2023-04-28T09:25:39.311Z"
      },
      {
        "duration": 4,
        "start_time": "2023-04-28T09:27:58.427Z"
      },
      {
        "duration": 4,
        "start_time": "2023-04-28T09:28:00.901Z"
      },
      {
        "duration": 4,
        "start_time": "2023-04-28T09:28:03.795Z"
      },
      {
        "duration": 6,
        "start_time": "2023-04-28T09:28:07.484Z"
      },
      {
        "duration": 10,
        "start_time": "2023-04-28T09:28:18.555Z"
      },
      {
        "duration": 1398,
        "start_time": "2023-04-28T09:28:21.795Z"
      },
      {
        "duration": 6,
        "start_time": "2023-04-28T09:29:38.512Z"
      },
      {
        "duration": 846,
        "start_time": "2023-04-28T09:29:38.520Z"
      },
      {
        "duration": 37,
        "start_time": "2023-04-28T09:29:39.367Z"
      },
      {
        "duration": 6,
        "start_time": "2023-04-28T09:29:39.405Z"
      },
      {
        "duration": 243,
        "start_time": "2023-04-28T09:29:39.412Z"
      },
      {
        "duration": 4,
        "start_time": "2023-04-28T09:29:39.660Z"
      },
      {
        "duration": 8,
        "start_time": "2023-04-28T09:29:39.668Z"
      },
      {
        "duration": 5,
        "start_time": "2023-04-28T09:29:39.679Z"
      },
      {
        "duration": 8,
        "start_time": "2023-04-28T09:29:39.686Z"
      },
      {
        "duration": 11,
        "start_time": "2023-04-28T09:29:39.698Z"
      },
      {
        "duration": 59,
        "start_time": "2023-04-28T09:29:39.711Z"
      },
      {
        "duration": 4,
        "start_time": "2023-04-28T09:30:12.388Z"
      },
      {
        "duration": 25,
        "start_time": "2023-04-28T09:30:15.220Z"
      },
      {
        "duration": 3,
        "start_time": "2023-04-28T09:33:26.798Z"
      },
      {
        "duration": 4,
        "start_time": "2023-04-28T09:33:35.021Z"
      },
      {
        "duration": 18,
        "start_time": "2023-04-28T09:33:37.277Z"
      },
      {
        "duration": 3,
        "start_time": "2023-04-28T09:35:08.854Z"
      },
      {
        "duration": 18,
        "start_time": "2023-04-28T09:35:32.318Z"
      },
      {
        "duration": 6,
        "start_time": "2023-04-28T09:38:57.037Z"
      },
      {
        "duration": 796,
        "start_time": "2023-04-28T09:38:57.045Z"
      },
      {
        "duration": 41,
        "start_time": "2023-04-28T09:38:57.844Z"
      },
      {
        "duration": 5,
        "start_time": "2023-04-28T09:38:57.887Z"
      },
      {
        "duration": 193,
        "start_time": "2023-04-28T09:38:57.894Z"
      },
      {
        "duration": 4,
        "start_time": "2023-04-28T09:38:58.088Z"
      },
      {
        "duration": 7,
        "start_time": "2023-04-28T09:38:58.093Z"
      },
      {
        "duration": 4,
        "start_time": "2023-04-28T09:38:58.101Z"
      },
      {
        "duration": 6,
        "start_time": "2023-04-28T09:39:04.311Z"
      },
      {
        "duration": 8,
        "start_time": "2023-04-28T09:39:13.222Z"
      },
      {
        "duration": 34,
        "start_time": "2023-04-28T09:39:26.903Z"
      },
      {
        "duration": 8,
        "start_time": "2023-04-28T09:40:15.410Z"
      },
      {
        "duration": 835,
        "start_time": "2023-04-28T09:40:15.421Z"
      },
      {
        "duration": 38,
        "start_time": "2023-04-28T09:40:16.262Z"
      },
      {
        "duration": 8,
        "start_time": "2023-04-28T09:40:16.302Z"
      },
      {
        "duration": 223,
        "start_time": "2023-04-28T09:40:16.312Z"
      },
      {
        "duration": 5,
        "start_time": "2023-04-28T09:40:16.536Z"
      },
      {
        "duration": 22,
        "start_time": "2023-04-28T09:40:16.543Z"
      },
      {
        "duration": 8,
        "start_time": "2023-04-28T09:40:16.567Z"
      },
      {
        "duration": 518,
        "start_time": "2023-04-28T09:40:16.577Z"
      },
      {
        "duration": 9,
        "start_time": "2023-04-28T09:40:33.773Z"
      },
      {
        "duration": 104,
        "start_time": "2023-04-28T09:40:38.239Z"
      },
      {
        "duration": 60,
        "start_time": "2023-04-28T09:47:57.579Z"
      },
      {
        "duration": 4102,
        "start_time": "2023-04-28T09:49:20.769Z"
      },
      {
        "duration": 1153186,
        "start_time": "2023-04-28T09:49:43.714Z"
      },
      {
        "duration": 4962843,
        "start_time": "2023-04-28T11:48:55.524Z"
      },
      {
        "duration": 0,
        "start_time": "2023-04-28T13:11:38.369Z"
      },
      {
        "duration": 0,
        "start_time": "2023-04-28T13:11:38.371Z"
      },
      {
        "duration": 0,
        "start_time": "2023-04-28T13:11:38.372Z"
      }
    ],
    "colab": {
      "provenance": []
    },
    "kernelspec": {
      "display_name": "Python 3 (ipykernel)",
      "language": "python",
      "name": "python3"
    },
    "language_info": {
      "codemirror_mode": {
        "name": "ipython",
        "version": 3
      },
      "file_extension": ".py",
      "mimetype": "text/x-python",
      "name": "python",
      "nbconvert_exporter": "python",
      "pygments_lexer": "ipython3",
      "version": "3.9.5"
    },
    "toc": {
      "base_numbering": 1,
      "nav_menu": {},
      "number_sections": true,
      "sideBar": true,
      "skip_h1_title": true,
      "title_cell": "Содержание",
      "title_sidebar": "Contents",
      "toc_cell": true,
      "toc_position": {
        "height": "calc(100% - 180px)",
        "left": "10px",
        "top": "150px",
        "width": "302.391px"
      },
      "toc_section_display": true,
      "toc_window_display": false
    }
  },
  "nbformat": 4,
  "nbformat_minor": 0
}